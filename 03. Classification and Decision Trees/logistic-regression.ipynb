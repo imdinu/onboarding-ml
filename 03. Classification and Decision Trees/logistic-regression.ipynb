{
 "cells": [
  {
   "cell_type": "markdown",
   "metadata": {},
   "source": [
    "# Classification with Logistic Regression"
   ]
  },
  {
   "cell_type": "markdown",
   "metadata": {},
   "source": [
    "## Toy examples"
   ]
  },
  {
   "cell_type": "code",
   "execution_count": null,
   "metadata": {},
   "outputs": [],
   "source": [
    "import numpy as np\n",
    "import pandas as pd\n",
    "import matplotlib.pyplot as plt\n",
    "%matplotlib inline"
   ]
  },
  {
   "cell_type": "code",
   "execution_count": null,
   "metadata": {},
   "outputs": [],
   "source": [
    "from sklearn.datasets import make_circles"
   ]
  },
  {
   "cell_type": "markdown",
   "metadata": {},
   "source": [
    "We'll start from a simple 2D dataset that cannot be separated linearly:"
   ]
  },
  {
   "cell_type": "code",
   "execution_count": null,
   "metadata": {},
   "outputs": [],
   "source": [
    "X, y = make_circles(500, noise=0.2, factor=0.4)\n",
    "\n",
    "def plot_data_and_model_decision(\n",
    "    X, y,\n",
    "    model=None,\n",
    "    x1limits=(-2, 2),\n",
    "    x2limits=(-2, 2),\n",
    "    npoints=250\n",
    "):\n",
    "    plt.figure(figsize=(6, 6), dpi=100)\n",
    "    plt.scatter(*X.T, c=y, cmap='PiYG')\n",
    "    \n",
    "    plt.xlim(*x1limits)\n",
    "    plt.ylim(*x2limits)\n",
    "    \n",
    "    if model is not None:\n",
    "        xx1, xx2 = np.meshgrid(\n",
    "            np.linspace(*x1limits, npoints),\n",
    "            np.linspace(*x2limits, npoints)\n",
    "        )\n",
    "        yy = model.predict(\n",
    "            np.stack([xx1.ravel(), xx2.ravel()], axis=1)\n",
    "        ).reshape(xx1.shape)\n",
    "        \n",
    "        plt.contourf(xx1, xx2, yy, levels=30, cmap='PiYG', alpha=0.5)\n",
    "\n",
    "plot_data_and_model_decision(X, y)"
   ]
  },
  {
   "cell_type": "markdown",
   "metadata": {},
   "source": [
    "This time we'll use the pre-implemented logistic regression model from sklearn:"
   ]
  },
  {
   "cell_type": "code",
   "execution_count": null,
   "metadata": {},
   "outputs": [],
   "source": [
    "from sklearn.linear_model import LogisticRegression"
   ]
  },
  {
   "cell_type": "markdown",
   "metadata": {},
   "source": [
    "Let's create and fit the model:"
   ]
  },
  {
   "cell_type": "code",
   "execution_count": null,
   "metadata": {},
   "outputs": [],
   "source": [
    "model = LogisticRegression(penalty='none') # We'll discuss different penalty terms in the next lecture.\n",
    "                                           # So far let's use the model without penalty.\n",
    "model.fit(X, y)\n",
    "\n",
    "plot_data_and_model_decision(X, y, model)"
   ]
  },
  {
   "cell_type": "markdown",
   "metadata": {},
   "source": [
    "Ok, so obviously this model doesn't solve our problem. Let's introduce one more feature to help it:\n",
    "$$x_3 = x_1^2 + x_2^2$$\n",
    "\n",
    "Fill the gaps in the code below. The input argument `X` is the design matrix of shape `(N, 2)`, where `N` is the number of objects in the dataset. The output should be a `(N, 3)` matrix with the first two columns of the original matrix and a third column with $x_3$ defined above.\n",
    "\n",
    "*Hint: you may want to use one of the `np.stack` or `np.concatenate` functions. You can select a single column of `X` by calling `X[:,i]`, or a range of columns `X[:,i:j]`. Alternatively you may use functions like `X.sum(axis=some_axis)`.*"
   ]
  },
  {
   "cell_type": "code",
   "execution_count": null,
   "metadata": {
    "deletable": false,
    "nbgrader": {
     "cell_type": "code",
     "checksum": "2c1c24a7317d947882cb8da14551b4a7",
     "grade": false,
     "grade_id": "cell-69e86f9b6c4ec605",
     "locked": false,
     "schema_version": 3,
     "solution": true,
     "task": false
    }
   },
   "outputs": [],
   "source": [
    "def expand(X):\n",
    "    # your code here\n",
    "    raise NotImplementedError"
   ]
  },
  {
   "cell_type": "markdown",
   "metadata": {},
   "source": [
    "Once ready, check whether your code passes the assertions below."
   ]
  },
  {
   "cell_type": "code",
   "execution_count": null,
   "metadata": {
    "deletable": false,
    "editable": false,
    "nbgrader": {
     "cell_type": "code",
     "checksum": "74884f4a12cce64e151cf6a29188b816",
     "grade": true,
     "grade_id": "ExpandFeatures",
     "locked": true,
     "points": 1,
     "schema_version": 3,
     "solution": false,
     "task": false
    }
   },
   "outputs": [],
   "source": [
    "dummy_features = np.array([[ 0.21229302, -0.81899763],\n",
    "                           [ 0.27464688,  1.06161091],\n",
    "                           [-0.53345235,  0.07886241],\n",
    "                           [-1.78837706,  0.7757026 ],\n",
    "                           [ 0.11964808, -1.02261288],\n",
    "                           [-1.51239009, -2.01744101],\n",
    "                           [ 0.55670847, -0.90079509],\n",
    "                           [ 0.01404381,  0.59349316],\n",
    "                           [ 0.38491586, -1.98926289],\n",
    "                           [-1.06521045, -0.26742879]])\n",
    "np.testing.assert_almost_equal(\n",
    "    expand(dummy_features),\n",
    "    np.array([[ 0.21229302, -0.81899763,  0.71582544],\n",
    "              [ 0.27464688,  1.06161091,  1.20244863],\n",
    "              [-0.53345235,  0.07886241,  0.29079069],\n",
    "              [-1.78837706,  0.7757026 ,  3.80000703],\n",
    "              [ 0.11964808, -1.02261288,  1.06005277],\n",
    "              [-1.51239009, -2.01744101,  6.35739201],\n",
    "              [ 0.55670847, -0.90079509,  1.12135611],\n",
    "              [ 0.01404381,  0.59349316,  0.35243136],\n",
    "              [ 0.38491586, -1.98926289,  4.10532706],\n",
    "              [-1.06521045, -0.26742879,  1.20619146]])\n",
    ")"
   ]
  },
  {
   "cell_type": "markdown",
   "metadata": {},
   "source": [
    "Now we'll make use of sklearn's pipelines! Pipelines allow you to stack different transformations one after another to make your model really powerful. There's a lot of ready to use transformations already implemented in sklearn. As for now, however, we'll define our own for the sake of demonstration:"
   ]
  },
  {
   "cell_type": "code",
   "execution_count": null,
   "metadata": {},
   "outputs": [],
   "source": [
    "class MyFeaturesExpansion:\n",
    "    # `fit` and `transform` are the two required methods to be able\n",
    "    # to use our transformation in a sklearn pipeline\n",
    "\n",
    "    def fit(self, X, y):\n",
    "        return self\n",
    "    \n",
    "    def transform(self, X):\n",
    "        return expand(X)"
   ]
  },
  {
   "cell_type": "code",
   "execution_count": null,
   "metadata": {},
   "outputs": [],
   "source": [
    "from sklearn.pipeline import make_pipeline"
   ]
  },
  {
   "cell_type": "code",
   "execution_count": null,
   "metadata": {},
   "outputs": [],
   "source": [
    "model = make_pipeline(\n",
    "    MyFeaturesExpansion(),\n",
    "    LogisticRegression(penalty='none')\n",
    ")\n",
    "# A pipeline has the same interface as regular sklearn models (i.e. fit, predict, etc.)\n",
    "model.fit(X, y)\n",
    "\n",
    "plot_data_and_model_decision(X, y, model)"
   ]
  },
  {
   "cell_type": "markdown",
   "metadata": {},
   "source": [
    "Great, so now the problem is solvable!\n",
    "\n",
    "Note though that this new feature only allows us to have circular decision boundaries, which is not perfect when our data is squeezed or stretched in some direction:"
   ]
  },
  {
   "cell_type": "code",
   "execution_count": null,
   "metadata": {},
   "outputs": [],
   "source": [
    "X, y = make_circles(500, noise=0.2, factor=0.4)\n",
    "X *= [1.5, 0.5]\n",
    "X = X @ [[0.7, -0.7], [0.7, 0.7]]\n",
    "\n",
    "model = make_pipeline(\n",
    "    MyFeaturesExpansion(),\n",
    "    LogisticRegression(penalty='none')\n",
    ")\n",
    "model.fit(X, y)\n",
    "\n",
    "plot_data_and_model_decision(X, y, model)"
   ]
  },
  {
   "cell_type": "markdown",
   "metadata": {},
   "source": [
    "In order to make the model more expressive let's use general polynomial feature expansion. That's already implemented in `sklearn.preprocessing.PolynomialFeatures`."
   ]
  },
  {
   "cell_type": "code",
   "execution_count": null,
   "metadata": {},
   "outputs": [],
   "source": [
    "from sklearn.preprocessing import PolynomialFeatures"
   ]
  },
  {
   "cell_type": "markdown",
   "metadata": {},
   "source": [
    "Now try to make a pipeline of polynomial features expansion + logistic regression model in the code cell below:"
   ]
  },
  {
   "cell_type": "code",
   "execution_count": null,
   "metadata": {
    "deletable": false,
    "nbgrader": {
     "cell_type": "code",
     "checksum": "5579c56d663f781e86ee5e71eaed6438",
     "grade": false,
     "grade_id": "cell-155e72c8c7c7cfbf",
     "locked": false,
     "schema_version": 3,
     "solution": true,
     "task": false
    }
   },
   "outputs": [],
   "source": [
    "# your code here\n",
    "raise NotImplementedError\n",
    "\n",
    "model.fit(X, y)\n",
    "plot_data_and_model_decision(X, y, model)"
   ]
  },
  {
   "cell_type": "markdown",
   "metadata": {},
   "source": [
    "When ready, check that your solution beats the 90% accuracy score threshold:"
   ]
  },
  {
   "cell_type": "code",
   "execution_count": null,
   "metadata": {
    "deletable": false,
    "editable": false,
    "nbgrader": {
     "cell_type": "code",
     "checksum": "46dfaa6d5a2012867017c30f65f1d0ee",
     "grade": true,
     "grade_id": "PolyFeaturesScore",
     "locked": true,
     "points": 1,
     "schema_version": 3,
     "solution": false,
     "task": false
    }
   },
   "outputs": [],
   "source": [
    "X, y = make_circles(500, noise=0.2, factor=0.4)\n",
    "X *= [1.5, 0.5]\n",
    "X = X @ [[0.7, -0.7], [0.7, 0.7]]\n",
    "\n",
    "model.fit(X, y)\n",
    "\n",
    "X, y = make_circles(5000, noise=0.2, factor=0.4)\n",
    "X *= [1.5, 0.5]\n",
    "X = X @ [[0.7, -0.7], [0.7, 0.7]]\n",
    "\n",
    "pred = model.predict(X)\n",
    "\n",
    "assert (pred == y).mean() > 0.9, (pred == y).mean()"
   ]
  },
  {
   "cell_type": "markdown",
   "metadata": {},
   "source": [
    "## LHCb particle identification\n",
    "\n",
    "In this part of the tutorial you will train a classifier to identify type of a particle. There are six particle types: electron, proton, muon, kaon, pion and ghost. Ghost is a particle with other type than the first five or a detector noise. \n",
    "\n",
    "Different particle types leave different responses in the detector systems or subdetectors. There are five systems: tracking system, ring imaging Cherenkov detector (RICH), electromagnetic and hadron calorimeters, and muon system.\n",
    "\n",
    "You task is to identify a particle type using the responses in the detector systems."
   ]
  },
  {
   "cell_type": "markdown",
   "metadata": {},
   "source": [
    "<img src=\"data:image/jpeg;base64,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\">"
   ]
  },
  {
   "cell_type": "code",
   "execution_count": null,
   "metadata": {},
   "outputs": [],
   "source": [
    "data = pd.read_csv(\"PID-dataset-subsample.csv.gz\")"
   ]
  },
  {
   "cell_type": "code",
   "execution_count": null,
   "metadata": {},
   "outputs": [],
   "source": [
    "data.head()"
   ]
  },
  {
   "cell_type": "code",
   "execution_count": null,
   "metadata": {},
   "outputs": [],
   "source": [
    "data.shape"
   ]
  },
  {
   "cell_type": "markdown",
   "metadata": {},
   "source": [
    "### List of columns in the samples\n",
    "\n",
    "Here, **Spd** stands for Scintillating Pad Detector, **Prs** - Preshower, **Ecal** - electromagnetic calorimeter, **Hcal** - hadronic calorimeter, **Brem** denotes traces of the particles that were deflected by detector.\n",
    "\n",
    "- Label - string valued observable denoting particle types. Can take values \"Electron\", \"Muon\", \"Kaon\", \"Proton\", \"Pion\" and \"Ghost\".\n",
    "- FlagSpd - flag (0 or 1), if reconstructed track passes through Spd\n",
    "- FlagPrs - flag (0 or 1), if reconstructed track passes through Prs\n",
    "- FlagBrem - flag (0 or 1), if reconstructed track passes through Brem\n",
    "- FlagEcal - flag (0 or 1), if reconstructed track passes through Ecal\n",
    "- FlagHcal - flag (0 or 1), if reconstructed track passes through Hcal\n",
    "- FlagRICH1 - flag (0 or 1), if reconstructed track passes through the first RICH detector\n",
    "- FlagRICH2 - flag (0 or 1), if reconstructed track passes through the second RICH detector\n",
    "- FlagMuon - flag (0 or 1), if reconstructed track passes through muon stations (Muon)\n",
    "- SpdE - energy deposit associated to the track in the Spd\n",
    "- PrsE - energy deposit associated to the track in the Prs\n",
    "- EcalE - energy deposit associated to the track in the Hcal\n",
    "- HcalE - energy deposit associated to the track in the Hcal\n",
    "- PrsDLLbeElectron - delta log-likelihood for a particle candidate to be electron using information from Prs\n",
    "- BremDLLbeElectron - delta log-likelihood for a particle candidate to be electron using information from Brem\n",
    "- TrackP - particle momentum\n",
    "- TrackPt - particle transverse momentum\n",
    "- TrackNDoFSubdetector1  - number of degrees of freedom for track fit using hits in the tracking sub-detector1\n",
    "- TrackQualitySubdetector1 - chi2 quality of the track fit using hits in the tracking sub-detector1\n",
    "- TrackNDoFSubdetector2 - number of degrees of freedom for track fit using hits in the tracking sub-detector2\n",
    "- TrackQualitySubdetector2 - chi2 quality of the track fit using hits in the  tracking sub-detector2\n",
    "- TrackNDoF - number of degrees of freedom for track fit using hits in all tracking sub-detectors\n",
    "- TrackQualityPerNDoF - chi2 quality of the track fit per degree of freedom\n",
    "- TrackDistanceToZ - distance between track and z-axis (beam axis)\n",
    "- Calo2dFitQuality - quality of the 2d fit of the clusters in the calorimeter \n",
    "- Calo3dFitQuality - quality of the 3d fit in the calorimeter with assumption that particle was electron\n",
    "- EcalDLLbeElectron - delta log-likelihood for a particle candidate to be electron using information from Ecal\n",
    "- EcalDLLbeMuon - delta log-likelihood for a particle candidate to be muon using information from Ecal\n",
    "- EcalShowerLongitudinalParameter - longitudinal parameter of Ecal shower\n",
    "- HcalDLLbeElectron - delta log-likelihood for a particle candidate to be electron using information from Hcal\n",
    "- HcalDLLbeMuon - delta log-likelihood for a particle candidate to be using information from Hcal\n",
    "- RICHpFlagElectron - flag (0 or 1) if momentum is greater than threshold for electrons to produce Cherenkov light\n",
    "- RICHpFlagProton - flag (0 or 1) if momentum is greater than threshold for protons to produce Cherenkov light\n",
    "- RICHpFlagPion - flag (0 or 1) if momentum is greater than threshold for pions to produce Cherenkov light\n",
    "- RICHpFlagKaon - flag (0 or 1) if momentum is greater than threshold for kaons to produce Cherenkov light\n",
    "- RICHpFlagMuon - flag (0 or 1) if momentum is greater than threshold for muons to produce Cherenkov light\n",
    "- RICH_DLLbeBCK  - delta log-likelihood for a particle candidate to be background using information from RICH\n",
    "- RICH_DLLbeKaon - delta log-likelihood for a particle candidate to be kaon using information from RICH\n",
    "- RICH_DLLbeElectron - delta log-likelihood for a particle candidate to be electron using information from RICH\n",
    "- RICH_DLLbeMuon - delta log-likelihood for a particle candidate to be muon using information from RICH\n",
    "- RICH_DLLbeProton - delta log-likelihood for a particle candidate to be proton using information from RICH\n",
    "- MuonFlag - muon flag (is this track muon) which is determined from muon stations\n",
    "- MuonLooseFlag muon flag (is this track muon) which is determined from muon stations using looser criteria\n",
    "- MuonLLbeBCK - log-likelihood for a particle candidate to be not muon using information from muon stations\n",
    "- MuonLLbeMuon - log-likelihood for a particle candidate to be muon using information from muon stations\n",
    "- DLLelectron - delta log-likelihood for a particle candidate to be electron using information from all subdetectors\n",
    "- DLLmuon - delta log-likelihood for a particle candidate to be muon using information from all subdetectors\n",
    "- DLLkaon - delta log-likelihood for a particle candidate to be kaon using information from all subdetectors\n",
    "- DLLproton - delta log-likelihood for a particle candidate to be proton using information from all subdetectors\n",
    "- GhostProbability - probability for a particle candidate to be ghost track. This variable is an output of classification model used in the tracking algorithm."
   ]
  },
  {
   "cell_type": "code",
   "execution_count": null,
   "metadata": {},
   "outputs": [],
   "source": [
    "X = data.drop('Label', axis=1)\n",
    "y = data['Label']"
   ]
  },
  {
   "cell_type": "markdown",
   "metadata": {},
   "source": [
    "We'll use sklearns helper funcion to split our data into train and test parts:"
   ]
  },
  {
   "cell_type": "code",
   "execution_count": null,
   "metadata": {},
   "outputs": [],
   "source": [
    "from sklearn.model_selection import train_test_split"
   ]
  },
  {
   "cell_type": "code",
   "execution_count": null,
   "metadata": {},
   "outputs": [],
   "source": [
    "X_train, X_test, y_train, y_test = train_test_split(X, y, test_size=0.2, random_state=123)"
   ]
  },
  {
   "cell_type": "markdown",
   "metadata": {},
   "source": [
    "Let's check the data types in the dataset:"
   ]
  },
  {
   "cell_type": "code",
   "execution_count": null,
   "metadata": {},
   "outputs": [],
   "source": [
    "X_train.dtypes"
   ]
  },
  {
   "cell_type": "markdown",
   "metadata": {},
   "source": [
    "### Training logistic regression on the raw data"
   ]
  },
  {
   "cell_type": "markdown",
   "metadata": {},
   "source": [
    "Even though this isn't a great idea, let's blindly feed this data into a logistic regression model. Linear models like the features to be of roughly the same scale. Let's use sklearn's StandardScaler for it:"
   ]
  },
  {
   "cell_type": "code",
   "execution_count": null,
   "metadata": {},
   "outputs": [],
   "source": [
    "from sklearn.preprocessing import StandardScaler"
   ]
  },
  {
   "cell_type": "code",
   "execution_count": null,
   "metadata": {},
   "outputs": [],
   "source": [
    "def print_accuracy(model):\n",
    "    print('Train accuracy:', (model.predict(X_train) == y_train).mean())\n",
    "    print('Test accuracy: ', (model.predict(X_test) == y_test).mean())"
   ]
  },
  {
   "cell_type": "markdown",
   "metadata": {},
   "source": [
    "(e.g. try commenting out the scaler below and check the result)"
   ]
  },
  {
   "cell_type": "code",
   "execution_count": null,
   "metadata": {},
   "outputs": [],
   "source": [
    "model_simple = make_pipeline(\n",
    "    StandardScaler(),\n",
    "    LogisticRegression(penalty='none')\n",
    ")\n",
    "model_simple.fit(X_train, y_train)\n",
    "\n",
    "print_accuracy(model_simple)"
   ]
  },
  {
   "cell_type": "markdown",
   "metadata": {},
   "source": [
    "You've probably got a warning that the solver didn't converge. This is due to the fact that our design matrix has large condition number (e.g. due to correlations between features). Selecting a smaller feature subspace or increasing the number of optimization iterations (`max_iter` argument of the `LogisticRegression` model) may fix it."
   ]
  },
  {
   "cell_type": "markdown",
   "metadata": {},
   "source": [
    "### Exploring the data and engineering features"
   ]
  },
  {
   "cell_type": "markdown",
   "metadata": {},
   "source": [
    "It's always useful to visualize the data"
   ]
  },
  {
   "cell_type": "code",
   "execution_count": null,
   "metadata": {},
   "outputs": [],
   "source": [
    "def visualize(feature, target, num_bins=100):\n",
    "    classes = np.unique(target)\n",
    "    bins = np.linspace(feature.min(), feature.max(), num_bins + 1)\n",
    "    for c in classes:\n",
    "        selection = (target == c)\n",
    "        plt.hist(feature[selection], bins=bins, label=c, alpha=0.5)\n",
    "    plt.legend()"
   ]
  },
  {
   "cell_type": "markdown",
   "metadata": {},
   "source": [
    "Let's visualize some of the columns:"
   ]
  },
  {
   "cell_type": "code",
   "execution_count": null,
   "metadata": {},
   "outputs": [],
   "source": [
    "for column in [\n",
    "    \"RICH_DLLbeBCK\",\n",
    "    \"RICH_DLLbeKaon\",\n",
    "    \"RICH_DLLbeElectron\",\n",
    "    \"RICH_DLLbeMuon\",\n",
    "    \"RICH_DLLbeProton\"\n",
    "]:\n",
    "    plt.figure()\n",
    "    visualize(X_train[column], y_train)\n",
    "    plt.title(column)"
   ]
  },
  {
   "cell_type": "markdown",
   "metadata": {},
   "source": [
    "Note that there is some kind of \"exit code\" in these floating point variables (maybe in others as well? can you check that?). This is not a friendly variable for a linear model. Can you think what you can do with it?\n",
    "\n",
    "Here's an example feature transformation replacing these values with the mean of the distribution. **Note: this drops potentially important information. A better way might be to also encode these exit codes into new binary features (e.g. `isExitCode_RICH_DLLbeProton`, etc.)**"
   ]
  },
  {
   "cell_type": "code",
   "execution_count": null,
   "metadata": {},
   "outputs": [],
   "source": [
    "from sklearn.base import TransformerMixin\n",
    "\n",
    "class FeatureExpansion(TransformerMixin):\n",
    "    def __init__(self, dll_threshold=-900):\n",
    "        super().__init__()\n",
    "\n",
    "        self.features = [\n",
    "            \"RICH_DLLbeBCK\",\n",
    "            \"RICH_DLLbeKaon\",\n",
    "            \"RICH_DLLbeElectron\",\n",
    "            \"RICH_DLLbeMuon\",\n",
    "            \"RICH_DLLbeProton\"\n",
    "        ]\n",
    "        self.dll_threshold = dll_threshold\n",
    "\n",
    "    def fit(self, X, y):\n",
    "        self.mean_vals = [\n",
    "            X[f][X[f] >= self.dll_threshold].mean()\n",
    "            for f in self.features\n",
    "        ]\n",
    "        return self\n",
    "\n",
    "    def transform(self, X):\n",
    "        X = X.copy() # to avoid modifying the original dataset\n",
    "        \n",
    "        for f, mean in zip(self.features, self.mean_vals):\n",
    "            X[f][X[f] < self.dll_threshold] = mean\n",
    "        \n",
    "        return X"
   ]
  },
  {
   "cell_type": "markdown",
   "metadata": {},
   "source": [
    "Here's an example transformation of the train dataset:"
   ]
  },
  {
   "cell_type": "code",
   "execution_count": null,
   "metadata": {},
   "outputs": [],
   "source": [
    "visualize(FeatureExpansion().fit_transform(X_train, y_train)['RICH_DLLbeKaon'], y_train)"
   ]
  },
  {
   "cell_type": "code",
   "execution_count": null,
   "metadata": {},
   "outputs": [],
   "source": [
    "model = make_pipeline(\n",
    "    FeatureExpansion(),\n",
    "    StandardScaler(),\n",
    "    LogisticRegression(penalty='none')\n",
    ")\n",
    "model.fit(X_train, y_train)\n",
    "\n",
    "print_accuracy(model)"
   ]
  },
  {
   "cell_type": "markdown",
   "metadata": {},
   "source": [
    "### Quality metrics\n",
    "\n",
    "As we are doing physics, we should not be satisfied with a single global performance measure. Instead we want to understand the strong and weak sides of our models. For the sake of an example, below there's some code to plot signal efficiency as a function of particle momentum."
   ]
  },
  {
   "cell_type": "code",
   "execution_count": null,
   "metadata": {},
   "outputs": [],
   "source": [
    "import matplotlib"
   ]
  },
  {
   "cell_type": "code",
   "execution_count": null,
   "metadata": {},
   "outputs": [],
   "source": [
    "def plot_efficiency(X, y, prediction, particle, **kwargs):\n",
    "    prediction = (prediction == particle)\n",
    "    selection = (y == particle)\n",
    "    p = X['TrackP'] / 1000.\n",
    "    \n",
    "    tmp_dataset = pd.DataFrame({'p' : p[selection], 'prediction' : prediction[selection]})\n",
    "    tmp_dataset['p_bin'] = pd.qcut(tmp_dataset['p'], 30)\n",
    "    \n",
    "    group = tmp_dataset.groupby('p_bin')['prediction']\n",
    "    efficiency = group.mean()\n",
    "    efficiency_err = group.std() / group.count()**0.5\n",
    "    \n",
    "    p_mid = efficiency.index.categories.mid\n",
    "    p_err = (efficiency.index.categories.right - efficiency.index.categories.left) / 2\n",
    "    \n",
    "    plt.errorbar(\n",
    "        x=p_mid,\n",
    "        y=efficiency,\n",
    "        xerr=p_err,\n",
    "        yerr=efficiency_err,\n",
    "        **kwargs\n",
    "    )\n",
    "    plt.grid(True)\n",
    "    plt.xscale('log')\n",
    "    plt.gca().xaxis.set_major_formatter(matplotlib.ticker.ScalarFormatter())\n",
    "    plt.gca().set_xticks([1, 2, 5, 10, 20, 50, 100, 200])\n",
    "    plt.ylim(-0.05, 1.05)\n",
    "    plt.xlabel('Momentum, GeV/c')\n",
    "    plt.ylabel('Signal efficiency')\n",
    "\n",
    "for particle in y.unique():\n",
    "    plt.figure()\n",
    "    plot_efficiency(X_test, y_test, model_simple.predict(X_test), particle, label='simple')\n",
    "    plot_efficiency(X_test, y_test, model.predict(X_test), particle, label='exit code cleaned')\n",
    "    plt.legend()\n",
    "    plt.title(particle)"
   ]
  },
  {
   "cell_type": "markdown",
   "metadata": {},
   "source": [
    "### Things to try\n",
    "\n",
    "To improve the scores and efficiencies you may want to try the following things:\n",
    "\n",
    " - **Feature selection** (are we really benefiting from this many features?)\n",
    " - **Fix other exit codes** (can you find all variables with exit codes and transform them?)\n",
    " - **Polynomial expansion** (can we find useful feature interactions that would boost up the quality of the model?)\n",
    " - **PCA** (principal component analysis, as implemented in `sklearn.decomposition.PCA` - this method allows you to find an orthogonal basis in the feature space, and also to sort the new features based on their variance; it may help stabilize the learning + gives you the means of selecting the most informative features)"
   ]
  },
  {
   "cell_type": "code",
   "execution_count": null,
   "metadata": {},
   "outputs": [],
   "source": []
  }
 ],
 "metadata": {
  "kernelspec": {
   "display_name": "Python 3",
   "language": "python",
   "name": "python3"
  },
  "language_info": {
   "codemirror_mode": {
    "name": "ipython",
    "version": 3
   },
   "file_extension": ".py",
   "mimetype": "text/x-python",
   "name": "python",
   "nbconvert_exporter": "python",
   "pygments_lexer": "ipython3",
   "version": "3.10.0"
  }
 },
 "nbformat": 4,
 "nbformat_minor": 4
}
