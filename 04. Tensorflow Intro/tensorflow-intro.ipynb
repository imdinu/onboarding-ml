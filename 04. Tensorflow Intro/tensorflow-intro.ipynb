{
 "cells": [
  {
   "cell_type": "markdown",
   "metadata": {
    "colab_type": "text",
    "id": "hPwhujdjo3k5"
   },
   "source": [
    "# Starting with Tensorflow\n",
    "\n",
    "![img](https://www.gstatic.com/devrel-devsite/prod/v870be6fb6841f3532cd3aec5bc0b3146031642f2794ae8ba7f51ebf843a655f9/tensorflow/images/lockup.svg)\n",
    "\n",
    "[TensorFlow](https://www.tensorflow.org/) and [PyTrorch](http://pytorch.org/) are two of the most commonly used deep learning frameworks. Both of these tools are notable for their ability to compute gradients automatically and do operations on GPU, which can be by orders of magnitude faster than running on CPU. Both libraries serve the same purpose, choosing between them is a matter of preference.\n",
    "\n",
    "In this tutorial, we'll use Tensorflow for our practical examples.\n",
    "\n",
    "We'll start from using the low-level core of Tensorflow, and then try out some high-level features."
   ]
  },
  {
   "cell_type": "code",
   "execution_count": 1,
   "metadata": {
    "colab": {
     "base_uri": "https://localhost:8080/",
     "height": 34
    },
    "colab_type": "code",
    "id": "NNrNWnHdo3k_",
    "outputId": "ce52175d-6386-41bd-d65a-205375841398"
   },
   "outputs": [
    {
     "name": "stdout",
     "output_type": "stream",
     "text": [
      "2.9.0-dev20220223\n"
     ]
    }
   ],
   "source": [
    "import numpy as np\n",
    "import tensorflow as tf\n",
    "print(tf.__version__)"
   ]
  },
  {
   "cell_type": "code",
   "execution_count": 2,
   "metadata": {
    "colab": {
     "base_uri": "https://localhost:8080/",
     "height": 408
    },
    "colab_type": "code",
    "id": "IxA0RQjgo3lD",
    "outputId": "cd849181-54ed-4d80-ffc3-e92bc85acf91"
   },
   "outputs": [
    {
     "name": "stdout",
     "output_type": "stream",
     "text": [
      "X :\n",
      "[[ 0  1  2  3]\n",
      " [ 4  5  6  7]\n",
      " [ 8  9 10 11]\n",
      " [12 13 14 15]]\n",
      "X.shape : (4, 4)\n",
      "add 5 :\n",
      "[[ 5  6  7  8]\n",
      " [ 9 10 11 12]\n",
      " [13 14 15 16]\n",
      " [17 18 19 20]]\n",
      "X*X^T :\n",
      "[[ 14  38  62  86]\n",
      " [ 38 126 214 302]\n",
      " [ 62 214 366 518]\n",
      " [ 86 302 518 734]]\n",
      "mean over rows :\n",
      "[ 1.5  5.5  9.5 13.5]\n",
      "cumsum of cols :\n",
      "[[ 0  1  2  3]\n",
      " [ 4  6  8 10]\n",
      " [12 15 18 21]\n",
      " [24 28 32 36]]\n"
     ]
    }
   ],
   "source": [
    "# numpy world\n",
    "\n",
    "x = np.arange(16).reshape(4, 4)\n",
    "\n",
    "print(f\"X :\\n{             x}\")\n",
    "print(f\"X.shape : {        x.shape}\")\n",
    "print(f\"add 5 :\\n{         x + 5}\")\n",
    "print(f\"X*X^T :\\n{         x @ x.T}\")\n",
    "print(f\"mean over rows :\\n{x.mean(axis=-1)}\")\n",
    "print(f\"cumsum of cols :\\n{x.cumsum(axis=0)}\")"
   ]
  },
  {
   "cell_type": "code",
   "execution_count": 4,
   "metadata": {
    "colab": {
     "base_uri": "https://localhost:8080/",
     "height": 408
    },
    "colab_type": "code",
    "id": "IHeXkB2uo3lG",
    "outputId": "19022824-0899-434e-ef8c-8a7075d60514"
   },
   "outputs": [
    {
     "name": "stdout",
     "output_type": "stream",
     "text": [
      "X :\n",
      "[[ 0.  1.  2.  3.]\n",
      " [ 4.  5.  6.  7.]\n",
      " [ 8.  9. 10. 11.]\n",
      " [12. 13. 14. 15.]]\n",
      "X.shape : (4, 4)\n",
      "add 5 :\n",
      "[[ 5.  6.  7.  8.]\n",
      " [ 9. 10. 11. 12.]\n",
      " [13. 14. 15. 16.]\n",
      " [17. 18. 19. 20.]]\n",
      "X*X^T :\n",
      "[[ 14.  38.  62.  86.]\n",
      " [ 38. 126. 214. 302.]\n",
      " [ 62. 214. 366. 518.]\n",
      " [ 86. 302. 518. 734.]]\n",
      "mean over rows :\n",
      "[ 1.5  5.5  9.5 13.5]\n",
      "cumsum of cols :\n",
      "[[ 0.  1.  2.  3.]\n",
      " [ 4.  6.  8. 10.]\n",
      " [12. 15. 18. 21.]\n",
      " [24. 28. 32. 36.]]\n"
     ]
    }
   ],
   "source": [
    "# tensorflow world\n",
    "\n",
    "x = np.arange(16).reshape(4, 4)\n",
    "\n",
    "x = tf.constant(x, dtype=tf.float32) \n",
    "\n",
    "print(f\"X :\\n{             x}\")\n",
    "print(f\"X.shape : {        x.shape}\")\n",
    "print(f\"add 5 :\\n{         x + 5}\")\n",
    "print(f\"X*X^T :\\n{         x @ tf.transpose(x)}\")\n",
    "print(f\"mean over rows :\\n{tf.math.reduce_mean(x, axis=-1)}\")\n",
    "print(f\"cumsum of cols :\\n{tf.math.cumsum(x, axis=0)}\")"
   ]
  },
  {
   "cell_type": "markdown",
   "metadata": {
    "colab_type": "text",
    "id": "2ilWmbfho3lJ"
   },
   "source": [
    "## NumPy and Tensorflow\n",
    "\n",
    "As you can notice, tensorflow allows you to hack achieve the same numpy functionality, be it somewhat different in terms of syntax. There is an experimental feature offering exact numpy interoperability [to some extent](https://www.tensorflow.org/guide/tf_numpy#tensorflow_interoperability), but for now we'll stick with what the core `tensorflow` and `tf.math` is offering.\n",
    "\n",
    "Note that you may easily convert tensors back to numpy:"
   ]
  },
  {
   "cell_type": "code",
   "execution_count": 5,
   "metadata": {
    "colab": {
     "base_uri": "https://localhost:8080/",
     "height": 181
    },
    "colab_type": "code",
    "id": "ceofy-Ai8nlE",
    "outputId": "eb06663b-3d0b-4b08-bd40-b2da50c603e5"
   },
   "outputs": [
    {
     "data": {
      "text/plain": [
       "2.0"
      ]
     },
     "execution_count": 5,
     "metadata": {},
     "output_type": "execute_result"
    }
   ],
   "source": [
    "x = tf.range(5, dtype=tf.float32)\n",
    "tf.reduce_mean(x).numpy()"
   ]
  },
  {
   "cell_type": "markdown",
   "metadata": {},
   "source": [
    "Tensor operations are subject to type checking, but conversion is not handled automatically. Try to fix the following cell so it does not trow any `TypeError`"
   ]
  },
  {
   "cell_type": "code",
   "execution_count": 9,
   "metadata": {
    "colab": {},
    "colab_type": "code",
    "id": "vBl7ltC1ey8N"
   },
   "outputs": [
    {
     "data": {
      "text/plain": [
       "<tf.Tensor: shape=(2,), dtype=float64, numpy=array([0.5, 1. ])>"
      ]
     },
     "execution_count": 9,
     "metadata": {},
     "output_type": "execute_result"
    }
   ],
   "source": [
    "x = tf.constant([1, 2], dtype=tf.float64)\n",
    "x /= 2.0\n",
    "x"
   ]
  },
  {
   "cell_type": "markdown",
   "metadata": {
    "colab_type": "text",
    "id": "ZsoiU8soo3lJ"
   },
   "source": [
    "## Warmup: trigonometric knotwork\n",
    "\n",
    "There are some simple mathematical functions with cool plots. For one, consider this:\n",
    "\n",
    "$$ x(t) = t - 1.5 * cos( 15 t) $$\n",
    "$$ y(t) = t - 1.5 * sin( 16 t) $$\n",
    "\n",
    "You have `tf.math.cos` and `tf.math.sin` at your disposal 😉"
   ]
  },
  {
   "cell_type": "code",
   "execution_count": 13,
   "metadata": {
    "colab": {
     "base_uri": "https://localhost:8080/",
     "height": 265
    },
    "colab_type": "code",
    "deletable": false,
    "id": "idIzhABXo3lK",
    "nbgrader": {
     "cell_type": "code",
     "checksum": "78770e3703fb53c4907d605fb7202d33",
     "grade": false,
     "grade_id": "cell-f25d51ba383f981a",
     "locked": false,
     "schema_version": 3,
     "solution": true,
     "task": false
    },
    "outputId": "cf83a67d-845e-480c-bdaa-ba0a2ff9cd7f"
   },
   "outputs": [
    {
     "data": {
      "image/png": "[encoded data removed]",
      "image/svg+xml": "<?xml version=\"1.0\" encoding=\"utf-8\" standalone=\"no\"?>\n<!DOCTYPE svg PUBLIC \"-//W3C//DTD SVG 1.1//EN\"\n  \"http://www.w3.org/Graphics/SVG/1.1/DTD/svg11.dtd\">\n<svg xmlns:xlink=\"http://www.w3.org/1999/xlink\" width=\"377.304687pt\" height=\"248.518125pt\" viewBox=\"0 0 377.304687 248.518125\" xmlns=\"http://www.w3.org/2000/svg\" version=\"1.1\">\n <metadata>\n  <rdf:RDF xmlns:dc=\"http://purl.org/dc/elements/1.1/\" xmlns:cc=\"http://creativecommons.org/ns#\" xmlns:rdf=\"http://www.w3.org/1999/02/22-rdf-syntax-ns#\">\n   <cc:Work>\n    <dc:type rdf:resource=\"http://purl.org/dc/dcmitype/StillImage\"/>\n    <dc:date>2022-03-07T10:30:19.544000</dc:date>\n    <dc:format>image/svg+xml</dc:format>\n    <dc:creator>\n     <cc:Agent>\n      <dc:title>Matplotlib v3.5.1, https://matplotlib.org/</dc:title>\n     </cc:Agent>\n    </dc:creator>\n   </cc:Work>\n  </rdf:RDF>\n </metadata>\n <defs>\n  <style type=\"text/css\">*{stroke-linejoin: round; stroke-linecap: butt}</style>\n </defs>\n <g id=\"figure_1\">\n  <g id=\"patch_1\">\n   <path d=\"M 0 248.518125 \nL 377.304687 248.518125 \nL 377.304687 0 \nL 0 0 \nz\n\"/>\n  </g>\n  <g id=\"axes_1\">\n   <g id=\"patch_2\">\n    <path d=\"M 35.304688 224.64 \nL 370.104688 224.64 \nL 370.104688 7.2 \nL 35.304688 7.2 \nz\n\"/>\n   </g>\n   <g id=\"matplotlib.axis_1\">\n    <g id=\"xtick_1\">\n     <g id=\"line2d_1\">\n      <defs>\n       <path id=\"mb71ef16160\" d=\"M 0 0 \nL 0 3.5 \n\" style=\"stroke: #ffffff; stroke-width: 0.8\"/>\n      </defs>\n      <g>\n       <use xlink:href=\"#mb71ef16160\" x=\"65.897597\" y=\"224.64\" style=\"fill: #ffffff; stroke: #ffffff; stroke-width: 0.8\"/>\n      </g>\n     </g>\n     <g id=\"text_1\">\n      <!-- −10 -->\n      <g style=\"fill: #ffffff\" transform=\"translate(55.345254 239.238437)scale(0.1 -0.1)\">\n       <defs>\n        <path id=\"DejaVuSans-2212\" d=\"M 678 2272 \nL 4684 2272 \nL 4684 1741 \nL 678 1741 \nL 678 2272 \nz\n\" transform=\"scale(0.015625)\"/>\n        <path id=\"DejaVuSans-31\" d=\"M 794 531 \nL 1825 531 \nL 1825 4091 \nL 703 3866 \nL 703 4441 \nL 1819 4666 \nL 2450 4666 \nL 2450 531 \nL 3481 531 \nL 3481 0 \nL 794 0 \nL 794 531 \nz\n\" transform=\"scale(0.015625)\"/>\n        <path id=\"DejaVuSans-30\" d=\"M 2034 4250 \nQ 1547 4250 1301 3770 \nQ 1056 3291 1056 2328 \nQ 1056 1369 1301 889 \nQ 1547 409 2034 409 \nQ 2525 409 2770 889 \nQ 3016 1369 3016 2328 \nQ 3016 3291 2770 3770 \nQ 2525 4250 2034 4250 \nz\nM 2034 4750 \nQ 2819 4750 3233 4129 \nQ 3647 3509 3647 2328 \nQ 3647 1150 3233 529 \nQ 2819 -91 2034 -91 \nQ 1250 -91 836 529 \nQ 422 1150 422 2328 \nQ 422 3509 836 4129 \nQ 1250 4750 2034 4750 \nz\n\" transform=\"scale(0.015625)\"/>\n       </defs>\n       <use xlink:href=\"#DejaVuSans-2212\"/>\n       <use xlink:href=\"#DejaVuSans-31\" x=\"83.789062\"/>\n       <use xlink:href=\"#DejaVuSans-30\" x=\"147.412109\"/>\n      </g>\n     </g>\n    </g>\n    <g id=\"xtick_2\">\n     <g id=\"line2d_2\">\n      <g>\n       <use xlink:href=\"#mb71ef16160\" x=\"133.592129\" y=\"224.64\" style=\"fill: #ffffff; stroke: #ffffff; stroke-width: 0.8\"/>\n      </g>\n     </g>\n     <g id=\"text_2\">\n      <!-- −5 -->\n      <g style=\"fill: #ffffff\" transform=\"translate(126.221035 239.238437)scale(0.1 -0.1)\">\n       <defs>\n        <path id=\"DejaVuSans-35\" d=\"M 691 4666 \nL 3169 4666 \nL 3169 4134 \nL 1269 4134 \nL 1269 2991 \nQ 1406 3038 1543 3061 \nQ 1681 3084 1819 3084 \nQ 2600 3084 3056 2656 \nQ 3513 2228 3513 1497 \nQ 3513 744 3044 326 \nQ 2575 -91 1722 -91 \nQ 1428 -91 1123 -41 \nQ 819 9 494 109 \nL 494 744 \nQ 775 591 1075 516 \nQ 1375 441 1709 441 \nQ 2250 441 2565 725 \nQ 2881 1009 2881 1497 \nQ 2881 1984 2565 2268 \nQ 2250 2553 1709 2553 \nQ 1456 2553 1204 2497 \nQ 953 2441 691 2322 \nL 691 4666 \nz\n\" transform=\"scale(0.015625)\"/>\n       </defs>\n       <use xlink:href=\"#DejaVuSans-2212\"/>\n       <use xlink:href=\"#DejaVuSans-35\" x=\"83.789062\"/>\n      </g>\n     </g>\n    </g>\n    <g id=\"xtick_3\">\n     <g id=\"line2d_3\">\n      <g>\n       <use xlink:href=\"#mb71ef16160\" x=\"201.28666\" y=\"224.64\" style=\"fill: #ffffff; stroke: #ffffff; stroke-width: 0.8\"/>\n      </g>\n     </g>\n     <g id=\"text_3\">\n      <!-- 0 -->\n      <g style=\"fill: #ffffff\" transform=\"translate(198.10541 239.238437)scale(0.1 -0.1)\">\n       <use xlink:href=\"#DejaVuSans-30\"/>\n      </g>\n     </g>\n    </g>\n    <g id=\"xtick_4\">\n     <g id=\"line2d_4\">\n      <g>\n       <use xlink:href=\"#mb71ef16160\" x=\"268.981192\" y=\"224.64\" style=\"fill: #ffffff; stroke: #ffffff; stroke-width: 0.8\"/>\n      </g>\n     </g>\n     <g id=\"text_4\">\n      <!-- 5 -->\n      <g style=\"fill: #ffffff\" transform=\"translate(265.799942 239.238437)scale(0.1 -0.1)\">\n       <use xlink:href=\"#DejaVuSans-35\"/>\n      </g>\n     </g>\n    </g>\n    <g id=\"xtick_5\">\n     <g id=\"line2d_5\">\n      <g>\n       <use xlink:href=\"#mb71ef16160\" x=\"336.675723\" y=\"224.64\" style=\"fill: #ffffff; stroke: #ffffff; stroke-width: 0.8\"/>\n      </g>\n     </g>\n     <g id=\"text_5\">\n      <!-- 10 -->\n      <g style=\"fill: #ffffff\" transform=\"translate(330.313223 239.238437)scale(0.1 -0.1)\">\n       <use xlink:href=\"#DejaVuSans-31\"/>\n       <use xlink:href=\"#DejaVuSans-30\" x=\"63.623047\"/>\n      </g>\n     </g>\n    </g>\n   </g>\n   <g id=\"matplotlib.axis_2\">\n    <g id=\"ytick_1\">\n     <g id=\"line2d_6\">\n      <defs>\n       <path id=\"mecf882eb7f\" d=\"M 0 0 \nL -3.5 0 \n\" style=\"stroke: #ffffff; stroke-width: 0.8\"/>\n      </defs>\n      <g>\n       <use xlink:href=\"#mecf882eb7f\" x=\"35.304688\" y=\"204.004711\" style=\"fill: #ffffff; stroke: #ffffff; stroke-width: 0.8\"/>\n      </g>\n     </g>\n     <g id=\"text_6\">\n      <!-- −10 -->\n      <g style=\"fill: #ffffff\" transform=\"translate(7.2 207.80393)scale(0.1 -0.1)\">\n       <use xlink:href=\"#DejaVuSans-2212\"/>\n       <use xlink:href=\"#DejaVuSans-31\" x=\"83.789062\"/>\n       <use xlink:href=\"#DejaVuSans-30\" x=\"147.412109\"/>\n      </g>\n     </g>\n    </g>\n    <g id=\"ytick_2\">\n     <g id=\"line2d_7\">\n      <g>\n       <use xlink:href=\"#mecf882eb7f\" x=\"35.304688\" y=\"159.962355\" style=\"fill: #ffffff; stroke: #ffffff; stroke-width: 0.8\"/>\n      </g>\n     </g>\n     <g id=\"text_7\">\n      <!-- −5 -->\n      <g style=\"fill: #ffffff\" transform=\"translate(13.5625 163.761574)scale(0.1 -0.1)\">\n       <use xlink:href=\"#DejaVuSans-2212\"/>\n       <use xlink:href=\"#DejaVuSans-35\" x=\"83.789062\"/>\n      </g>\n     </g>\n    </g>\n    <g id=\"ytick_3\">\n     <g id=\"line2d_8\">\n      <g>\n       <use xlink:href=\"#mecf882eb7f\" x=\"35.304688\" y=\"115.92\" style=\"fill: #ffffff; stroke: #ffffff; stroke-width: 0.8\"/>\n      </g>\n     </g>\n     <g id=\"text_8\">\n      <!-- 0 -->\n      <g style=\"fill: #ffffff\" transform=\"translate(21.942188 119.719219)scale(0.1 -0.1)\">\n       <use xlink:href=\"#DejaVuSans-30\"/>\n      </g>\n     </g>\n    </g>\n    <g id=\"ytick_4\">\n     <g id=\"line2d_9\">\n      <g>\n       <use xlink:href=\"#mecf882eb7f\" x=\"35.304688\" y=\"71.877645\" style=\"fill: #ffffff; stroke: #ffffff; stroke-width: 0.8\"/>\n      </g>\n     </g>\n     <g id=\"text_9\">\n      <!-- 5 -->\n      <g style=\"fill: #ffffff\" transform=\"translate(21.942188 75.676863)scale(0.1 -0.1)\">\n       <use xlink:href=\"#DejaVuSans-35\"/>\n      </g>\n     </g>\n    </g>\n    <g id=\"ytick_5\">\n     <g id=\"line2d_10\">\n      <g>\n       <use xlink:href=\"#mecf882eb7f\" x=\"35.304688\" y=\"27.835289\" style=\"fill: #ffffff; stroke: #ffffff; stroke-width: 0.8\"/>\n      </g>\n     </g>\n     <g id=\"text_10\">\n      <!-- 10 -->\n      <g style=\"fill: #ffffff\" transform=\"translate(15.579688 31.634508)scale(0.1 -0.1)\">\n       <use xlink:href=\"#DejaVuSans-31\"/>\n       <use xlink:href=\"#DejaVuSans-30\" x=\"63.623047\"/>\n      </g>\n     </g>\n    </g>\n   </g>\n   <g id=\"line2d_11\">\n    <path d=\"M 51.696961 201.105509 \nL 54.161606 199.000526 \nL 56.892911 197.021152 \nL 59.832565 195.21571 \nL 62.917578 193.628079 \nL 66.081695 192.296573 \nL 69.256884 191.252962 \nL 71.759091 190.642028 \nL 74.190223 190.23997 \nL 76.516864 190.052214 \nL 78.707103 190.08068 \nL 80.730989 190.323748 \nL 82.560966 190.776287 \nL 84.172268 191.429739 \nL 85.543272 192.272256 \nL 86.655815 193.288897 \nL 87.311771 194.155044 \nL 87.809482 195.100716 \nL 88.145577 196.116717 \nL 88.317993 197.193201 \nL 88.292184 198.704551 \nL 87.97616 200.278995 \nL 87.376025 201.889613 \nL 86.501972 203.508896 \nL 85.368132 205.109189 \nL 83.992375 206.663152 \nL 82.396049 208.144199 \nL 80.603678 209.526942 \nL 78.642603 210.787598 \nL 76.542595 211.904383 \nL 74.335421 212.857868 \nL 72.054392 213.631295 \nL 69.733879 214.210855 \nL 67.408823 214.58591 \nL 65.11423 214.749168 \nL 62.884666 214.696805 \nL 60.753764 214.428524 \nL 58.753736 213.947562 \nL 56.914913 213.260637 \nL 55.265304 212.377837 \nL 53.8302 211.312456 \nL 52.631802 210.080775 \nL 51.688909 208.701797 \nL 51.158657 207.583701 \nL 50.785663 206.404564 \nL 50.573605 205.174762 \nL 50.545121 203.475003 \nL 50.808782 201.731149 \nL 51.362355 199.970584 \nL 52.199433 198.220966 \nL 53.309534 196.509775 \nL 54.678246 194.86386 \nL 56.287438 193.309004 \nL 58.115519 191.869498 \nL 60.137749 190.567747 \nL 62.326595 189.4239 \nL 64.652128 188.455522 \nL 67.082452 187.677308 \nL 69.584163 187.10084 \nL 72.122831 186.734399 \nL 74.663495 186.582827 \nL 77.171163 186.647453 \nL 79.611319 186.926064 \nL 81.950419 187.412949 \nL 84.156371 188.098987 \nL 86.199 188.971796 \nL 88.05048 190.01594 \nL 89.685734 191.213179 \nL 91.082796 192.542767 \nL 92.223128 193.981791 \nL 93.091882 195.50555 \nL 93.67812 197.087952 \nL 93.974967 198.70195 \nL 93.979711 200.319976 \nL 93.693841 201.9144 \nL 93.123029 203.457974 \nL 92.277043 204.924285 \nL 91.169614 206.288184 \nL 89.818228 207.526198 \nL 88.243886 208.616912 \nL 86.470794 209.541324 \nL 84.526017 210.283154 \nL 82.43909 210.829107 \nL 80.241592 211.169097 \nL 77.966695 211.296405 \nL 75.648683 211.207795 \nL 73.322459 210.903563 \nL 71.023047 210.387536 \nL 68.785083 209.667005 \nL 66.64232 208.752607 \nL 64.62714 207.658154 \nL 62.770092 206.400403 \nL 61.099449 204.998783 \nL 59.640802 203.475079 \nL 58.416694 201.853072 \nL 57.446291 200.158153 \nL 56.745112 198.416907 \nL 56.324803 196.656674 \nL 56.192967 194.905108 \nL 56.35306 193.189721 \nL 56.664418 191.943149 \nL 57.137789 190.743086 \nL 57.77 189.600098 \nL 58.852141 188.182164 \nL 60.194578 186.905526 \nL 61.77956 185.789924 \nL 63.585844 184.85246 \nL 65.589002 184.107323 \nL 67.761777 183.565554 \nL 70.074471 183.234865 \nL 72.495372 183.119516 \nL 74.991212 183.220239 \nL 77.527646 183.534233 \nL 80.069744 184.055208 \nL 82.582494 184.773483 \nL 85.031306 185.676151 \nL 87.382513 186.747286 \nL 89.603849 187.968206 \nL 91.664916 189.317778 \nL 93.537623 190.772763 \nL 95.196588 192.308196 \nL 96.619505 193.897797 \nL 97.787463 195.514399 \nL 98.685217 197.130394 \nL 99.301411 198.718181 \nL 99.62874 200.250625 \nL 99.664053 201.701493 \nL 99.499375 202.721071 \nL 99.172934 203.670845 \nL 98.688031 204.54158 \nL 98.049248 205.324768 \nL 97.262416 206.012709 \nL 95.99532 206.770142 \nL 94.497437 207.332678 \nL 92.791872 207.689955 \nL 90.904721 207.834975 \nL 88.864688 207.76421 \nL 86.70268 207.477666 \nL 84.451356 206.978878 \nL 82.144661 206.274855 \nL 79.23639 205.122318 \nL 76.364275 203.692733 \nL 73.595872 202.020376 \nL 70.996409 200.145726 \nL 68.627315 198.11443 \nL 66.544848 195.976138 \nL 65.11897 194.223612 \nL 63.930633 192.463633 \nL 62.99849 190.723851 \nL 62.337509 189.031583 \nL 61.958757 187.413371 \nL 61.86924 185.894542 \nL 61.993783 184.834972 \nL 62.282358 183.853951 \nL 62.733286 182.96003 \nL 63.343575 182.160954 \nL 64.108939 181.463597 \nL 65.023842 180.873895 \nL 66.464494 180.263488 \nL 68.139693 179.861975 \nL 70.026898 179.674774 \nL 72.100518 179.703795 \nL 74.332283 179.94741 \nL 76.691645 180.400478 \nL 79.77081 181.24799 \nL 82.932523 182.385239 \nL 86.108807 183.780919 \nL 89.231356 185.397117 \nL 92.233071 187.190288 \nL 95.049569 189.112364 \nL 97.620627 191.111986 \nL 99.891532 193.13581 \nL 101.814318 195.129876 \nL 103.348836 197.040984 \nL 104.463657 198.818053 \nL 105.038219 200.111028 \nL 105.323197 201.265317 \nL 105.31605 202.260875 \nL 105.119824 202.892777 \nL 104.762374 203.419214 \nL 104.247249 203.83485 \nL 103.57928 204.135369 \nL 102.46155 204.351524 \nL 101.100654 204.352677 \nL 99.517726 204.137655 \nL 97.264176 203.568821 \nL 94.755587 202.67845 \nL 92.051349 201.487042 \nL 89.215248 200.022786 \nL 85.731965 197.955467 \nL 82.27282 195.618307 \nL 78.954859 193.09333 \nL 75.890566 190.469464 \nL 73.18423 187.839271 \nL 71.269697 185.709631 \nL 69.714437 183.692257 \nL 68.556425 181.836445 \nL 67.935876 180.49864 \nL 67.598829 179.313982 \nL 67.551692 178.300704 \nL 67.708095 177.662609 \nL 68.028308 177.135047 \nL 68.510396 176.722391 \nL 69.151114 176.427954 \nL 70.244153 176.222957 \nL 71.596837 176.234158 \nL 73.191268 176.460221 \nL 75.491384 177.037227 \nL 78.086966 177.925125 \nL 81.513478 179.365348 \nL 85.180108 181.160135 \nL 89.609976 183.608375 \nL 94.02601 186.315183 \nL 98.242468 189.139117 \nL 102.590583 192.320953 \nL 106.210558 195.24682 \nL 108.907262 197.716785 \nL 110.396254 199.369264 \nL 110.978215 200.335629 \nL 111.001632 200.727338 \nL 110.828109 200.882712 \nL 110.345886 200.90169 \nL 109.352602 200.62153 \nL 107.622637 199.847256 \nL 104.941726 198.372783 \nL 101.161027 196.01974 \nL 96.270576 192.696475 \nL 90.484223 188.473342 \nL 84.85052 184.090127 \nL 79.897005 179.974052 \nL 76.090443 176.525208 \nL 74.120136 174.473057 \nL 73.356591 173.431828 \nL 73.214106 172.919509 \nL 73.347576 172.772613 \nL 73.780342 172.765985 \nL 74.723517 173.059734 \nL 76.419992 173.841219 \nL 79.554885 175.554242 \nL 84.631862 178.595873 \nL 94.378455 184.736153 \nL 107.537538 192.988572 \nL 112.493338 195.844483 \nL 114.988859 197.065389 \nL 116.152309 197.441871 \nL 116.570856 197.424634 \nL 116.693571 197.269798 \nL 116.651907 196.994267 \nL 116.342565 196.442847 \nL 115.348491 195.2386 \nL 113.432439 193.312295 \nL 110.361623 190.535911 \nL 106.012575 186.887446 \nL 100.463731 182.521056 \nL 94.66466 178.237623 \nL 89.157674 174.454235 \nL 84.879071 171.781151 \nL 81.892747 170.164249 \nL 80.063595 169.417094 \nL 79.258886 169.285116 \nL 78.933547 169.42241 \nL 78.879723 169.665116 \nL 79.063613 170.169863 \nL 79.70208 171.078094 \nL 81.051281 172.540073 \nL 83.378654 174.684465 \nL 86.42661 177.192648 \nL 90.629946 180.335309 \nL 94.765769 183.165626 \nL 99.147929 185.916504 \nL 103.592175 188.4443 \nL 107.30911 190.332551 \nL 110.81932 191.885979 \nL 114.014609 193.043595 \nL 116.365689 193.671937 \nL 118.380001 193.974568 \nL 119.720336 193.975165 \nL 120.80024 193.75959 \nL 121.430707 193.457341 \nL 121.902292 193.037055 \nL 122.211834 192.502118 \nL 122.357487 191.856969 \nL 122.338728 191.107064 \nL 122.059554 189.955466 \nL 121.49526 188.646845 \nL 120.65552 187.201464 \nL 119.23964 185.23688 \nL 117.449808 183.141848 \nL 115.32927 180.967646 \nL 112.419898 178.329208 \nL 109.206891 175.746653 \nL 105.799342 173.311023 \nL 102.312632 171.107964 \nL 98.864698 169.21457 \nL 96.105349 167.921099 \nL 93.519071 166.919349 \nL 91.167001 166.232665 \nL 89.105012 165.87634 \nL 87.697696 165.834035 \nL 86.529572 166.007251 \nL 85.619002 166.392001 \nL 85.114058 166.815028 \nL 84.767059 167.348537 \nL 84.581472 167.987128 \nL 84.559458 168.724432 \nL 84.785805 169.848355 \nL 85.302583 171.115186 \nL 86.103915 172.50304 \nL 87.49017 174.371531 \nL 89.277078 176.341721 \nL 91.427542 178.361022 \nL 93.896299 180.375587 \nL 96.630937 182.331693 \nL 99.573072 184.177109 \nL 102.659656 185.862433 \nL 105.8244 187.342354 \nL 108.999258 188.576807 \nL 112.115957 189.532001 \nL 115.107529 190.181279 \nL 117.367451 190.467506 \nL 119.475198 190.539892 \nL 121.402008 190.396099 \nL 123.12172 190.037327 \nL 124.611153 189.468294 \nL 125.85044 188.697159 \nL 126.605817 187.992957 \nL 127.205798 187.187457 \nL 127.646184 186.287592 \nL 127.924066 185.301164 \nL 128.037853 184.236771 \nL 127.934046 182.712499 \nL 127.541251 181.090051 \nL 126.866676 179.394825 \nL 125.921584 177.653411 \nL 124.72113 175.893152 \nL 123.284139 174.141702 \nL 121.632844 172.426571 \nL 119.306185 170.374639 \nL 116.739729 168.471609 \nL 113.994166 166.763854 \nL 111.134209 165.292758 \nL 108.227141 164.093655 \nL 105.341302 163.194935 \nL 103.093577 162.706424 \nL 100.936803 162.430411 \nL 98.903566 162.370262 \nL 97.024673 162.525805 \nL 95.328711 162.893344 \nL 93.841637 163.465709 \nL 92.586401 164.232381 \nL 91.80905 164.92677 \nL 91.180169 165.71593 \nL 90.705504 166.592102 \nL 90.389558 167.546732 \nL 90.235545 168.570539 \nL 90.285194 170.026002 \nL 90.626801 171.561782 \nL 91.257013 173.151592 \nL 92.16832 174.768262 \nL 93.349172 176.384181 \nL 94.78414 177.971753 \nL 96.454138 179.503844 \nL 98.336701 180.954227 \nL 100.406307 182.298013 \nL 102.634739 183.51206 \nL 104.991501 184.575345 \nL 107.444245 185.469314 \nL 109.959247 186.178185 \nL 112.501885 186.689204 \nL 115.037139 186.992855 \nL 117.530097 187.083014 \nL 119.946455 186.957054 \nL 122.253009 186.615882 \nL 124.418138 186.063928 \nL 126.412252 185.309072 \nL 128.208224 184.362513 \nL 129.781775 183.238589 \nL 131.111827 181.954539 \nL 132.180806 180.530223 \nL 132.974891 178.987797 \nL 133.383968 177.767896 \nL 133.63013 176.505825 \nL 133.702806 174.776761 \nL 133.484147 173.019705 \nL 132.978858 171.262258 \nL 132.195766 169.532026 \nL 131.147693 167.856172 \nL 129.851276 166.260967 \nL 128.326722 164.771364 \nL 126.597521 163.410586 \nL 124.690108 162.19975 \nL 122.63348 161.157516 \nL 120.45878 160.299789 \nL 118.198852 159.63945 \nL 115.887764 159.186154 \nL 113.560321 158.946165 \nL 111.251563 158.922257 \nL 108.996261 159.113668 \nL 106.828417 159.516112 \nL 104.780775 160.12185 \nL 102.88435 160.919817 \nL 101.167982 161.895799 \nL 99.65792 163.032672 \nL 98.377444 164.310677 \nL 97.346535 165.707747 \nL 96.58158 167.199866 \nL 96.095142 168.761462 \nL 95.895777 170.365826 \nL 95.987912 171.98555 \nL 96.371778 173.592973 \nL 97.043413 175.160637 \nL 97.994712 176.661735 \nL 99.21355 178.070546 \nL 100.68395 179.362864 \nL 102.386318 180.516386 \nL 104.297723 181.511081 \nL 106.392227 182.329518 \nL 108.641256 182.95715 \nL 111.014016 183.382553 \nL 113.477932 183.597611 \nL 115.999116 183.597653 \nL 118.542859 183.381523 \nL 121.074125 182.951605 \nL 123.558059 182.313782 \nL 125.960486 181.477339 \nL 128.248404 180.45481 \nL 130.390458 179.261776 \nL 132.357392 177.916607 \nL 134.122469 176.440163 \nL 135.661854 174.855453 \nL 136.954963 173.187258 \nL 137.98475 171.461724 \nL 138.737959 169.705935 \nL 139.205315 167.947473 \nL 139.381651 166.213959 \nL 139.265989 164.532611 \nL 138.989401 163.321736 \nL 138.553188 162.165725 \nL 137.96154 161.074739 \nL 136.94048 159.73767 \nL 135.669162 158.553849 \nL 134.167435 157.541494 \nL 132.458458 156.716021 \nL 130.568376 156.089784 \nL 128.525936 155.671879 \nL 126.362079 155.467991 \nL 124.10949 155.480303 \nL 121.802134 155.70746 \nL 119.474761 156.144593 \nL 117.16241 156.783394 \nL 114.899904 157.612255 \nL 112.721349 158.616459 \nL 110.659642 159.77842 \nL 108.746002 161.077968 \nL 107.009515 162.492683 \nL 105.476719 163.99826 \nL 104.171224 165.568908 \nL 103.113368 167.177768 \nL 102.319927 168.79736 \nL 101.803873 170.400026 \nL 101.574189 171.958384 \nL 101.635737 173.445778 \nL 101.873582 174.499363 \nL 102.274442 175.488466 \nL 102.835729 176.403492 \nL 103.553556 177.235524 \nL 104.422771 177.976413 \nL 105.806017 178.809979 \nL 107.428578 179.453824 \nL 109.26867 179.896259 \nL 111.301381 180.12889 \nL 113.499028 180.146757 \nL 115.831554 179.948414 \nL 118.266962 179.535954 \nL 120.771777 178.914973 \nL 123.311522 178.09448 \nL 126.482033 176.807294 \nL 129.584296 175.258411 \nL 132.551669 173.485155 \nL 135.320538 171.530583 \nL 137.83175 169.442385 \nL 140.031939 167.271663 \nL 141.536724 165.511391 \nL 142.792528 163.76 \nL 143.782843 162.044996 \nL 144.494981 160.393294 \nL 144.920256 158.830769 \nL 145.054109 157.381838 \nL 144.896172 156.06906 \nL 144.58838 155.186151 \nL 144.121675 154.398961 \nL 143.500494 153.714255 \nL 142.730523 153.137852 \nL 141.818654 152.674575 \nL 140.396154 152.239225 \nL 138.757831 152.017554 \nL 136.928813 152.012038 \nL 134.936969 152.221613 \nL 132.812511 152.641695 \nL 130.019528 153.450278 \nL 127.135408 154.552082 \nL 124.227976 155.916705 \nL 121.365581 157.50703 \nL 118.615561 159.280172 \nL 116.04273 161.188575 \nL 113.70792 163.181228 \nL 111.666618 165.204967 \nL 109.967719 167.205833 \nL 108.652424 169.130452 \nL 107.898591 170.580592 \nL 107.423702 171.924075 \nL 107.236148 173.137759 \nL 107.340185 174.200632 \nL 107.609764 174.887556 \nL 108.041959 175.472345 \nL 108.633929 175.949126 \nL 109.381538 176.313019 \nL 110.610956 176.616127 \nL 112.091207 176.705732 \nL 113.802556 176.579216 \nL 115.721942 176.237495 \nL 118.373781 175.514805 \nL 121.253253 174.47926 \nL 124.298719 173.155068 \nL 127.444814 171.573813 \nL 131.257667 169.391105 \nL 135.000026 166.969807 \nL 138.556191 164.395033 \nL 141.816483 161.757543 \nL 144.680783 159.150401 \nL 147.061771 156.665554 \nL 148.624477 154.751572 \nL 149.769379 153.030037 \nL 150.473802 151.542686 \nL 150.711265 150.545667 \nL 150.656586 149.736702 \nL 150.425114 149.260781 \nL 150.033076 148.901402 \nL 149.484307 148.661388 \nL 148.517802 148.529869 \nL 147.297333 148.614491 \nL 145.444058 149.020015 \nL 143.26875 149.746425 \nL 140.306819 151.011836 \nL 137.057202 152.658549 \nL 133.049852 154.975027 \nL 128.985703 157.600409 \nL 125.051694 160.397325 \nL 121.429042 163.21983 \nL 118.285283 165.920703 \nL 115.766907 168.358799 \nL 114.197118 170.141919 \nL 113.230746 171.568181 \nL 112.913317 172.443061 \nL 112.986766 172.919388 \nL 113.233505 173.140066 \nL 113.643152 173.240788 \nL 114.437979 173.1862 \nL 115.8165 172.814659 \nL 117.997287 171.934647 \nL 121.183261 170.347106 \nL 124.933905 168.226263 \nL 129.710153 165.278517 \nL 135.393744 161.515313 \nL 141.631186 157.128965 \nL 147.784045 152.548558 \nL 152.935171 148.454221 \nL 155.711777 145.998506 \nL 156.392617 145.165204 \nL 156.347122 145.07345 \nL 156.29557 145.06992 \nL 155.768447 145.254222 \nL 154.302297 146.063843 \nL 150.877878 148.242017 \nL 143.516903 153.241422 \nL 122.229423 167.826857 \nL 119.375957 169.519893 \nL 118.628569 169.785235 \nL 118.578575 169.696818 \nL 118.76758 169.390383 \nL 119.594983 168.53588 \nL 122.008778 166.42713 \nL 126.158492 163.104071 \nL 132.100185 158.631496 \nL 138.890546 153.81378 \nL 145.210996 149.612002 \nL 150.556782 146.326491 \nL 154.723938 144.0192 \nL 157.731036 142.59176 \nL 159.73353 141.861144 \nL 160.950226 141.618504 \nL 161.609522 141.667553 \nL 161.915254 141.84519 \nL 162.057069 142.141299 \nL 162.034476 142.552667 \nL 161.750251 143.272909 \nL 160.99526 144.430497 \nL 159.530722 146.154031 \nL 157.507286 148.178377 \nL 154.535378 150.815369 \nL 151.038491 153.616942 \nL 147.178633 156.436919 \nL 143.133765 159.128205 \nL 139.089975 161.550135 \nL 135.765926 163.314766 \nL 132.69217 164.718973 \nL 129.973299 165.707255 \nL 128.046266 166.183593 \nL 126.476933 166.328449 \nL 125.505037 166.201377 \nL 124.802287 165.859107 \nL 124.459022 165.463726 \nL 124.277234 164.952882 \nL 124.259054 164.330794 \nL 124.490513 163.3375 \nL 125.012336 162.170973 \nL 126.063484 160.496779 \nL 127.538162 158.620648 \nL 129.406285 156.588265 \nL 132.112009 154.013305 \nL 135.245631 151.375787 \nL 138.711128 148.768777 \nL 142.40175 146.284216 \nL 146.203469 144.009548 \nL 149.99867 142.0245 \nL 153.071562 140.641749 \nL 155.992341 139.541408 \nL 158.698441 138.749342 \nL 161.132118 138.283537 \nL 162.847988 138.152574 \nL 164.333203 138.23775 \nL 165.567954 138.536517 \nL 166.536038 139.042833 \nL 167.07951 139.553219 \nL 167.4622 140.169921 \nL 167.681667 140.886772 \nL 167.736792 141.696681 \nL 167.555205 142.907468 \nL 167.086155 144.248507 \nL 166.337947 145.696699 \nL 165.322902 147.227191 \nL 163.703824 149.216033 \nL 161.732738 151.239398 \nL 159.456962 153.243336 \nL 156.930655 155.174396 \nL 154.213607 156.980986 \nL 151.36989 158.614697 \nL 148.466422 160.031535 \nL 145.571462 161.193049 \nL 142.753081 162.067311 \nL 140.077626 162.629731 \nL 138.082743 162.843693 \nL 136.250087 162.842623 \nL 134.60758 162.625384 \nL 133.180408 162.19438 \nL 131.990661 161.55551 \nL 131.26553 160.945416 \nL 130.691059 160.228696 \nL 130.272555 159.411464 \nL 130.014066 158.500761 \nL 129.918341 157.504488 \nL 130.046183 156.058137 \nL 130.465497 154.497708 \nL 131.171809 152.847583 \nL 132.156518 151.133613 \nL 133.407015 149.382694 \nL 134.906871 147.622326 \nL 136.636066 145.880165 \nL 139.084259 143.769677 \nL 141.802195 141.782 \nL 144.731864 139.96567 \nL 147.810499 138.364843 \nL 150.971989 137.018171 \nL 154.148362 135.957812 \nL 156.654245 135.332626 \nL 159.091422 134.915809 \nL 161.426391 134.71303 \nL 163.627122 134.726453 \nL 165.663512 134.954705 \nL 167.507827 135.392899 \nL 169.135092 136.032709 \nL 170.523457 136.862512 \nL 171.654507 137.867575 \nL 172.324935 138.725898 \nL 172.837499 139.664565 \nL 173.188704 140.674442 \nL 173.376365 141.745741 \nL 173.399622 142.868109 \nL 173.175893 144.425273 \nL 172.665652 146.027301 \nL 171.877798 147.646823 \nL 170.825223 149.256182 \nL 169.524627 150.827889 \nL 167.996279 152.335069 \nL 166.263723 153.751903 \nL 164.353441 155.054052 \nL 162.294471 156.219053 \nL 160.117993 157.226689 \nL 157.856873 158.059314 \nL 155.545198 158.702151 \nL 153.217781 159.143526 \nL 150.909661 159.375063 \nL 148.655601 159.391819 \nL 146.489584 159.192367 \nL 144.444329 158.778817 \nL 142.550816 158.156785 \nL 140.837842 157.335295 \nL 139.331608 156.326639 \nL 138.055341 155.146169 \nL 137.028958 153.812051 \nL 136.433119 152.722985 \nL 135.992583 151.568624 \nL 135.711573 150.359114 \nL 135.593023 149.105107 \nL 135.690276 147.38305 \nL 136.079227 145.62862 \nL 136.75584 143.869377 \nL 137.71194 142.132955 \nL 138.93533 140.446619 \nL 140.40997 138.836811 \nL 142.116205 137.328723 \nL 144.031047 135.945881 \nL 146.128509 134.709761 \nL 148.379976 133.63944 \nL 150.754617 132.751281 \nL 153.21983 132.058663 \nL 155.741709 131.571769 \nL 158.285535 131.297413 \nL 160.816271 131.238932 \nL 163.299069 131.396129 \nL 165.69977 131.765279 \nL 167.985399 132.339187 \nL 170.124632 133.107308 \nL 172.088253 134.055918 \nL 173.849574 135.16834 \nL 175.384815 136.425217 \nL 176.673449 137.804826 \nL 177.698496 139.283436 \nL 178.446769 140.835697 \nL 178.909061 142.435054 \nL 179.08028 144.054179 \nL 178.959523 145.665422 \nL 178.550083 147.241262 \nL 177.85941 148.754758 \nL 176.898997 150.179987 \nL 175.684219 151.492473 \nL 174.23411 152.669584 \nL 172.571088 153.690903 \nL 170.720635 154.538563 \nL 168.71093 155.197538 \nL 166.572441 155.655892 \nL 164.337491 155.90497 \nL 162.039788 155.939543 \nL 159.713945 155.757891 \nL 157.394979 155.361835 \nL 155.117807 154.756701 \nL 152.916747 153.95124 \nL 150.82502 152.95748 \nL 148.874275 151.790531 \nL 147.094134 150.468335 \nL 145.511762 149.011377 \nL 144.151482 147.442347 \nL 143.034421 145.785769 \nL 142.178205 144.067599 \nL 141.596711 142.314801 \nL 141.299863 140.554907 \nL 141.293488 138.815563 \nL 141.48048 137.540997 \nL 141.831023 136.304621 \nL 142.342935 135.117338 \nL 143.012729 133.989596 \nL 144.142969 132.595581 \nL 145.530573 131.346604 \nL 147.15714 130.26195 \nL 149.000828 129.358218 \nL 151.036672 128.649042 \nL 153.236945 128.144876 \nL 155.571553 127.852817 \nL 158.008468 127.77649 \nL 160.514193 127.915992 \nL 163.054239 128.267886 \nL 165.593625 128.825261 \nL 168.097379 129.577841 \nL 170.531041 130.512157 \nL 172.861158 131.611767 \nL 175.055771 132.857521 \nL 177.084865 134.22788 \nL 178.920809 135.699265 \nL 180.538751 137.246443 \nL 181.916974 138.842942 \nL 183.03721 140.461481 \nL 183.884901 142.07442 \nL 184.449411 143.65421 \nL 184.724178 145.173846 \nL 184.706807 146.607303 \nL 184.502993 147.610973 \nL 184.138092 148.542555 \nL 183.615714 149.392982 \nL 182.940746 150.153934 \nL 182.119312 150.817916 \nL 180.809024 151.541106 \nL 179.27188 152.067287 \nL 177.531552 152.386696 \nL 175.614633 152.492952 \nL 173.550257 152.383162 \nL 171.36968 152.057971 \nL 169.10583 151.521546 \nL 166.792831 150.781512 \nL 163.885558 149.587142 \nL 161.024277 148.120252 \nL 158.276299 146.416071 \nL 155.706392 144.515891 \nL 153.375325 142.466012 \nL 151.338498 140.316558 \nL 149.953931 138.560642 \nL 148.81053 136.802267 \nL 147.926303 135.069053 \nL 147.315527 133.388211 \nL 146.988548 131.786094 \nL 146.951628 130.287769 \nL 147.115703 129.246269 \nL 147.443528 128.285444 \nL 147.933105 127.413657 \nL 148.581129 126.638452 \nL 149.38301 125.96648 \nL 150.332915 125.403446 \nL 151.817393 124.830164 \nL 153.532592 124.467008 \nL 155.455396 124.31877 \nL 157.559704 124.386722 \nL 159.816802 124.668598 \nL 162.195778 125.158633 \nL 165.290997 126.049612 \nL 168.459034 127.226251 \nL 171.631769 128.656236 \nL 174.740977 130.300779 \nL 177.719858 132.11561 \nL 180.504541 134.052109 \nL 183.035518 136.058546 \nL 185.258978 138.081405 \nL 187.128019 140.066749 \nL 188.603698 141.961602 \nL 189.655912 143.715297 \nL 190.178615 144.984845 \nL 190.410966 146.111913 \nL 190.351181 147.076903 \nL 190.115926 147.68398 \nL 189.720181 148.184219 \nL 189.167809 148.572523 \nL 188.463939 148.844831 \nL 187.300939 149.02245 \nL 185.898334 148.984593 \nL 184.277859 148.730728 \nL 181.984045 148.11454 \nL 179.443438 147.179276 \nL 176.716148 145.946582 \nL 173.866478 144.445703 \nL 170.379846 142.341899 \nL 166.931542 139.97765 \nL 163.638264 137.435974 \nL 160.611698 134.806415 \nL 157.954913 132.181743 \nL 156.089561 130.065136 \nL 154.589481 128.068116 \nL 153.49141 126.239459 \nL 152.92134 124.927814 \nL 152.636233 123.772798 \nL 152.641748 122.792162 \nL 152.837654 122.180195 \nL 153.197025 121.679908 \nL 153.717609 121.295423 \nL 154.39585 121.029792 \nL 155.536882 120.863732 \nL 156.9346 120.913891 \nL 158.570456 121.178294 \nL 160.916379 121.801404 \nL 163.550176 122.732286 \nL 167.011328 124.21843 \nL 170.699321 126.05138 \nL 175.136433 128.532487 \nL 179.540397 131.258063 \nL 184.2957 134.489423 \nL 188.505896 137.63411 \nL 191.942013 140.477926 \nL 194.167214 142.565759 \nL 195.568146 144.163269 \nL 196.033156 144.955405 \nL 196.076915 145.361586 \nL 195.918521 145.5281 \nL 195.456064 145.562118 \nL 194.486438 145.300711 \nL 192.782626 144.54824 \nL 190.128086 143.097231 \nL 186.370664 140.766977 \nL 181.496092 137.462464 \nL 175.713284 133.249848 \nL 170.068014 128.865284 \nL 165.088854 124.73613 \nL 161.244859 121.263806 \nL 159.238338 119.186954 \nL 158.445317 118.12478 \nL 158.277516 117.594038 \nL 158.395722 117.435876 \nL 158.677998 117.399337 \nL 159.306582 117.539391 \nL 160.773166 118.145652 \nL 163.225198 119.420031 \nL 167.391996 121.84364 \nL 174.86376 126.480756 \nL 193.974146 138.461203 \nL 198.183885 140.828023 \nL 200.454588 141.876903 \nL 201.435437 142.115712 \nL 201.728841 142.005366 \nL 201.757185 141.781084 \nL 201.540178 141.296347 \nL 200.866732 140.402121 \nL 199.208353 138.65106 \nL 196.389979 136.035114 \nL 192.254251 132.504074 \nL 186.836921 128.178878 \nL 181.04719 123.838854 \nL 175.426537 119.906836 \nL 170.94864 117.033596 \nL 167.719861 115.199608 \nL 165.639383 114.24377 \nL 164.490603 113.941432 \nL 164.073664 114.009939 \nL 163.950055 114.201956 \nL 163.990494 114.512116 \nL 164.299975 115.10351 \nL 165.092749 116.112774 \nL 166.61862 117.681946 \nL 169.133217 119.927117 \nL 172.340251 122.505182 \nL 176.682024 125.685472 \nL 180.89506 128.509911 \nL 185.309817 131.218935 \nL 189.740611 133.670992 \nL 193.40976 135.470182 \nL 196.840299 136.915682 \nL 199.440297 137.808508 \nL 201.745687 138.390788 \nL 203.707727 138.645394 \nL 205.002291 138.606982 \nL 206.033619 138.352564 \nL 206.626233 138.021675 \nL 207.059085 137.573467 \nL 207.329331 137.011579 \nL 207.43544 136.3407 \nL 207.321437 135.286632 \nL 206.918629 134.065129 \nL 206.234367 132.695027 \nL 205.000991 130.806038 \nL 203.37669 128.764263 \nL 201.400992 126.619618 \nL 198.633573 123.984348 \nL 195.52348 121.369663 \nL 192.176481 118.867788 \nL 188.705998 116.566803 \nL 185.229445 114.5474 \nL 181.864433 112.879925 \nL 179.227904 111.801052 \nL 176.810398 111.032021 \nL 174.669258 110.590231 \nL 173.189933 110.478773 \nL 171.943191 110.583369 \nL 170.948525 110.901154 \nL 170.377639 111.275705 \nL 169.96283 111.762733 \nL 169.708114 112.357265 \nL 169.616212 113.05334 \nL 169.749171 114.127343 \nL 170.173561 115.350772 \nL 170.884834 116.702452 \nL 171.874316 118.159109 \nL 173.482723 120.089352 \nL 175.472658 122.092907 \nL 177.802465 124.116332 \nL 180.422852 126.105677 \nL 183.278001 128.007861 \nL 186.30682 129.772033 \nL 189.444315 131.350866 \nL 192.623053 132.701768 \nL 195.774674 133.787974 \nL 198.831426 134.579478 \nL 201.164316 134.985125 \nL 203.362422 135.179833 \nL 205.39568 135.15926 \nL 207.236401 134.922592 \nL 208.859661 134.472547 \nL 210.243668 133.815337 \nL 211.113487 133.19213 \nL 211.831943 132.462981 \nL 212.393876 131.634119 \nL 212.795395 130.712692 \nL 213.033908 129.706699 \nL 213.10814 128.62492 \nL 212.951859 127.081129 \nL 212.507585 125.443636 \nL 211.783267 123.738086 \nL 210.790884 121.991236 \nL 209.546269 120.23052 \nL 208.068886 118.483599 \nL 206.381545 116.777908 \nL 204.016728 114.744441 \nL 201.420569 112.866832 \nL 198.654427 111.190803 \nL 195.783476 109.756929 \nL 192.875247 108.599593 \nL 190.567776 107.891448 \nL 188.314968 107.388357 \nL 186.150789 107.0974 \nL 184.10793 107.022186 \nL 182.217337 107.162791 \nL 180.507766 107.515763 \nL 179.005368 108.07417 \nL 177.733314 108.827721 \nL 176.942516 109.51295 \nL 176.299591 110.293626 \nL 175.810402 111.16207 \nL 175.479566 112.109796 \nL 175.31042 113.127589 \nL 175.304992 114.205588 \nL 175.553447 115.7185 \nL 176.092034 117.293962 \nL 176.914562 118.905037 \nL 178.010757 120.524207 \nL 179.366408 122.123821 \nL 180.963572 123.676548 \nL 182.780831 125.155825 \nL 184.7936 126.536291 \nL 186.974483 127.7942 \nL 189.293666 128.907813 \nL 191.719342 129.857754 \nL 194.218177 130.627324 \nL 196.75578 131.202774 \nL 199.297206 131.573535 \nL 201.807452 131.732385 \nL 204.251965 131.675573 \nL 206.597139 131.402873 \nL 208.810794 130.917597 \nL 210.862644 130.226531 \nL 212.72473 129.339831 \nL 214.371824 128.270857 \nL 215.781788 127.035946 \nL 216.935899 125.654156 \nL 217.819111 124.146946 \nL 218.296886 122.948309 \nL 218.612717 121.702869 \nL 218.764705 120.421608 \nL 218.711689 118.677133 \nL 218.368852 116.916515 \nL 217.742683 115.167412 \nL 216.84375 113.457295 \nL 215.686542 111.812998 \nL 214.289264 110.260275 \nL 212.673575 108.823384 \nL 210.864277 107.524685 \nL 208.888955 106.384278 \nL 206.777584 105.419674 \nL 204.562096 104.645503 \nL 202.275919 104.073282 \nL 199.953501 103.711223 \nL 197.629809 103.564096 \nL 195.339828 103.633157 \nL 193.118061 103.916121 \nL 190.998026 104.407204 \nL 189.01178 105.097218 \nL 187.189454 105.973716 \nL 185.558823 107.021202 \nL 184.144902 108.22138 \nL 182.969588 109.553456 \nL 182.051349 110.994477 \nL 181.404952 112.519708 \nL 181.041254 114.103035 \nL 180.967046 115.717394 \nL 181.184952 117.335213 \nL 181.693397 118.928863 \nL 182.486625 120.471111 \nL 183.554782 121.935564 \nL 184.884062 123.297104 \nL 186.456899 124.532296 \nL 188.252227 125.619773 \nL 190.245775 126.540585 \nL 192.410425 127.27851 \nL 194.716595 127.820318 \nL 197.132667 128.155989 \nL 199.625443 128.278878 \nL 202.160621 128.185818 \nL 204.70329 127.877181 \nL 207.218429 127.356863 \nL 209.671416 126.632227 \nL 212.02852 125.713977 \nL 214.257393 124.615987 \nL 216.327527 123.355073 \nL 218.210703 121.950716 \nL 219.881386 120.424744 \nL 221.317103 118.800977 \nL 222.498757 117.104835 \nL 223.410907 115.362921 \nL 224.041991 113.602588 \nL 224.384488 111.85149 \nL 224.435029 110.137131 \nL 224.194446 108.486413 \nL 223.825822 107.305747 \nL 223.299821 106.185844 \nL 222.62136 105.136531 \nL 221.490387 103.863015 \nL 220.117273 102.750913 \nL 218.523329 101.817272 \nL 216.733043 101.076217 \nL 214.773728 100.538723 \nL 212.675127 100.212432 \nL 210.46899 100.10153 \nL 208.18861 100.20668 \nL 205.868351 100.525006 \nL 203.543149 101.050146 \nL 201.248013 101.772354 \nL 199.017516 102.678657 \nL 196.885305 103.753069 \nL 194.883611 104.976856 \nL 193.042787 106.328836 \nL 191.390874 107.785732 \nL 189.953193 109.322548 \nL 188.751985 110.91298 \nL 187.806088 112.529848 \nL 187.130667 114.14554 \nL 186.736998 115.73246 \nL 186.632301 117.263487 \nL 186.745418 118.359263 \nL 187.022635 119.39825 \nL 187.462363 120.37039 \nL 188.061702 121.266242 \nL 188.816456 122.077068 \nL 189.721172 122.794913 \nL 191.149045 123.595263 \nL 192.812549 124.20355 \nL 194.689312 124.608663 \nL 196.753895 124.802821 \nL 198.978155 124.781693 \nL 201.331652 124.544471 \nL 203.78209 124.093884 \nL 206.295775 123.436152 \nL 208.838105 122.580887 \nL 212.002957 121.253879 \nL 215.089814 119.670169 \nL 218.03238 117.867969 \nL 220.767599 115.891076 \nL 223.237073 113.787749 \nL 225.388373 111.60948 \nL 226.849632 109.848764 \nL 228.05866 108.101914 \nL 228.999622 106.396364 \nL 229.66054 104.758871 \nL 230.033466 103.21508 \nL 230.114591 101.789101 \nL 229.984019 100.810358 \nL 229.691159 99.918937 \nL 229.239039 99.122563 \nL 228.631977 98.428083 \nL 227.875547 97.841407 \nL 226.976529 97.367453 \nL 225.569913 96.917408 \nL 223.945837 96.68074 \nL 222.129222 96.660167 \nL 220.147761 96.854875 \nL 218.031515 97.260522 \nL 215.245569 98.052026 \nL 212.364753 99.138232 \nL 209.45682 100.489134 \nL 206.590129 102.067967 \nL 203.832116 103.832139 \nL 201.247773 105.734323 \nL 198.898191 107.723668 \nL 196.839189 109.747093 \nL 195.120059 111.750648 \nL 193.782457 113.680891 \nL 193.009619 115.137548 \nL 192.51499 116.489228 \nL 192.307245 117.712657 \nL 192.390929 118.78666 \nL 192.645315 119.482735 \nL 193.062514 120.077267 \nL 193.639806 120.564295 \nL 194.373175 120.938846 \nL 195.584485 121.256631 \nL 197.047872 121.361227 \nL 198.743841 121.249769 \nL 200.649554 120.922928 \nL 203.286999 120.218216 \nL 206.155371 119.199532 \nL 209.193283 117.890652 \nL 212.335537 116.322768 \nL 216.1488 114.153068 \nL 219.897023 111.741017 \nL 223.464318 109.171389 \nL 226.740645 106.534756 \nL 229.625368 103.924149 \nL 232.030506 101.431643 \nL 233.615625 99.508273 \nL 234.784484 97.774871 \nL 235.513871 96.273476 \nL 235.771653 95.263895 \nL 235.737287 94.441409 \nL 235.520868 93.95485 \nL 235.143595 93.584516 \nL 234.609179 93.333332 \nL 233.660976 93.186761 \nL 232.45761 93.256376 \nL 230.623657 93.643579 \nL 228.464983 94.352589 \nL 225.518943 95.598962 \nL 222.280298 97.229302 \nL 218.279066 99.530843 \nL 214.213596 102.146479 \nL 210.270884 104.939324 \nL 206.632529 107.763639 \nL 203.466758 110.472111 \nL 200.921026 112.923215 \nL 199.324445 114.721305 \nL 198.329102 116.165487 \nL 197.986539 117.057082 \nL 198.039639 117.547641 \nL 198.271167 117.779345 \nL 198.665783 117.891279 \nL 199.441058 117.851754 \nL 200.796322 117.498877 \nL 202.951618 116.640392 \nL 205.622433 115.334143 \nL 209.280983 113.303976 \nL 213.989058 110.435136 \nL 219.647723 106.723169 \nL 225.923611 102.342417 \nL 232.194855 97.705423 \nL 237.551054 93.482706 \nL 240.563393 90.863758 \nL 241.429525 89.895979 \nL 241.425706 89.731585 \nL 241.131381 89.783408 \nL 240.158988 90.261211 \nL 237.586671 91.828521 \nL 231.916962 95.60638 \nL 218.406649 104.96674 \nL 208.503807 111.702456 \nL 204.872095 113.948176 \nL 203.767064 114.440663 \nL 203.643759 114.364892 \nL 203.81242 114.073384 \nL 204.609804 113.240479 \nL 206.981595 111.160796 \nL 211.092158 107.862794 \nL 217.003921 103.406093 \nL 223.781208 98.590152 \nL 230.105626 94.377536 \nL 235.467648 91.073023 \nL 239.658358 88.742769 \nL 242.692026 87.29176 \nL 244.720803 86.539289 \nL 245.961235 86.277882 \nL 246.640336 86.3119 \nL 247.031829 86.560432 \nL 247.134099 86.884595 \nL 247.014999 87.4939 \nL 246.607188 88.295204 \nL 245.70312 89.544818 \nL 244.072015 91.362074 \nL 241.900525 93.45869 \nL 238.785626 96.149386 \nL 235.183711 98.969199 \nL 231.261403 101.771042 \nL 227.199407 104.408725 \nL 223.184566 106.744262 \nL 219.921092 108.411976 \nL 216.938901 109.701888 \nL 214.742286 110.45074 \nL 212.864188 110.879939 \nL 211.621702 110.983982 \nL 210.631602 110.871968 \nL 209.90969 110.544577 \nL 209.551588 110.160092 \nL 209.354701 109.659805 \nL 209.321278 109.047838 \nL 209.532407 108.067202 \nL 210.034158 106.912186 \nL 211.061021 105.250485 \nL 212.512815 103.384442 \nL 214.359969 101.359487 \nL 217.043717 98.789666 \nL 220.159507 96.152998 \nL 223.611893 93.542515 \nL 227.294546 91.050289 \nL 231.093698 88.764043 \nL 234.891816 86.76393 \nL 237.971265 85.366358 \nL 240.902199 84.249538 \nL 243.621826 83.439753 \nL 246.072097 82.955443 \nL 247.803202 82.809428 \nL 249.305157 82.879597 \nL 250.557914 83.163649 \nL 251.54501 83.655781 \nL 252.103238 84.15602 \nL 252.500976 84.763097 \nL 252.735663 85.470936 \nL 252.806055 86.272528 \nL 252.644687 87.473439 \nL 252.195429 88.806135 \nL 251.466303 90.247654 \nL 250.469356 91.773251 \nL 248.871121 93.758595 \nL 246.918466 95.781454 \nL 244.658294 97.787891 \nL 242.144416 99.72439 \nL 239.43634 101.539221 \nL 236.597938 103.183764 \nL 233.696009 104.613749 \nL 230.798776 105.790388 \nL 227.974362 106.681367 \nL 225.28925 107.26167 \nL 223.284174 107.49047 \nL 221.43929 107.504449 \nL 219.782694 107.302224 \nL 218.339777 106.885952 \nL 217.132854 106.261291 \nL 216.39405 105.661372 \nL 215.80535 104.954307 \nL 215.372178 104.146123 \nL 215.098698 103.243777 \nL 214.987783 102.255093 \nL 215.095272 100.817547 \nL 215.494389 99.26429 \nL 216.180952 97.619587 \nL 217.14664 95.909201 \nL 218.379122 94.159969 \nL 219.862224 92.399362 \nL 221.576171 90.655041 \nL 224.007751 88.539209 \nL 226.712137 86.543381 \nL 229.631625 84.7163 \nL 232.703678 83.102398 \nL 235.86233 81.74066 \nL 239.039674 80.663629 \nL 241.549065 80.024235 \nL 243.992124 79.592687 \nL 246.335267 79.374895 \nL 248.546343 79.373268 \nL 250.595104 79.586682 \nL 252.453634 80.010489 \nL 254.096757 80.636602 \nL 255.502392 81.453619 \nL 256.651878 82.447018 \nL 257.336739 83.297445 \nL 257.864124 84.229027 \nL 258.23042 85.232697 \nL 258.433321 86.298722 \nL 258.47184 87.416798 \nL 258.268284 88.969835 \nL 257.77775 90.56962 \nL 257.008852 92.188819 \nL 255.97421 93.799781 \nL 254.690266 95.37499 \nL 253.177048 96.887512 \nL 251.457884 98.311445 \nL 249.559062 99.62233 \nL 247.509458 100.797563 \nL 245.340113 101.816757 \nL 243.083794 102.662081 \nL 240.774516 103.318547 \nL 238.44706 103.774258 \nL 236.136465 104.020605 \nL 233.877529 104.052402 \nL 231.704305 103.867976 \nL 229.649616 103.469191 \nL 227.744578 102.86142 \nL 226.018153 102.053455 \nL 224.496737 101.057367 \nL 223.203774 99.888302 \nL 222.159421 98.564239 \nL 221.549425 97.481729 \nL 221.094274 96.333011 \nL 220.798311 95.128178 \nL 220.664592 93.877842 \nL 220.741492 92.159054 \nL 221.110217 90.405989 \nL 221.76702 88.646184 \nL 222.70401 86.907284 \nL 223.909267 85.216592 \nL 225.36701 83.600623 \nL 227.057828 82.08467 \nL 228.958956 80.692386 \nL 231.044602 79.445404 \nL 233.286321 78.362977 \nL 235.653425 77.461665 \nL 238.113417 76.755065 \nL 240.63247 76.253588 \nL 243.175901 75.964286 \nL 245.708682 75.89074 \nL 248.195934 76.033001 \nL 250.603436 76.387587 \nL 252.898113 76.947543 \nL 255.048511 77.702551 \nL 257.025255 78.639102 \nL 258.801467 79.740717 \nL 260.353153 80.988215 \nL 261.659548 82.360026 \nL 262.703419 83.832548 \nL 263.471307 85.38053 \nL 263.953723 86.977486 \nL 264.145286 88.596129 \nL 264.044798 90.208816 \nL 263.655264 91.788003 \nL 262.983845 93.306693 \nL 262.041759 94.73888 \nL 260.844115 96.059972 \nL 259.409701 97.247197 \nL 257.760711 98.279972 \nL 255.922425 99.140244 \nL 253.922844 99.81278 \nL 251.792294 100.285421 \nL 249.562981 100.549279 \nL 247.268534 100.598883 \nL 244.943518 100.432267 \nL 242.622938 100.051006 \nL 240.341735 99.460185 \nL 238.134284 98.668319 \nL 236.033899 97.687214 \nL 234.072354 96.531772 \nL 232.279424 95.219749 \nL 230.68246 93.771462 \nL 229.305994 92.20946 \nL 228.171386 90.558151 \nL 227.296516 88.843405 \nL 226.695527 87.09213 \nL 226.378624 85.331834 \nL 226.351923 83.590169 \nL 226.617367 81.894484 \nL 227.006968 80.668935 \nL 227.557218 79.495036 \nL 228.26432 78.383113 \nL 229.44218 77.013723 \nL 230.874352 75.793035 \nL 232.541792 74.739871 \nL 234.422071 73.870314 \nL 236.489698 73.197441 \nL 238.716489 72.731109 \nL 241.071967 72.477796 \nL 243.523805 72.440496 \nL 246.038291 72.618665 \nL 248.580811 73.008233 \nL 251.116346 73.601673 \nL 253.609982 74.38812 \nL 256.027402 75.353549 \nL 258.33539 76.481009 \nL 260.502301 77.750896 \nL 262.498522 79.141274 \nL 264.296895 80.628237 \nL 265.873106 82.186297 \nL 267.20604 83.788804 \nL 268.278079 85.40838 \nL 269.07536 87.017366 \nL 269.587972 88.58828 \nL 269.810099 90.094259 \nL 269.740104 91.509504 \nL 269.497288 92.496702 \nL 269.094135 93.409567 \nL 268.534565 94.239205 \nL 267.823767 94.977488 \nL 266.968154 95.617128 \nL 265.615339 96.305651 \nL 264.039706 96.795161 \nL 262.26548 97.076493 \nL 260.319742 97.143891 \nL 258.232041 96.995097 \nL 256.033968 96.631394 \nL 253.758703 96.05758 \nL 251.440534 95.281893 \nL 248.535686 94.04628 \nL 245.686642 92.54282 \nL 242.96044 90.807677 \nL 240.421359 88.882933 \nL 238.129472 86.815516 \nL 236.510802 85.092752 \nL 235.110205 83.338039 \nL 233.949388 81.578938 \nL 233.04661 79.843083 \nL 232.416414 78.157729 \nL 232.069426 76.549303 \nL 232.012194 75.042972 \nL 232.161014 73.994434 \nL 232.473701 73.025756 \nL 232.948382 72.145373 \nL 233.581871 71.360907 \nL 234.369696 70.679098 \nL 235.306138 70.105737 \nL 236.773774 69.518092 \nL 238.473622 69.140111 \nL 240.382785 68.976828 \nL 242.475358 69.02976 \nL 244.722796 69.296889 \nL 247.094327 69.772689 \nL 250.183513 70.646951 \nL 253.349278 71.808465 \nL 256.523552 73.225303 \nL 259.638074 74.859014 \nL 262.625927 76.665604 \nL 265.423039 78.596664 \nL 267.96962 80.600602 \nL 270.211511 82.623967 \nL 272.101395 84.612809 \nL 273.599861 86.514062 \nL 274.676293 88.276896 \nL 275.219037 89.555572 \nL 275.47171 90.693223 \nL 275.432235 91.670079 \nL 275.212029 92.286781 \nL 274.83104 92.797167 \nL 274.29301 93.19605 \nL 273.602955 93.479269 \nL 272.457359 93.671779 \nL 271.070771 93.648983 \nL 269.464694 93.4101 \nL 267.186287 92.812158 \nL 264.657891 91.89417 \nL 261.939341 90.677341 \nL 259.094743 89.19051 \nL 255.609201 87.100664 \nL 252.156511 84.746729 \nL 248.853513 82.211345 \nL 245.812208 79.583824 \nL 243.136138 76.956862 \nL 241.25169 74.835096 \nL 239.730219 72.830099 \nL 238.608942 70.990849 \nL 238.019348 69.669027 \nL 237.714169 68.5025 \nL 237.699354 67.509206 \nL 237.880018 66.887118 \nL 238.224289 66.376274 \nL 238.730037 65.980893 \nL 239.393827 65.70413 \nL 240.51639 65.523033 \nL 241.896796 65.558161 \nL 243.516745 65.807785 \nL 245.845109 66.413143 \nL 248.464294 67.327497 \nL 251.912257 68.796015 \nL 255.5922 70.614356 \nL 260.026751 73.08294 \nL 264.435608 75.801451 \nL 268.633346 78.627864 \nL 272.947008 81.8011 \nL 276.520517 84.706731 \nL 279.161407 87.146146 \nL 280.596399 88.764984 \nL 281.08668 89.574195 \nL 281.150787 89.99481 \nL 281.007537 90.172447 \nL 280.702187 90.229489 \nL 280.048494 90.116363 \nL 278.851236 89.672517 \nL 276.897709 88.709446 \nL 273.994257 87.03395 \nL 270.021502 84.488728 \nL 265.007245 81.011898 \nL 259.207932 76.71037 \nL 253.693265 72.353296 \nL 248.980145 68.365244 \nL 245.793838 65.41287 \nL 244.013562 63.491092 \nL 243.403734 62.559537 \nL 243.358379 62.199669 \nL 243.516122 62.070711 \nL 243.980946 62.088023 \nL 244.963053 62.411182 \nL 247.049976 63.405353 \nL 250.35049 65.246512 \nL 256.159477 68.767747 \nL 268.598053 76.64423 \nL 278.408942 82.739951 \nL 282.792911 85.241908 \nL 285.231134 86.418919 \nL 286.347829 86.760095 \nL 286.734238 86.718902 \nL 286.832668 86.546157 \nL 286.708473 86.128796 \nL 286.14815 85.315093 \nL 284.903586 83.93592 \nL 282.351833 81.493566 \nL 278.449884 78.097875 \nL 273.190639 73.835925 \nL 267.438561 69.461439 \nL 261.731763 65.400753 \nL 257.076628 62.341785 \nL 253.62149 60.299709 \nL 251.300291 59.139613 \nL 249.921823 58.6538 \nL 249.243289 58.619347 \nL 249.050197 58.760267 \nL 249.020607 59.020425 \nL 249.236849 59.547647 \nL 249.91517 60.48218 \nL 251.310156 61.972211 \nL 253.686275 64.143208 \nL 256.775914 66.670146 \nL 261.015907 69.823448 \nL 265.172614 72.653108 \nL 269.564235 75.394045 \nL 274.006103 77.90311 \nL 277.711642 79.76901 \nL 281.202194 81.295132 \nL 284.3702 82.421492 \nL 286.693348 83.021595 \nL 288.675667 83.294762 \nL 289.987965 83.27141 \nL 291.038096 83.031974 \nL 291.645349 82.712123 \nL 292.093173 82.274669 \nL 292.378598 81.723152 \nL 292.499973 81.062167 \nL 292.406245 80.020388 \nL 292.023354 78.809963 \nL 291.358365 77.449544 \nL 290.147751 75.57046 \nL 288.544263 73.535912 \nL 286.586959 71.395634 \nL 283.837843 68.761675 \nL 280.741388 66.143974 \nL 277.402921 63.63487 \nL 273.935587 61.322705 \nL 270.4567 59.288585 \nL 267.083946 57.603396 \nL 264.437009 56.507939 \nL 262.005744 55.721117 \nL 259.847804 55.260784 \nL 258.353099 55.134268 \nL 257.089492 55.223873 \nL 256.076718 55.526981 \nL 255.491592 55.890874 \nL 255.062105 56.367655 \nL 254.792393 56.952444 \nL 254.685297 57.639368 \nL 254.797905 58.702241 \nL 255.202103 59.915925 \nL 255.893636 61.259408 \nL 256.864113 62.709548 \nL 258.450213 64.634167 \nL 260.419918 66.635033 \nL 262.732025 68.658772 \nL 265.33764 70.651425 \nL 268.181277 72.559828 \nL 271.202102 74.33297 \nL 274.335301 75.923295 \nL 277.513539 77.287918 \nL 280.668464 78.389722 \nL 283.732253 79.198305 \nL 286.073355 79.618387 \nL 288.281843 79.827962 \nL 290.327505 79.822446 \nL 292.182472 79.600775 \nL 293.821617 79.165425 \nL 295.222917 78.522366 \nL 296.106482 77.909276 \nL 296.839225 77.189714 \nL 297.415872 76.369821 \nL 297.832412 75.456663 \nL 298.086131 74.458162 \nL 298.175632 73.383029 \nL 298.039592 71.84668 \nL 297.615159 70.214895 \nL 296.909996 68.513227 \nL 295.935807 66.76837 \nL 294.708164 65.007724 \nL 293.246284 63.258949 \nL 291.572758 61.54951 \nL 289.222532 59.508792 \nL 286.637687 57.621257 \nL 283.879328 55.932881 \nL 281.012454 54.484553 \nL 278.104504 53.311027 \nL 275.223838 52.440037 \nL 272.984536 51.974786 \nL 270.839868 51.72258 \nL 268.822245 51.686392 \nL 266.962249 51.865661 \nL 265.288196 52.2563 \nL 263.825726 52.850762 \nL 262.597437 53.638168 \nL 261.841602 54.347007 \nL 261.235161 55.149524 \nL 260.783682 56.037839 \nL 260.491477 57.003284 \nL 260.361571 58.03648 \nL 260.44359 59.502096 \nL 260.817403 61.045174 \nL 261.479191 62.639309 \nL 262.420992 64.257259 \nL 263.630817 65.871393 \nL 265.092819 67.454144 \nL 266.787524 68.978456 \nL 268.692112 70.41823 \nL 270.780743 71.748752 \nL 273.024928 72.947094 \nL 275.393941 73.992492 \nL 277.855262 74.866686 \nL 280.375041 75.554215 \nL 282.918588 76.042675 \nL 285.450871 76.322919 \nL 287.937018 76.389208 \nL 290.342825 76.239303 \nL 292.63524 75.874504 \nL 294.782844 75.299629 \nL 296.756301 74.522931 \nL 298.528779 73.555967 \nL 300.076338 72.413409 \nL 301.378275 71.112801 \nL 302.417418 69.674275 \nL 303.180377 68.120217 \nL 303.565532 66.893402 \nL 303.787491 65.626041 \nL 303.827799 63.892527 \nL 303.577088 62.134065 \nL 303.040523 60.378276 \nL 302.22738 58.652742 \nL 301.150916 56.984547 \nL 299.828174 55.399837 \nL 298.279742 53.923393 \nL 296.529452 52.578224 \nL 294.604042 51.38519 \nL 292.532768 50.362661 \nL 290.346985 49.526218 \nL 288.079696 48.888395 \nL 285.765074 48.458477 \nL 283.437975 48.242347 \nL 281.133435 48.242389 \nL 278.886164 48.457447 \nL 276.730048 48.88285 \nL 274.697662 49.510482 \nL 272.819803 50.328919 \nL 271.125042 51.323614 \nL 269.639318 52.477136 \nL 268.385562 53.769454 \nL 267.383369 55.178265 \nL 266.648714 56.679363 \nL 266.193723 58.247027 \nL 266.026501 59.85445 \nL 266.15101 61.474174 \nL 266.567019 63.078538 \nL 267.270101 64.640134 \nL 268.251701 66.132253 \nL 269.499254 67.529323 \nL 270.996374 68.807328 \nL 272.72308 69.944201 \nL 274.656093 70.920183 \nL 276.769162 71.71815 \nL 279.033448 72.323888 \nL 281.417936 72.726332 \nL 283.889882 72.917743 \nL 286.415284 72.893835 \nL 288.959371 72.653846 \nL 291.487103 72.20055 \nL 293.963676 71.540211 \nL 296.355019 70.682484 \nL 298.628292 69.64025 \nL 300.75235 68.429414 \nL 302.698194 67.068636 \nL 304.439392 65.579033 \nL 305.952454 63.983828 \nL 307.217171 62.307974 \nL 308.216907 60.577742 \nL 308.938841 58.820295 \nL 309.374143 57.063239 \nL 309.518111 55.334175 \nL 309.370232 53.660245 \nL 309.069858 52.456812 \nL 308.610398 51.309777 \nL 307.996228 50.229219 \nL 306.946584 48.908145 \nL 305.648707 47.742465 \nL 304.122828 46.750104 \nL 302.392456 45.946146 \nL 300.48404 45.342595 \nL 298.426593 44.948176 \nL 296.251272 44.76819 \nL 293.990926 44.804428 \nL 291.679632 45.055144 \nL 289.352197 45.515083 \nL 287.043661 46.175563 \nL 284.788791 47.024623 \nL 282.621584 48.047216 \nL 280.574774 49.225452 \nL 278.679364 50.538896 \nL 276.96418 51.964902 \nL 275.455453 53.478979 \nL 274.176446 55.055197 \nL 273.147116 56.666606 \nL 272.383829 58.285684 \nL 271.899123 59.884782 \nL 271.70153 61.436575 \nL 271.795451 62.914517 \nL 272.05748 63.959208 \nL 272.482225 64.937961 \nL 273.066904 65.841274 \nL 273.807441 66.660341 \nL 274.698499 67.38713 \nL 276.109218 68.200357 \nL 277.757004 68.822413 \nL 279.61971 69.241963 \nL 281.672098 69.450989 \nL 283.886202 69.444917 \nL 286.231729 69.222693 \nL 288.676495 68.786799 \nL 291.18689 68.143217 \nL 293.728357 67.301325 \nL 296.895562 65.989611 \nL 299.98853 64.41925 \nL 302.940827 62.628115 \nL 305.68918 60.659719 \nL 308.174896 58.562105 \nL 310.34518 56.386617 \nL 311.823316 54.625966 \nL 313.050461 52.877257 \nL 314.01052 51.167954 \nL 314.691241 49.524877 \nL 315.084388 47.973761 \nL 315.185866 46.538836 \nL 315.070467 45.552408 \nL 314.792564 44.652543 \nL 314.355066 43.847043 \nL 313.762173 43.142841 \nL 313.019341 42.545935 \nL 312.133243 42.061337 \nL 310.742617 41.596627 \nL 309.132908 41.344974 \nL 307.328832 41.309342 \nL 305.357899 41.489161 \nL 303.250021 41.880335 \nL 300.471314 42.654691 \nL 297.594014 43.725204 \nL 294.685792 45.062272 \nL 291.815016 46.62948 \nL 289.049211 48.384534 \nL 286.453545 50.280342 \nL 284.089364 52.266214 \nL 282.012816 54.289157 \nL 280.273584 56.295236 \nL 278.913779 58.230941 \nL 278.121998 59.693994 \nL 277.607671 61.053759 \nL 277.379756 62.286829 \nL 277.44309 63.371873 \nL 277.68227 64.077038 \nL 278.08445 64.681262 \nL 278.647029 65.178495 \nL 279.366113 65.563669 \nL 280.559238 65.8961 \nL 282.005665 66.015672 \nL 283.686144 65.919276 \nL 285.578058 65.607335 \nL 288.200934 64.920651 \nL 291.058017 63.918901 \nL 294.088171 62.62543 \nL 297.226375 61.071036 \nL 301.039792 58.914508 \nL 304.793629 56.511886 \nL 308.371817 53.947601 \nL 311.663962 51.312025 \nL 314.568917 48.698152 \nL 316.998049 46.198177 \nL 318.605479 44.265565 \nL 319.798223 42.520427 \nL 320.552532 41.0051 \nL 320.830623 39.983031 \nL 320.816579 39.147083 \nL 320.615235 38.649921 \nL 320.252757 38.268659 \nL 319.732739 38.00632 \nL 318.802911 37.844703 \nL 317.616741 37.899299 \nL 316.192851 38.168063 \nL 314.112576 38.796405 \nL 311.745301 39.732154 \nL 308.605263 41.22348 \nL 305.239906 43.060716 \nL 301.181222 45.545481 \nL 297.157887 48.273101 \nL 293.355044 51.101094 \nL 289.948148 53.881964 \nL 287.095253 56.470569 \nL 284.930064 58.731376 \nL 283.700909 60.31742 \nL 283.154132 61.342723 \nL 283.041018 61.947952 \nL 283.147797 62.268926 \nL 283.418709 62.472023 \nL 284.032401 62.555537 \nL 284.927733 62.422906 \nL 286.425336 61.95505 \nL 288.735908 60.964517 \nL 292.04997 59.260111 \nL 296.48249 56.687727 \nL 302.000101 53.189918 \nL 308.340174 48.878939 \nL 314.942786 44.107111 \nL 320.929801 39.504736 \nL 324.945946 36.151501 \nL 326.368496 34.740582 \nL 326.50288 34.39077 \nL 326.228641 34.427563 \nL 325.285283 34.883373 \nL 322.752219 36.420516 \nL 317.624305 39.825285 \nL 305.933648 47.912597 \nL 294.081401 56.022713 \nL 289.998003 58.570632 \nL 288.853917 59.092626 \nL 288.71036 59.03192 \nL 288.858673 58.755355 \nL 289.625994 57.944106 \nL 291.955632 55.893643 \nL 296.026777 52.620945 \nL 301.908216 48.180457 \nL 308.671977 43.366658 \nL 314.999941 39.143525 \nL 320.377841 35.82026 \nL 324.591829 33.467217 \nL 327.651867 31.992744 \nL 329.706798 31.21847 \nL 330.970888 30.93831 \nL 331.669755 30.957288 \nL 332.081453 31.191014 \nL 332.198988 31.504371 \nL 332.10016 32.099857 \nL 331.712257 32.88822 \nL 330.832129 34.123215 \nL 329.227657 35.925698 \nL 327.079706 38.01107 \nL 323.987351 40.693653 \nL 320.401748 43.51112 \nL 316.488804 46.3165 \nL 312.428811 48.963427 \nL 308.408524 51.313453 \nL 305.134626 52.997219 \nL 302.137047 54.305917 \nL 299.517918 55.187556 \nL 297.689699 55.569339 \nL 296.491403 55.634519 \nL 295.548619 55.483503 \nL 294.876468 55.117609 \nL 294.556863 54.704953 \nL 294.399133 54.177391 \nL 294.405213 53.539296 \nL 294.668994 52.526018 \nL 295.222686 51.34136 \nL 296.312334 49.647554 \nL 297.823221 47.755667 \nL 299.724451 45.711786 \nL 302.464765 43.129056 \nL 305.626325 40.490603 \nL 309.112204 37.889525 \nL 312.814993 35.417548 \nL 316.620273 33.161652 \nL 320.410312 31.200874 \nL 323.47235 29.841909 \nL 326.376573 28.76795 \nL 329.060786 28.004185 \nL 331.467738 27.567877 \nL 333.159143 27.460868 \nL 334.61753 27.569889 \nL 335.823477 27.892004 \nL 336.761194 28.420786 \nL 337.281128 28.947223 \nL 337.639836 29.579125 \nL 337.835073 30.310185 \nL 337.865915 31.133182 \nL 337.65221 32.359469 \nL 337.151759 33.713549 \nL 336.373319 35.172108 \nL 335.329648 36.710124 \nL 333.677667 38.70419 \nL 331.677566 40.728014 \nL 329.377314 42.727636 \nL 326.831621 44.649712 \nL 324.100711 46.442883 \nL 321.248968 48.059081 \nL 318.343489 49.454761 \nL 315.452581 50.59201 \nL 312.644221 51.439522 \nL 309.984533 51.97339 \nL 308.006166 52.163702 \nL 306.193241 52.138682 \nL 304.573396 51.897586 \nL 303.171492 51.443206 \nL 302.009254 50.781826 \nL 301.305989 50.155639 \nL 300.754245 49.423669 \nL 300.359147 48.59217 \nL 300.124552 47.668313 \nL 300.053016 46.660122 \nL 300.21323 45.19999 \nL 300.664626 43.628396 \nL 301.402269 41.969904 \nL 302.417107 40.250503 \nL 303.696098 38.497177 \nL 305.222402 36.737465 \nL 306.97562 34.999012 \nL 309.449909 32.897357 \nL 312.189026 30.922958 \nL 315.134486 29.124012 \nL 318.22317 27.544232 \nL 321.388739 26.221731 \nL 324.563129 25.18805 \nL 327.063087 24.585556 \nL 329.490572 24.192228 \nL 331.81222 24.013352 \nL 333.996192 24.0507 \nL 336.012629 24.302509 \nL 337.83408 24.763503 \nL 339.435902 25.424987 \nL 340.79661 26.27498 \nL 341.898187 27.29842 \nL 342.545573 28.169155 \nL 343.034497 29.118929 \nL 343.361658 30.138507 \nL 343.525064 31.218012 \nL 343.487252 32.732476 \nL 343.159394 34.308944 \nL 342.547765 35.920463 \nL 341.662722 37.539509 \nL 340.518555 39.138433 \nL 339.133282 40.689914 \nL 337.528389 42.167409 \nL 335.728522 43.545587 \nL 333.761131 44.80074 \nL 331.656077 45.911175 \nL 329.4452 46.857565 \nL 327.161863 47.62327 \nL 324.840472 48.194606 \nL 322.51598 48.56107 \nL 320.223384 48.715511 \nL 317.997223 48.654249 \nL 315.87108 48.377133 \nL 313.877099 47.887544 \nL 312.045523 47.192341 \nL 310.404258 46.301749 \nL 308.978473 45.229187 \nL 307.790238 43.991055 \nL 306.858204 42.606463 \nL 306.336459 41.484759 \nL 305.972207 40.302571 \nL 305.769055 39.0703 \nL 305.752576 37.368195 \nL 306.028234 35.62311 \nL 306.593622 33.86245 \nL 307.442164 32.113874 \nL 308.563212 30.404844 \nL 309.942197 28.762175 \nL 311.56084 27.211595 \nL 313.397414 25.777328 \nL 315.427057 24.48169 \nL 317.62213 23.344732 \nL 319.952614 22.383906 \nL 322.386541 21.613784 \nL 324.890457 21.045814 \nL 327.429899 20.688138 \nL 329.969893 20.545457 \nL 332.47546 20.618951 \nL 334.912113 20.906265 \nL 337.246358 21.401544 \nL 339.446173 22.095529 \nL 341.481472 22.97571 \nL 343.324532 24.026529 \nL 344.950401 25.229636 \nL 346.337245 26.56419 \nL 347.466673 28.007198 \nL 348.323997 29.53389 \nL 348.89844 31.118131 \nL 349.183297 32.73284 \nL 349.17603 34.350439 \nL 348.878301 35.943304 \nL 348.29595 37.484214 \nL 347.438915 38.946799 \nL 346.321081 40.305971 \nL 344.960089 41.538332 \nL 343.377075 42.622564 \nL 341.596369 43.539768 \nL 339.645147 44.273783 \nL 337.553037 44.811441 \nL 335.351693 45.142792 \nL 333.074341 45.261259 \nL 330.7553 45.163751 \nL 328.42949 44.850709 \nL 326.131926 44.326104 \nL 323.89722 43.597367 \nL 321.759076 42.67527 \nL 319.749812 41.573751 \nL 317.899891 40.309682 \nL 316.237482 38.902597 \nL 314.788059 37.374368 \nL 313.574031 35.748852 \nL 312.614421 34.051497 \nL 311.924592 32.308927 \nL 311.516025 30.548505 \nL 311.396157 28.797887 \nL 311.56827 27.084569 \nL 311.888572 25.840267 \nL 312.370749 24.643064 \nL 313.011553 23.503501 \nL 314.104702 22.090959 \nL 315.45749 20.820572 \nL 317.052016 19.711978 \nL 318.866899 18.782166 \nL 320.877589 18.045198 \nL 323.05672 17.511982 \nL 325.374501 17.19009 \nL 327.79915 17.083636 \nL 330.297342 17.193211 \nL 332.8347 17.515866 \nL 335.37628 18.045169 \nL 337.887077 18.771303 \nL 340.332532 19.681234 \nL 342.679022 20.758916 \nL 344.894351 21.98556 \nL 346.948207 23.339939 \nL 348.812604 24.798735 \nL 350.462279 26.336922 \nL 351.875058 27.928174 \nL 353.032177 29.545297 \nL 353.918547 31.160674 \nL 354.522977 32.746716 \nL 354.838329 34.276314 \nL 354.861624 35.723283 \nL 354.688012 36.739284 \nL 354.352784 37.684956 \nL 353.859312 38.551103 \nL 353.212248 39.32926 \nL 352.41749 40.011772 \nL 351.140488 40.761436 \nL 349.633585 41.31571 \nL 347.920019 41.664372 \nL 346.025997 41.800563 \nL 343.980324 41.720899 \nL 341.813988 41.425531 \nL 339.55971 40.91814 \nL 337.251478 40.205876 \nL 334.343309 39.04375 \nL 331.473541 37.605595 \nL 328.709676 35.925906 \nL 326.11684 34.045351 \nL 323.756314 32.009726 \nL 322.475086 30.734491 \nL 322.475086 30.734491 \n\" clip-path=\"url(#p4456e5429b)\" style=\"fill: none; stroke: #8dd3c7; stroke-width: 1.5; stroke-linecap: square\"/>\n   </g>\n   <g id=\"patch_3\">\n    <path d=\"M 35.304688 224.64 \nL 35.304688 7.2 \n\" style=\"fill: none; stroke: #ffffff; stroke-width: 0.8; stroke-linejoin: miter; stroke-linecap: square\"/>\n   </g>\n   <g id=\"patch_4\">\n    <path d=\"M 370.104688 224.64 \nL 370.104688 7.2 \n\" style=\"fill: none; stroke: #ffffff; stroke-width: 0.8; stroke-linejoin: miter; stroke-linecap: square\"/>\n   </g>\n   <g id=\"patch_5\">\n    <path d=\"M 35.304688 224.64 \nL 370.104687 224.64 \n\" style=\"fill: none; stroke: #ffffff; stroke-width: 0.8; stroke-linejoin: miter; stroke-linecap: square\"/>\n   </g>\n   <g id=\"patch_6\">\n    <path d=\"M 35.304688 7.2 \nL 370.104687 7.2 \n\" style=\"fill: none; stroke: #ffffff; stroke-width: 0.8; stroke-linejoin: miter; stroke-linecap: square\"/>\n   </g>\n  </g>\n </g>\n <defs>\n  <clipPath id=\"p4456e5429b\">\n   <rect x=\"35.304688\" y=\"7.2\" width=\"334.8\" height=\"217.44\"/>\n  </clipPath>\n </defs>\n</svg>\n",
      "text/plain": [
       "<Figure size 432x288 with 1 Axes>"
      ]
     },
     "metadata": {},
     "output_type": "display_data"
    }
   ],
   "source": [
    "import matplotlib.pyplot as plt\n",
    "\n",
    "t = tf.linspace(-10, 10, 10000)\n",
    "\n",
    "# compute x=x(t) and y=y(t) as defined above\n",
    "# your code here\n",
    "x = t - 1.5 * tf.math.cos(15*t)\n",
    "y = t - 1.5 * tf.math.sin(16*t)\n",
    "\n",
    "plt.plot(x.numpy(), y.numpy())\n",
    "plt.show()"
   ]
  },
  {
   "cell_type": "code",
   "execution_count": 15,
   "metadata": {
    "colab": {},
    "colab_type": "code",
    "deletable": false,
    "editable": false,
    "id": "Fue83PKCAq2O",
    "nbgrader": {
     "cell_type": "code",
     "checksum": "0dad6fd35668785873e27303607d28ff",
     "grade": true,
     "grade_id": "LowLevelPyTorch",
     "locked": true,
     "points": 1,
     "schema_version": 3,
     "solution": false,
     "task": false
    }
   },
   "outputs": [],
   "source": [
    "# Check if you plotted the intended equation\n",
    "assert np.isclose(x[42].numpy(), -9.2157)\n",
    "assert np.isclose(y[1990].numpy(), -4.6997)\n"
   ]
  },
  {
   "cell_type": "markdown",
   "metadata": {
    "colab_type": "text",
    "id": "Frw3xwP6o3lN"
   },
   "source": [
    "--------"
   ]
  },
  {
   "cell_type": "markdown",
   "metadata": {
    "colab_type": "text",
    "id": "REoFWIZDo3lO"
   },
   "source": [
    "## Automatic gradients\n",
    "\n",
    "Any self-respecting DL framework must do your *backprop* for you. Tensorflow handles this with the `tf.GradientTape` API. This means computing the gradient of a computation with respect to some inputs, usually tf.Variables. TensorFlow \"records\" relevant operations executed inside the context of a `tf.GradientTape` onto a \"tape\". TensorFlow then uses that tape to compute the gradients of a \"recorded\" computation using reverse mode differentiation.\n",
    "\n",
    "The general pipeline looks like this:\n",
    "* When creating a tensor, you define it either as `tf.Tensor` if you don't want it to propagate gradients or `tf.Variable` otherwise:\n",
    "    * __```tf.zeros(5)```__\n",
    "    * __```tf.Variable(np.arange(5), dtype=tf.float32)```__\n",
    "* Define some differentiable `y = arbitrary_function(x)` inside the `tf.GradientTape` context\n",
    "* Gradients are now available through `GradientTape.gradient(target, sources)`\n",
    "\n",
    "You may read the [official guide](https://www.tensorflow.org/guide/autodiff) for more detailed explanations."
   ]
  },
  {
   "cell_type": "code",
   "execution_count": 16,
   "metadata": {
    "colab": {
     "base_uri": "https://localhost:8080/",
     "height": 34
    },
    "colab_type": "code",
    "id": "gwcTNRj-NXUi",
    "outputId": "808477da-3ce9-414a-f122-d38f3aeb5234"
   },
   "outputs": [
    {
     "name": "stdout",
     "output_type": "stream",
     "text": [
      "sin'(0) = 1.0\n"
     ]
    }
   ],
   "source": [
    "x = tf.Variable(0.)\n",
    "\n",
    "with tf.GradientTape() as tape:\n",
    "    y = tf.math.sin(x)\n",
    "    \n",
    "dy_dx = tape.gradient(y, x)\n",
    "print(f\"sin'(0) = {dy_dx.numpy()}\")"
   ]
  },
  {
   "cell_type": "markdown",
   "metadata": {},
   "source": [
    "Your turn:"
   ]
  },
  {
   "cell_type": "code",
   "execution_count": 18,
   "metadata": {
    "colab": {
     "base_uri": "https://localhost:8080/",
     "height": 51
    },
    "colab_type": "code",
    "id": "T8d1DXhwo3lS",
    "outputId": "49f3bbca-cc97-4c49-a7cb-78613eb53b01"
   },
   "outputs": [
    {
     "name": "stdout",
     "output_type": "stream",
     "text": [
      "Checking autograd result equals to analytical derivative.\n",
      "    Correct Result: True\n"
     ]
    }
   ],
   "source": [
    "def MSELoss(y, yhat):\n",
    "    \"\"\"Mean Squared Error\"\"\"\n",
    "    return tf.reduce_mean((y - yhat)**2)\n",
    "\n",
    "# initialize our target `y` and our \"prediction\" `yhat`\n",
    "y = tf.random.normal([100], 0, 1, tf.float32)\n",
    "yhat = tf.Variable(tf.random.normal([100], 0, 1, tf.float32))\n",
    "\n",
    "# Calculate the mean squared error\n",
    "with tf.GradientTape() as tape:\n",
    "    # your code here\n",
    "    loss = MSELoss(y, yhat)\n",
    "\n",
    "\n",
    "# Calculate the gradient of loss w.r.t yhat\n",
    "dy_dx = tape.gradient(loss, yhat)\n",
    "\n",
    "\n",
    "print(\"Checking autograd result equals to analytical derivative.\")\n",
    "print(\"    Correct Result:\", np.all(np.isclose(dy_dx.numpy(), 2 * (yhat - y) / y.shape[0])))"
   ]
  },
  {
   "cell_type": "markdown",
   "metadata": {
    "colab_type": "text",
    "id": "Flu0aZH2PAOz"
   },
   "source": [
    "### Learning to solve problems with gradients\n",
    "\n",
    "We can use the gradient of our loss function to find the parameters corresponding to its minima, this is the basis of most Machine Learning algorithms.\n",
    "\n",
    "Let's try to solve the following simple equation as an example\n",
    "\n",
    " $$ x^3 + 2x - 6 = 0 $$\n",
    "\n",
    "The necessary steps are:\n",
    "1. Define equation, variables and a *loss function*:\n",
    "\n",
    "   In our case the loss function will be the Mean Squared Error as defined bellow. This will quantify how far is our prediction from the solution of the equation $$\\mathcal{L}{oss} = \\text{MSE}(y_\\text{pred}, y_\\text{true}) = ||y_\\text{pred} - y_\\text{true}||^2$$ \n",
    "   Where:\n",
    "   - $y_\\text{true} = 0$\n",
    "   - $y_\\text{pred} = x_\\text{pred}^3 + 2x_\\text{pred} - 6$\n",
    "   - $x_\\text{pred}$ is the solution we are checking, starting with $x_\\text{pred} = 1$\n",
    "2. Calculate $y_\\text{pred}$ for the current value of $x_\\text{pred}$ and then calculate the $\\text{MSE}$ loss\n",
    "3. Calculate the gradient; this is done by ` tf.GradientTape()` automatically $$\\nabla\\mathcal{L} = \\frac{\\partial \\mathcal{L}{oss}}{\\partial x_\\text{pred}} = \\frac{\\partial \\mathcal{L}{oss}}{\\partial y_\\text{pred}} \\frac{\\partial y_\\text{pred}}{\\partial x_\\text{pred}}$$\n",
    "4. Use $\\nabla\\mathcal{L}$ to find a better $x_\\text{pred}$. This step usually involves a scalar hyperparameter called the *learning rate* and denoted $\\eta$. \n",
    "   $$ x_\\text{pred}^{(i+1)} = x_\\text{pred}^{(i)} - \\eta \\nabla\\mathcal{L}^{(i)}$$\n",
    "5. We repeat this $n=$ `N_STEPS` times, iterating over the gradient-based optimization process, saving the $\\text{MSE}$ and $x_\\text{pred}$ after each step. Thus $i=\\overline{1,n}$\n",
    "   \n",
    "___\n",
    "#### Additional Notes: \n",
    "For some initial values of $x_\\text{pred}$ the optimization process might diverge (like $x_\\text{pred}=5$). Since the change in $x_\\text{pred}$ is proportional to the gradient of the loss function, if the absolute value of this gradient is very large, $|x_\\text{pred}|$ will get larger as well, diverging towards infinity with each step. This issue is called **exploding gradient**. You may avoid this by making the $\\eta$ parameter smaller, but this will require more steps to converge.\n",
    "\n",
    "After running the cell once, experiment with different `lr` and `N_STEPS` in order to converge to the solution when starting from $x_\\text{pred}=5$."
   ]
  },
  {
   "cell_type": "code",
   "execution_count": 31,
   "metadata": {},
   "outputs": [
    {
     "data": {
      "image/png": "[encoded data removed]",
      "image/svg+xml": "<?xml version=\"1.0\" encoding=\"utf-8\" standalone=\"no\"?>\n<!DOCTYPE svg PUBLIC \"-//W3C//DTD SVG 1.1//EN\"\n  \"http://www.w3.org/Graphics/SVG/1.1/DTD/svg11.dtd\">\n<svg xmlns:xlink=\"http://www.w3.org/1999/xlink\" width=\"728.178125pt\" height=\"262.19625pt\" viewBox=\"0 0 728.178125 262.19625\" xmlns=\"http://www.w3.org/2000/svg\" version=\"1.1\">\n <metadata>\n  <rdf:RDF xmlns:dc=\"http://purl.org/dc/elements/1.1/\" xmlns:cc=\"http://creativecommons.org/ns#\" xmlns:rdf=\"http://www.w3.org/1999/02/22-rdf-syntax-ns#\">\n   <cc:Work>\n    <dc:type rdf:resource=\"http://purl.org/dc/dcmitype/StillImage\"/>\n    <dc:date>2022-03-07T10:48:38.051314</dc:date>\n    <dc:format>image/svg+xml</dc:format>\n    <dc:creator>\n     <cc:Agent>\n      <dc:title>Matplotlib v3.5.1, https://matplotlib.org/</dc:title>\n     </cc:Agent>\n    </dc:creator>\n   </cc:Work>\n  </rdf:RDF>\n </metadata>\n <defs>\n  <style type=\"text/css\">*{stroke-linejoin: round; stroke-linecap: butt}</style>\n </defs>\n <g id=\"figure_1\">\n  <g id=\"patch_1\">\n   <path d=\"M 0 262.19625 \nL 728.178125 262.19625 \nL 728.178125 0 \nL 0 0 \nz\n\"/>\n  </g>\n  <g id=\"axes_1\">\n   <g id=\"patch_2\">\n    <path d=\"M 51.378125 224.64 \nL 355.741761 224.64 \nL 355.741761 7.2 \nL 51.378125 7.2 \nz\n\"/>\n   </g>\n   <g id=\"matplotlib.axis_1\">\n    <g id=\"xtick_1\">\n     <g id=\"line2d_1\">\n      <defs>\n       <path id=\"m17551ee54d\" d=\"M 0 0 \nL 0 3.5 \n\" style=\"stroke: #ffffff; stroke-width: 0.8\"/>\n      </defs>\n      <g>\n       <use xlink:href=\"#m17551ee54d\" x=\"65.212836\" y=\"224.64\" style=\"fill: #ffffff; stroke: #ffffff; stroke-width: 0.8\"/>\n      </g>\n     </g>\n     <g id=\"text_1\">\n      <!-- 0 -->\n      <g style=\"fill: #ffffff\" transform=\"translate(62.031586 239.238438)scale(0.1 -0.1)\">\n       <defs>\n        <path id=\"DejaVuSans-30\" d=\"M 2034 4250 \nQ 1547 4250 1301 3770 \nQ 1056 3291 1056 2328 \nQ 1056 1369 1301 889 \nQ 1547 409 2034 409 \nQ 2525 409 2770 889 \nQ 3016 1369 3016 2328 \nQ 3016 3291 2770 3770 \nQ 2525 4250 2034 4250 \nz\nM 2034 4750 \nQ 2819 4750 3233 4129 \nQ 3647 3509 3647 2328 \nQ 3647 1150 3233 529 \nQ 2819 -91 2034 -91 \nQ 1250 -91 836 529 \nQ 422 1150 422 2328 \nQ 422 3509 836 4129 \nQ 1250 4750 2034 4750 \nz\n\" transform=\"scale(0.015625)\"/>\n       </defs>\n       <use xlink:href=\"#DejaVuSans-30\"/>\n      </g>\n     </g>\n    </g>\n    <g id=\"xtick_2\">\n     <g id=\"line2d_2\">\n      <g>\n       <use xlink:href=\"#m17551ee54d\" x=\"120.607073\" y=\"224.64\" style=\"fill: #ffffff; stroke: #ffffff; stroke-width: 0.8\"/>\n      </g>\n     </g>\n     <g id=\"text_2\">\n      <!-- 200 -->\n      <g style=\"fill: #ffffff\" transform=\"translate(111.063323 239.238438)scale(0.1 -0.1)\">\n       <defs>\n        <path id=\"DejaVuSans-32\" d=\"M 1228 531 \nL 3431 531 \nL 3431 0 \nL 469 0 \nL 469 531 \nQ 828 903 1448 1529 \nQ 2069 2156 2228 2338 \nQ 2531 2678 2651 2914 \nQ 2772 3150 2772 3378 \nQ 2772 3750 2511 3984 \nQ 2250 4219 1831 4219 \nQ 1534 4219 1204 4116 \nQ 875 4013 500 3803 \nL 500 4441 \nQ 881 4594 1212 4672 \nQ 1544 4750 1819 4750 \nQ 2544 4750 2975 4387 \nQ 3406 4025 3406 3419 \nQ 3406 3131 3298 2873 \nQ 3191 2616 2906 2266 \nQ 2828 2175 2409 1742 \nQ 1991 1309 1228 531 \nz\n\" transform=\"scale(0.015625)\"/>\n       </defs>\n       <use xlink:href=\"#DejaVuSans-32\"/>\n       <use xlink:href=\"#DejaVuSans-30\" x=\"63.623047\"/>\n       <use xlink:href=\"#DejaVuSans-30\" x=\"127.246094\"/>\n      </g>\n     </g>\n    </g>\n    <g id=\"xtick_3\">\n     <g id=\"line2d_3\">\n      <g>\n       <use xlink:href=\"#m17551ee54d\" x=\"176.00131\" y=\"224.64\" style=\"fill: #ffffff; stroke: #ffffff; stroke-width: 0.8\"/>\n      </g>\n     </g>\n     <g id=\"text_3\">\n      <!-- 400 -->\n      <g style=\"fill: #ffffff\" transform=\"translate(166.45756 239.238438)scale(0.1 -0.1)\">\n       <defs>\n        <path id=\"DejaVuSans-34\" d=\"M 2419 4116 \nL 825 1625 \nL 2419 1625 \nL 2419 4116 \nz\nM 2253 4666 \nL 3047 4666 \nL 3047 1625 \nL 3713 1625 \nL 3713 1100 \nL 3047 1100 \nL 3047 0 \nL 2419 0 \nL 2419 1100 \nL 313 1100 \nL 313 1709 \nL 2253 4666 \nz\n\" transform=\"scale(0.015625)\"/>\n       </defs>\n       <use xlink:href=\"#DejaVuSans-34\"/>\n       <use xlink:href=\"#DejaVuSans-30\" x=\"63.623047\"/>\n       <use xlink:href=\"#DejaVuSans-30\" x=\"127.246094\"/>\n      </g>\n     </g>\n    </g>\n    <g id=\"xtick_4\">\n     <g id=\"line2d_4\">\n      <g>\n       <use xlink:href=\"#m17551ee54d\" x=\"231.395547\" y=\"224.64\" style=\"fill: #ffffff; stroke: #ffffff; stroke-width: 0.8\"/>\n      </g>\n     </g>\n     <g id=\"text_4\">\n      <!-- 600 -->\n      <g style=\"fill: #ffffff\" transform=\"translate(221.851797 239.238438)scale(0.1 -0.1)\">\n       <defs>\n        <path id=\"DejaVuSans-36\" d=\"M 2113 2584 \nQ 1688 2584 1439 2293 \nQ 1191 2003 1191 1497 \nQ 1191 994 1439 701 \nQ 1688 409 2113 409 \nQ 2538 409 2786 701 \nQ 3034 994 3034 1497 \nQ 3034 2003 2786 2293 \nQ 2538 2584 2113 2584 \nz\nM 3366 4563 \nL 3366 3988 \nQ 3128 4100 2886 4159 \nQ 2644 4219 2406 4219 \nQ 1781 4219 1451 3797 \nQ 1122 3375 1075 2522 \nQ 1259 2794 1537 2939 \nQ 1816 3084 2150 3084 \nQ 2853 3084 3261 2657 \nQ 3669 2231 3669 1497 \nQ 3669 778 3244 343 \nQ 2819 -91 2113 -91 \nQ 1303 -91 875 529 \nQ 447 1150 447 2328 \nQ 447 3434 972 4092 \nQ 1497 4750 2381 4750 \nQ 2619 4750 2861 4703 \nQ 3103 4656 3366 4563 \nz\n\" transform=\"scale(0.015625)\"/>\n       </defs>\n       <use xlink:href=\"#DejaVuSans-36\"/>\n       <use xlink:href=\"#DejaVuSans-30\" x=\"63.623047\"/>\n       <use xlink:href=\"#DejaVuSans-30\" x=\"127.246094\"/>\n      </g>\n     </g>\n    </g>\n    <g id=\"xtick_5\">\n     <g id=\"line2d_5\">\n      <g>\n       <use xlink:href=\"#m17551ee54d\" x=\"286.789785\" y=\"224.64\" style=\"fill: #ffffff; stroke: #ffffff; stroke-width: 0.8\"/>\n      </g>\n     </g>\n     <g id=\"text_5\">\n      <!-- 800 -->\n      <g style=\"fill: #ffffff\" transform=\"translate(277.246035 239.238438)scale(0.1 -0.1)\">\n       <defs>\n        <path id=\"DejaVuSans-38\" d=\"M 2034 2216 \nQ 1584 2216 1326 1975 \nQ 1069 1734 1069 1313 \nQ 1069 891 1326 650 \nQ 1584 409 2034 409 \nQ 2484 409 2743 651 \nQ 3003 894 3003 1313 \nQ 3003 1734 2745 1975 \nQ 2488 2216 2034 2216 \nz\nM 1403 2484 \nQ 997 2584 770 2862 \nQ 544 3141 544 3541 \nQ 544 4100 942 4425 \nQ 1341 4750 2034 4750 \nQ 2731 4750 3128 4425 \nQ 3525 4100 3525 3541 \nQ 3525 3141 3298 2862 \nQ 3072 2584 2669 2484 \nQ 3125 2378 3379 2068 \nQ 3634 1759 3634 1313 \nQ 3634 634 3220 271 \nQ 2806 -91 2034 -91 \nQ 1263 -91 848 271 \nQ 434 634 434 1313 \nQ 434 1759 690 2068 \nQ 947 2378 1403 2484 \nz\nM 1172 3481 \nQ 1172 3119 1398 2916 \nQ 1625 2713 2034 2713 \nQ 2441 2713 2670 2916 \nQ 2900 3119 2900 3481 \nQ 2900 3844 2670 4047 \nQ 2441 4250 2034 4250 \nQ 1625 4250 1398 4047 \nQ 1172 3844 1172 3481 \nz\n\" transform=\"scale(0.015625)\"/>\n       </defs>\n       <use xlink:href=\"#DejaVuSans-38\"/>\n       <use xlink:href=\"#DejaVuSans-30\" x=\"63.623047\"/>\n       <use xlink:href=\"#DejaVuSans-30\" x=\"127.246094\"/>\n      </g>\n     </g>\n    </g>\n    <g id=\"xtick_6\">\n     <g id=\"line2d_6\">\n      <g>\n       <use xlink:href=\"#m17551ee54d\" x=\"342.184022\" y=\"224.64\" style=\"fill: #ffffff; stroke: #ffffff; stroke-width: 0.8\"/>\n      </g>\n     </g>\n     <g id=\"text_6\">\n      <!-- 1000 -->\n      <g style=\"fill: #ffffff\" transform=\"translate(329.459022 239.238438)scale(0.1 -0.1)\">\n       <defs>\n        <path id=\"DejaVuSans-31\" d=\"M 794 531 \nL 1825 531 \nL 1825 4091 \nL 703 3866 \nL 703 4441 \nL 1819 4666 \nL 2450 4666 \nL 2450 531 \nL 3481 531 \nL 3481 0 \nL 794 0 \nL 794 531 \nz\n\" transform=\"scale(0.015625)\"/>\n       </defs>\n       <use xlink:href=\"#DejaVuSans-31\"/>\n       <use xlink:href=\"#DejaVuSans-30\" x=\"63.623047\"/>\n       <use xlink:href=\"#DejaVuSans-30\" x=\"127.246094\"/>\n       <use xlink:href=\"#DejaVuSans-30\" x=\"190.869141\"/>\n      </g>\n     </g>\n    </g>\n    <g id=\"text_7\">\n     <!-- Step -->\n     <g style=\"fill: #ffffff\" transform=\"translate(192.174787 252.916563)scale(0.1 -0.1)\">\n      <defs>\n       <path id=\"DejaVuSans-53\" d=\"M 3425 4513 \nL 3425 3897 \nQ 3066 4069 2747 4153 \nQ 2428 4238 2131 4238 \nQ 1616 4238 1336 4038 \nQ 1056 3838 1056 3469 \nQ 1056 3159 1242 3001 \nQ 1428 2844 1947 2747 \nL 2328 2669 \nQ 3034 2534 3370 2195 \nQ 3706 1856 3706 1288 \nQ 3706 609 3251 259 \nQ 2797 -91 1919 -91 \nQ 1588 -91 1214 -16 \nQ 841 59 441 206 \nL 441 856 \nQ 825 641 1194 531 \nQ 1563 422 1919 422 \nQ 2459 422 2753 634 \nQ 3047 847 3047 1241 \nQ 3047 1584 2836 1778 \nQ 2625 1972 2144 2069 \nL 1759 2144 \nQ 1053 2284 737 2584 \nQ 422 2884 422 3419 \nQ 422 4038 858 4394 \nQ 1294 4750 2059 4750 \nQ 2388 4750 2728 4690 \nQ 3069 4631 3425 4513 \nz\n\" transform=\"scale(0.015625)\"/>\n       <path id=\"DejaVuSans-74\" d=\"M 1172 4494 \nL 1172 3500 \nL 2356 3500 \nL 2356 3053 \nL 1172 3053 \nL 1172 1153 \nQ 1172 725 1289 603 \nQ 1406 481 1766 481 \nL 2356 481 \nL 2356 0 \nL 1766 0 \nQ 1100 0 847 248 \nQ 594 497 594 1153 \nL 594 3053 \nL 172 3053 \nL 172 3500 \nL 594 3500 \nL 594 4494 \nL 1172 4494 \nz\n\" transform=\"scale(0.015625)\"/>\n       <path id=\"DejaVuSans-65\" d=\"M 3597 1894 \nL 3597 1613 \nL 953 1613 \nQ 991 1019 1311 708 \nQ 1631 397 2203 397 \nQ 2534 397 2845 478 \nQ 3156 559 3463 722 \nL 3463 178 \nQ 3153 47 2828 -22 \nQ 2503 -91 2169 -91 \nQ 1331 -91 842 396 \nQ 353 884 353 1716 \nQ 353 2575 817 3079 \nQ 1281 3584 2069 3584 \nQ 2775 3584 3186 3129 \nQ 3597 2675 3597 1894 \nz\nM 3022 2063 \nQ 3016 2534 2758 2815 \nQ 2500 3097 2075 3097 \nQ 1594 3097 1305 2825 \nQ 1016 2553 972 2059 \nL 3022 2063 \nz\n\" transform=\"scale(0.015625)\"/>\n       <path id=\"DejaVuSans-70\" d=\"M 1159 525 \nL 1159 -1331 \nL 581 -1331 \nL 581 3500 \nL 1159 3500 \nL 1159 2969 \nQ 1341 3281 1617 3432 \nQ 1894 3584 2278 3584 \nQ 2916 3584 3314 3078 \nQ 3713 2572 3713 1747 \nQ 3713 922 3314 415 \nQ 2916 -91 2278 -91 \nQ 1894 -91 1617 61 \nQ 1341 213 1159 525 \nz\nM 3116 1747 \nQ 3116 2381 2855 2742 \nQ 2594 3103 2138 3103 \nQ 1681 3103 1420 2742 \nQ 1159 2381 1159 1747 \nQ 1159 1113 1420 752 \nQ 1681 391 2138 391 \nQ 2594 391 2855 752 \nQ 3116 1113 3116 1747 \nz\n\" transform=\"scale(0.015625)\"/>\n      </defs>\n      <use xlink:href=\"#DejaVuSans-53\"/>\n      <use xlink:href=\"#DejaVuSans-74\" x=\"63.476562\"/>\n      <use xlink:href=\"#DejaVuSans-65\" x=\"102.685547\"/>\n      <use xlink:href=\"#DejaVuSans-70\" x=\"164.208984\"/>\n     </g>\n    </g>\n   </g>\n   <g id=\"matplotlib.axis_2\">\n    <g id=\"ytick_1\">\n     <g id=\"line2d_7\">\n      <defs>\n       <path id=\"m6abcd73e97\" d=\"M 0 0 \nL -3.5 0 \n\" style=\"stroke: #ffffff; stroke-width: 0.8\"/>\n      </defs>\n      <g>\n       <use xlink:href=\"#m6abcd73e97\" x=\"51.378125\" y=\"200.964884\" style=\"fill: #ffffff; stroke: #ffffff; stroke-width: 0.8\"/>\n      </g>\n     </g>\n     <g id=\"text_8\">\n      <!-- $\\mathdefault{10^{-8}}$ -->\n      <g style=\"fill: #ffffff\" transform=\"translate(20.878125 204.764103)scale(0.1 -0.1)\">\n       <defs>\n        <path id=\"DejaVuSans-2212\" d=\"M 678 2272 \nL 4684 2272 \nL 4684 1741 \nL 678 1741 \nL 678 2272 \nz\n\" transform=\"scale(0.015625)\"/>\n       </defs>\n       <use xlink:href=\"#DejaVuSans-31\" transform=\"translate(0 0.765625)\"/>\n       <use xlink:href=\"#DejaVuSans-30\" transform=\"translate(63.623047 0.765625)\"/>\n       <use xlink:href=\"#DejaVuSans-2212\" transform=\"translate(128.203125 39.046875)scale(0.7)\"/>\n       <use xlink:href=\"#DejaVuSans-38\" transform=\"translate(186.855469 39.046875)scale(0.7)\"/>\n      </g>\n     </g>\n    </g>\n    <g id=\"ytick_2\">\n     <g id=\"line2d_8\">\n      <g>\n       <use xlink:href=\"#m6abcd73e97\" x=\"51.378125\" y=\"170.872658\" style=\"fill: #ffffff; stroke: #ffffff; stroke-width: 0.8\"/>\n      </g>\n     </g>\n     <g id=\"text_9\">\n      <!-- $\\mathdefault{10^{-6}}$ -->\n      <g style=\"fill: #ffffff\" transform=\"translate(20.878125 174.671877)scale(0.1 -0.1)\">\n       <use xlink:href=\"#DejaVuSans-31\" transform=\"translate(0 0.765625)\"/>\n       <use xlink:href=\"#DejaVuSans-30\" transform=\"translate(63.623047 0.765625)\"/>\n       <use xlink:href=\"#DejaVuSans-2212\" transform=\"translate(128.203125 39.046875)scale(0.7)\"/>\n       <use xlink:href=\"#DejaVuSans-36\" transform=\"translate(186.855469 39.046875)scale(0.7)\"/>\n      </g>\n     </g>\n    </g>\n    <g id=\"ytick_3\">\n     <g id=\"line2d_9\">\n      <g>\n       <use xlink:href=\"#m6abcd73e97\" x=\"51.378125\" y=\"140.780432\" style=\"fill: #ffffff; stroke: #ffffff; stroke-width: 0.8\"/>\n      </g>\n     </g>\n     <g id=\"text_10\">\n      <!-- $\\mathdefault{10^{-4}}$ -->\n      <g style=\"fill: #ffffff\" transform=\"translate(20.878125 144.579651)scale(0.1 -0.1)\">\n       <use xlink:href=\"#DejaVuSans-31\" transform=\"translate(0 0.684375)\"/>\n       <use xlink:href=\"#DejaVuSans-30\" transform=\"translate(63.623047 0.684375)\"/>\n       <use xlink:href=\"#DejaVuSans-2212\" transform=\"translate(128.203125 38.965625)scale(0.7)\"/>\n       <use xlink:href=\"#DejaVuSans-34\" transform=\"translate(186.855469 38.965625)scale(0.7)\"/>\n      </g>\n     </g>\n    </g>\n    <g id=\"ytick_4\">\n     <g id=\"line2d_10\">\n      <g>\n       <use xlink:href=\"#m6abcd73e97\" x=\"51.378125\" y=\"110.688206\" style=\"fill: #ffffff; stroke: #ffffff; stroke-width: 0.8\"/>\n      </g>\n     </g>\n     <g id=\"text_11\">\n      <!-- $\\mathdefault{10^{-2}}$ -->\n      <g style=\"fill: #ffffff\" transform=\"translate(20.878125 114.487424)scale(0.1 -0.1)\">\n       <use xlink:href=\"#DejaVuSans-31\" transform=\"translate(0 0.765625)\"/>\n       <use xlink:href=\"#DejaVuSans-30\" transform=\"translate(63.623047 0.765625)\"/>\n       <use xlink:href=\"#DejaVuSans-2212\" transform=\"translate(128.203125 39.046875)scale(0.7)\"/>\n       <use xlink:href=\"#DejaVuSans-32\" transform=\"translate(186.855469 39.046875)scale(0.7)\"/>\n      </g>\n     </g>\n    </g>\n    <g id=\"ytick_5\">\n     <g id=\"line2d_11\">\n      <g>\n       <use xlink:href=\"#m6abcd73e97\" x=\"51.378125\" y=\"80.595979\" style=\"fill: #ffffff; stroke: #ffffff; stroke-width: 0.8\"/>\n      </g>\n     </g>\n     <g id=\"text_12\">\n      <!-- $\\mathdefault{10^{0}}$ -->\n      <g style=\"fill: #ffffff\" transform=\"translate(26.778125 84.395198)scale(0.1 -0.1)\">\n       <use xlink:href=\"#DejaVuSans-31\" transform=\"translate(0 0.765625)\"/>\n       <use xlink:href=\"#DejaVuSans-30\" transform=\"translate(63.623047 0.765625)\"/>\n       <use xlink:href=\"#DejaVuSans-30\" transform=\"translate(128.203125 39.046875)scale(0.7)\"/>\n      </g>\n     </g>\n    </g>\n    <g id=\"ytick_6\">\n     <g id=\"line2d_12\">\n      <g>\n       <use xlink:href=\"#m6abcd73e97\" x=\"51.378125\" y=\"50.503753\" style=\"fill: #ffffff; stroke: #ffffff; stroke-width: 0.8\"/>\n      </g>\n     </g>\n     <g id=\"text_13\">\n      <!-- $\\mathdefault{10^{2}}$ -->\n      <g style=\"fill: #ffffff\" transform=\"translate(26.778125 54.302972)scale(0.1 -0.1)\">\n       <use xlink:href=\"#DejaVuSans-31\" transform=\"translate(0 0.765625)\"/>\n       <use xlink:href=\"#DejaVuSans-30\" transform=\"translate(63.623047 0.765625)\"/>\n       <use xlink:href=\"#DejaVuSans-32\" transform=\"translate(128.203125 39.046875)scale(0.7)\"/>\n      </g>\n     </g>\n    </g>\n    <g id=\"ytick_7\">\n     <g id=\"line2d_13\">\n      <g>\n       <use xlink:href=\"#m6abcd73e97\" x=\"51.378125\" y=\"20.411527\" style=\"fill: #ffffff; stroke: #ffffff; stroke-width: 0.8\"/>\n      </g>\n     </g>\n     <g id=\"text_14\">\n      <!-- $\\mathdefault{10^{4}}$ -->\n      <g style=\"fill: #ffffff\" transform=\"translate(26.778125 24.210746)scale(0.1 -0.1)\">\n       <use xlink:href=\"#DejaVuSans-31\" transform=\"translate(0 0.684375)\"/>\n       <use xlink:href=\"#DejaVuSans-30\" transform=\"translate(63.623047 0.684375)\"/>\n       <use xlink:href=\"#DejaVuSans-34\" transform=\"translate(128.203125 38.965625)scale(0.7)\"/>\n      </g>\n     </g>\n    </g>\n    <g id=\"text_15\">\n     <!-- Loss -->\n     <g style=\"fill: #ffffff\" transform=\"translate(14.798437 126.887188)rotate(-90)scale(0.1 -0.1)\">\n      <defs>\n       <path id=\"DejaVuSans-4c\" d=\"M 628 4666 \nL 1259 4666 \nL 1259 531 \nL 3531 531 \nL 3531 0 \nL 628 0 \nL 628 4666 \nz\n\" transform=\"scale(0.015625)\"/>\n       <path id=\"DejaVuSans-6f\" d=\"M 1959 3097 \nQ 1497 3097 1228 2736 \nQ 959 2375 959 1747 \nQ 959 1119 1226 758 \nQ 1494 397 1959 397 \nQ 2419 397 2687 759 \nQ 2956 1122 2956 1747 \nQ 2956 2369 2687 2733 \nQ 2419 3097 1959 3097 \nz\nM 1959 3584 \nQ 2709 3584 3137 3096 \nQ 3566 2609 3566 1747 \nQ 3566 888 3137 398 \nQ 2709 -91 1959 -91 \nQ 1206 -91 779 398 \nQ 353 888 353 1747 \nQ 353 2609 779 3096 \nQ 1206 3584 1959 3584 \nz\n\" transform=\"scale(0.015625)\"/>\n       <path id=\"DejaVuSans-73\" d=\"M 2834 3397 \nL 2834 2853 \nQ 2591 2978 2328 3040 \nQ 2066 3103 1784 3103 \nQ 1356 3103 1142 2972 \nQ 928 2841 928 2578 \nQ 928 2378 1081 2264 \nQ 1234 2150 1697 2047 \nL 1894 2003 \nQ 2506 1872 2764 1633 \nQ 3022 1394 3022 966 \nQ 3022 478 2636 193 \nQ 2250 -91 1575 -91 \nQ 1294 -91 989 -36 \nQ 684 19 347 128 \nL 347 722 \nQ 666 556 975 473 \nQ 1284 391 1588 391 \nQ 1994 391 2212 530 \nQ 2431 669 2431 922 \nQ 2431 1156 2273 1281 \nQ 2116 1406 1581 1522 \nL 1381 1569 \nQ 847 1681 609 1914 \nQ 372 2147 372 2553 \nQ 372 3047 722 3315 \nQ 1072 3584 1716 3584 \nQ 2034 3584 2315 3537 \nQ 2597 3491 2834 3397 \nz\n\" transform=\"scale(0.015625)\"/>\n      </defs>\n      <use xlink:href=\"#DejaVuSans-4c\"/>\n      <use xlink:href=\"#DejaVuSans-6f\" x=\"53.962891\"/>\n      <use xlink:href=\"#DejaVuSans-73\" x=\"115.144531\"/>\n      <use xlink:href=\"#DejaVuSans-73\" x=\"167.244141\"/>\n     </g>\n    </g>\n   </g>\n   <g id=\"line2d_14\">\n    <path d=\"M 65.212836 17.083636 \nL 65.489807 37.335529 \nL 66.043749 41.539779 \nL 66.874663 45.781917 \nL 67.705576 48.89798 \nL 68.813461 52.153119 \nL 70.198317 55.401039 \nL 71.583173 58.100189 \nL 73.245 60.879168 \nL 75.183798 63.699371 \nL 77.399568 66.546288 \nL 80.16928 69.721256 \nL 83.215963 72.875763 \nL 86.816588 76.290276 \nL 91.248127 80.17313 \nL 96.51058 84.474808 \nL 102.880917 89.38631 \nL 110.913081 95.28552 \nL 121.437987 102.720331 \nL 135.840488 112.602683 \nL 157.998183 127.515747 \nL 222.809441 170.657279 \nL 230.287663 175.614429 \nL 236.104058 179.46099 \nL 249.675646 188.459676 \nL 250.78353 189.248981 \nL 253.276271 190.756531 \nL 255.215069 192.07653 \nL 259.369637 194.804724 \nL 261.862378 196.329439 \nL 262.970263 197.094446 \nL 264.909061 198.51265 \nL 266.016946 199.421692 \nL 267.12483 200.220912 \nL 269.3406 201.262077 \nL 270.171513 201.716128 \nL 273.772139 203.555869 \nL 274.326081 203.94141 \nL 276.26488 205.171366 \nL 279.034591 207.015106 \nL 280.142476 207.937999 \nL 281.527332 209.046196 \nL 282.081274 209.637649 \nL 284.297044 211.733149 \nL 285.958871 213.559682 \nL 286.512813 214.403129 \nL 286.789785 214.756364 \nL 341.907051 214.756364 \nL 341.907051 214.756364 \n\" clip-path=\"url(#p91f86b8404)\" style=\"fill: none; stroke: #8dd3c7; stroke-width: 1.5; stroke-linecap: square\"/>\n   </g>\n   <g id=\"patch_3\">\n    <path d=\"M 51.378125 224.64 \nL 51.378125 7.2 \n\" style=\"fill: none; stroke: #ffffff; stroke-width: 0.8; stroke-linejoin: miter; stroke-linecap: square\"/>\n   </g>\n   <g id=\"patch_4\">\n    <path d=\"M 355.741761 224.64 \nL 355.741761 7.2 \n\" style=\"fill: none; stroke: #ffffff; stroke-width: 0.8; stroke-linejoin: miter; stroke-linecap: square\"/>\n   </g>\n   <g id=\"patch_5\">\n    <path d=\"M 51.378125 224.64 \nL 355.741761 224.64 \n\" style=\"fill: none; stroke: #ffffff; stroke-width: 0.8; stroke-linejoin: miter; stroke-linecap: square\"/>\n   </g>\n   <g id=\"patch_6\">\n    <path d=\"M 51.378125 7.2 \nL 355.741761 7.2 \n\" style=\"fill: none; stroke: #ffffff; stroke-width: 0.8; stroke-linejoin: miter; stroke-linecap: square\"/>\n   </g>\n  </g>\n  <g id=\"axes_2\">\n   <g id=\"patch_7\">\n    <path d=\"M 416.614489 224.64 \nL 720.978125 224.64 \nL 720.978125 7.2 \nL 416.614489 7.2 \nz\n\"/>\n   </g>\n   <g id=\"matplotlib.axis_3\">\n    <g id=\"xtick_7\">\n     <g id=\"line2d_15\">\n      <g>\n       <use xlink:href=\"#m17551ee54d\" x=\"430.449199\" y=\"224.64\" style=\"fill: #ffffff; stroke: #ffffff; stroke-width: 0.8\"/>\n      </g>\n     </g>\n     <g id=\"text_16\">\n      <!-- 0 -->\n      <g style=\"fill: #ffffff\" transform=\"translate(427.267949 239.238438)scale(0.1 -0.1)\">\n       <use xlink:href=\"#DejaVuSans-30\"/>\n      </g>\n     </g>\n    </g>\n    <g id=\"xtick_8\">\n     <g id=\"line2d_16\">\n      <g>\n       <use xlink:href=\"#m17551ee54d\" x=\"485.843437\" y=\"224.64\" style=\"fill: #ffffff; stroke: #ffffff; stroke-width: 0.8\"/>\n      </g>\n     </g>\n     <g id=\"text_17\">\n      <!-- 200 -->\n      <g style=\"fill: #ffffff\" transform=\"translate(476.299687 239.238438)scale(0.1 -0.1)\">\n       <use xlink:href=\"#DejaVuSans-32\"/>\n       <use xlink:href=\"#DejaVuSans-30\" x=\"63.623047\"/>\n       <use xlink:href=\"#DejaVuSans-30\" x=\"127.246094\"/>\n      </g>\n     </g>\n    </g>\n    <g id=\"xtick_9\">\n     <g id=\"line2d_17\">\n      <g>\n       <use xlink:href=\"#m17551ee54d\" x=\"541.237674\" y=\"224.64\" style=\"fill: #ffffff; stroke: #ffffff; stroke-width: 0.8\"/>\n      </g>\n     </g>\n     <g id=\"text_18\">\n      <!-- 400 -->\n      <g style=\"fill: #ffffff\" transform=\"translate(531.693924 239.238438)scale(0.1 -0.1)\">\n       <use xlink:href=\"#DejaVuSans-34\"/>\n       <use xlink:href=\"#DejaVuSans-30\" x=\"63.623047\"/>\n       <use xlink:href=\"#DejaVuSans-30\" x=\"127.246094\"/>\n      </g>\n     </g>\n    </g>\n    <g id=\"xtick_10\">\n     <g id=\"line2d_18\">\n      <g>\n       <use xlink:href=\"#m17551ee54d\" x=\"596.631911\" y=\"224.64\" style=\"fill: #ffffff; stroke: #ffffff; stroke-width: 0.8\"/>\n      </g>\n     </g>\n     <g id=\"text_19\">\n      <!-- 600 -->\n      <g style=\"fill: #ffffff\" transform=\"translate(587.088161 239.238438)scale(0.1 -0.1)\">\n       <use xlink:href=\"#DejaVuSans-36\"/>\n       <use xlink:href=\"#DejaVuSans-30\" x=\"63.623047\"/>\n       <use xlink:href=\"#DejaVuSans-30\" x=\"127.246094\"/>\n      </g>\n     </g>\n    </g>\n    <g id=\"xtick_11\">\n     <g id=\"line2d_19\">\n      <g>\n       <use xlink:href=\"#m17551ee54d\" x=\"652.026148\" y=\"224.64\" style=\"fill: #ffffff; stroke: #ffffff; stroke-width: 0.8\"/>\n      </g>\n     </g>\n     <g id=\"text_20\">\n      <!-- 800 -->\n      <g style=\"fill: #ffffff\" transform=\"translate(642.482398 239.238438)scale(0.1 -0.1)\">\n       <use xlink:href=\"#DejaVuSans-38\"/>\n       <use xlink:href=\"#DejaVuSans-30\" x=\"63.623047\"/>\n       <use xlink:href=\"#DejaVuSans-30\" x=\"127.246094\"/>\n      </g>\n     </g>\n    </g>\n    <g id=\"xtick_12\">\n     <g id=\"line2d_20\">\n      <g>\n       <use xlink:href=\"#m17551ee54d\" x=\"707.420385\" y=\"224.64\" style=\"fill: #ffffff; stroke: #ffffff; stroke-width: 0.8\"/>\n      </g>\n     </g>\n     <g id=\"text_21\">\n      <!-- 1000 -->\n      <g style=\"fill: #ffffff\" transform=\"translate(694.695385 239.238438)scale(0.1 -0.1)\">\n       <use xlink:href=\"#DejaVuSans-31\"/>\n       <use xlink:href=\"#DejaVuSans-30\" x=\"63.623047\"/>\n       <use xlink:href=\"#DejaVuSans-30\" x=\"127.246094\"/>\n       <use xlink:href=\"#DejaVuSans-30\" x=\"190.869141\"/>\n      </g>\n     </g>\n    </g>\n    <g id=\"text_22\">\n     <!-- Step -->\n     <g style=\"fill: #ffffff\" transform=\"translate(557.411151 252.916563)scale(0.1 -0.1)\">\n      <use xlink:href=\"#DejaVuSans-53\"/>\n      <use xlink:href=\"#DejaVuSans-74\" x=\"63.476562\"/>\n      <use xlink:href=\"#DejaVuSans-65\" x=\"102.685547\"/>\n      <use xlink:href=\"#DejaVuSans-70\" x=\"164.208984\"/>\n     </g>\n    </g>\n   </g>\n   <g id=\"matplotlib.axis_4\">\n    <g id=\"ytick_8\">\n     <g id=\"line2d_21\">\n      <g>\n       <use xlink:href=\"#m6abcd73e97\" x=\"416.614489\" y=\"214.756596\" style=\"fill: #ffffff; stroke: #ffffff; stroke-width: 0.8\"/>\n      </g>\n     </g>\n     <g id=\"text_23\">\n      <!-- 0.0 -->\n      <g style=\"fill: #ffffff\" transform=\"translate(393.711364 218.555815)scale(0.1 -0.1)\">\n       <defs>\n        <path id=\"DejaVuSans-2e\" d=\"M 684 794 \nL 1344 794 \nL 1344 0 \nL 684 0 \nL 684 794 \nz\n\" transform=\"scale(0.015625)\"/>\n       </defs>\n       <use xlink:href=\"#DejaVuSans-30\"/>\n       <use xlink:href=\"#DejaVuSans-2e\" x=\"63.623047\"/>\n       <use xlink:href=\"#DejaVuSans-30\" x=\"95.410156\"/>\n      </g>\n     </g>\n    </g>\n    <g id=\"ytick_9\">\n     <g id=\"line2d_22\">\n      <g>\n       <use xlink:href=\"#m6abcd73e97\" x=\"416.614489\" y=\"186.866906\" style=\"fill: #ffffff; stroke: #ffffff; stroke-width: 0.8\"/>\n      </g>\n     </g>\n     <g id=\"text_24\">\n      <!-- 0.5 -->\n      <g style=\"fill: #ffffff\" transform=\"translate(393.711364 190.666124)scale(0.1 -0.1)\">\n       <defs>\n        <path id=\"DejaVuSans-35\" d=\"M 691 4666 \nL 3169 4666 \nL 3169 4134 \nL 1269 4134 \nL 1269 2991 \nQ 1406 3038 1543 3061 \nQ 1681 3084 1819 3084 \nQ 2600 3084 3056 2656 \nQ 3513 2228 3513 1497 \nQ 3513 744 3044 326 \nQ 2575 -91 1722 -91 \nQ 1428 -91 1123 -41 \nQ 819 9 494 109 \nL 494 744 \nQ 775 591 1075 516 \nQ 1375 441 1709 441 \nQ 2250 441 2565 725 \nQ 2881 1009 2881 1497 \nQ 2881 1984 2565 2268 \nQ 2250 2553 1709 2553 \nQ 1456 2553 1204 2497 \nQ 953 2441 691 2322 \nL 691 4666 \nz\n\" transform=\"scale(0.015625)\"/>\n       </defs>\n       <use xlink:href=\"#DejaVuSans-30\"/>\n       <use xlink:href=\"#DejaVuSans-2e\" x=\"63.623047\"/>\n       <use xlink:href=\"#DejaVuSans-35\" x=\"95.410156\"/>\n      </g>\n     </g>\n    </g>\n    <g id=\"ytick_10\">\n     <g id=\"line2d_23\">\n      <g>\n       <use xlink:href=\"#m6abcd73e97\" x=\"416.614489\" y=\"158.977215\" style=\"fill: #ffffff; stroke: #ffffff; stroke-width: 0.8\"/>\n      </g>\n     </g>\n     <g id=\"text_25\">\n      <!-- 1.0 -->\n      <g style=\"fill: #ffffff\" transform=\"translate(393.711364 162.776434)scale(0.1 -0.1)\">\n       <use xlink:href=\"#DejaVuSans-31\"/>\n       <use xlink:href=\"#DejaVuSans-2e\" x=\"63.623047\"/>\n       <use xlink:href=\"#DejaVuSans-30\" x=\"95.410156\"/>\n      </g>\n     </g>\n    </g>\n    <g id=\"ytick_11\">\n     <g id=\"line2d_24\">\n      <g>\n       <use xlink:href=\"#m6abcd73e97\" x=\"416.614489\" y=\"131.087524\" style=\"fill: #ffffff; stroke: #ffffff; stroke-width: 0.8\"/>\n      </g>\n     </g>\n     <g id=\"text_26\">\n      <!-- 1.5 -->\n      <g style=\"fill: #ffffff\" transform=\"translate(393.711364 134.886743)scale(0.1 -0.1)\">\n       <use xlink:href=\"#DejaVuSans-31\"/>\n       <use xlink:href=\"#DejaVuSans-2e\" x=\"63.623047\"/>\n       <use xlink:href=\"#DejaVuSans-35\" x=\"95.410156\"/>\n      </g>\n     </g>\n    </g>\n    <g id=\"ytick_12\">\n     <g id=\"line2d_25\">\n      <g>\n       <use xlink:href=\"#m6abcd73e97\" x=\"416.614489\" y=\"103.197833\" style=\"fill: #ffffff; stroke: #ffffff; stroke-width: 0.8\"/>\n      </g>\n     </g>\n     <g id=\"text_27\">\n      <!-- 2.0 -->\n      <g style=\"fill: #ffffff\" transform=\"translate(393.711364 106.997052)scale(0.1 -0.1)\">\n       <use xlink:href=\"#DejaVuSans-32\"/>\n       <use xlink:href=\"#DejaVuSans-2e\" x=\"63.623047\"/>\n       <use xlink:href=\"#DejaVuSans-30\" x=\"95.410156\"/>\n      </g>\n     </g>\n    </g>\n    <g id=\"ytick_13\">\n     <g id=\"line2d_26\">\n      <g>\n       <use xlink:href=\"#m6abcd73e97\" x=\"416.614489\" y=\"75.308143\" style=\"fill: #ffffff; stroke: #ffffff; stroke-width: 0.8\"/>\n      </g>\n     </g>\n     <g id=\"text_28\">\n      <!-- 2.5 -->\n      <g style=\"fill: #ffffff\" transform=\"translate(393.711364 79.107361)scale(0.1 -0.1)\">\n       <use xlink:href=\"#DejaVuSans-32\"/>\n       <use xlink:href=\"#DejaVuSans-2e\" x=\"63.623047\"/>\n       <use xlink:href=\"#DejaVuSans-35\" x=\"95.410156\"/>\n      </g>\n     </g>\n    </g>\n    <g id=\"ytick_14\">\n     <g id=\"line2d_27\">\n      <g>\n       <use xlink:href=\"#m6abcd73e97\" x=\"416.614489\" y=\"47.418452\" style=\"fill: #ffffff; stroke: #ffffff; stroke-width: 0.8\"/>\n      </g>\n     </g>\n     <g id=\"text_29\">\n      <!-- 3.0 -->\n      <g style=\"fill: #ffffff\" transform=\"translate(393.711364 51.217671)scale(0.1 -0.1)\">\n       <defs>\n        <path id=\"DejaVuSans-33\" d=\"M 2597 2516 \nQ 3050 2419 3304 2112 \nQ 3559 1806 3559 1356 \nQ 3559 666 3084 287 \nQ 2609 -91 1734 -91 \nQ 1441 -91 1130 -33 \nQ 819 25 488 141 \nL 488 750 \nQ 750 597 1062 519 \nQ 1375 441 1716 441 \nQ 2309 441 2620 675 \nQ 2931 909 2931 1356 \nQ 2931 1769 2642 2001 \nQ 2353 2234 1838 2234 \nL 1294 2234 \nL 1294 2753 \nL 1863 2753 \nQ 2328 2753 2575 2939 \nQ 2822 3125 2822 3475 \nQ 2822 3834 2567 4026 \nQ 2313 4219 1838 4219 \nQ 1578 4219 1281 4162 \nQ 984 4106 628 3988 \nL 628 4550 \nQ 988 4650 1302 4700 \nQ 1616 4750 1894 4750 \nQ 2613 4750 3031 4423 \nQ 3450 4097 3450 3541 \nQ 3450 3153 3228 2886 \nQ 3006 2619 2597 2516 \nz\n\" transform=\"scale(0.015625)\"/>\n       </defs>\n       <use xlink:href=\"#DejaVuSans-33\"/>\n       <use xlink:href=\"#DejaVuSans-2e\" x=\"63.623047\"/>\n       <use xlink:href=\"#DejaVuSans-30\" x=\"95.410156\"/>\n      </g>\n     </g>\n    </g>\n    <g id=\"ytick_15\">\n     <g id=\"line2d_28\">\n      <g>\n       <use xlink:href=\"#m6abcd73e97\" x=\"416.614489\" y=\"19.528761\" style=\"fill: #ffffff; stroke: #ffffff; stroke-width: 0.8\"/>\n      </g>\n     </g>\n     <g id=\"text_30\">\n      <!-- 3.5 -->\n      <g style=\"fill: #ffffff\" transform=\"translate(393.711364 23.32798)scale(0.1 -0.1)\">\n       <use xlink:href=\"#DejaVuSans-33\"/>\n       <use xlink:href=\"#DejaVuSans-2e\" x=\"63.623047\"/>\n       <use xlink:href=\"#DejaVuSans-35\" x=\"95.410156\"/>\n      </g>\n     </g>\n    </g>\n    <g id=\"text_31\">\n     <!-- $x_{pred}$ Absolute Error -->\n     <g style=\"fill: #ffffff\" transform=\"translate(386.611364 164.47)rotate(-90)scale(0.1 -0.1)\">\n      <defs>\n       <path id=\"DejaVuSans-Oblique-78\" d=\"M 3841 3500 \nL 2234 1784 \nL 3219 0 \nL 2559 0 \nL 1819 1388 \nL 531 0 \nL -166 0 \nL 1556 1844 \nL 641 3500 \nL 1300 3500 \nL 1972 2234 \nL 3144 3500 \nL 3841 3500 \nz\n\" transform=\"scale(0.015625)\"/>\n       <path id=\"DejaVuSans-Oblique-70\" d=\"M 3175 2156 \nQ 3175 2616 2975 2859 \nQ 2775 3103 2400 3103 \nQ 2144 3103 1911 2972 \nQ 1678 2841 1497 2591 \nQ 1319 2344 1212 1994 \nQ 1106 1644 1106 1300 \nQ 1106 863 1306 627 \nQ 1506 391 1875 391 \nQ 2147 391 2380 519 \nQ 2613 647 2778 891 \nQ 2956 1147 3065 1494 \nQ 3175 1841 3175 2156 \nz\nM 1394 2969 \nQ 1625 3272 1939 3428 \nQ 2253 3584 2638 3584 \nQ 3175 3584 3472 3232 \nQ 3769 2881 3769 2247 \nQ 3769 1728 3584 1258 \nQ 3400 788 3053 416 \nQ 2822 169 2531 39 \nQ 2241 -91 1919 -91 \nQ 1547 -91 1294 64 \nQ 1041 219 916 525 \nL 556 -1331 \nL -19 -1331 \nL 922 3500 \nL 1497 3500 \nL 1394 2969 \nz\n\" transform=\"scale(0.015625)\"/>\n       <path id=\"DejaVuSans-Oblique-72\" d=\"M 2853 2969 \nQ 2766 3016 2653 3041 \nQ 2541 3066 2413 3066 \nQ 1953 3066 1609 2717 \nQ 1266 2369 1153 1784 \nL 800 0 \nL 225 0 \nL 909 3500 \nL 1484 3500 \nL 1375 2956 \nQ 1603 3259 1920 3421 \nQ 2238 3584 2597 3584 \nQ 2691 3584 2781 3573 \nQ 2872 3563 2963 3538 \nL 2853 2969 \nz\n\" transform=\"scale(0.015625)\"/>\n       <path id=\"DejaVuSans-Oblique-65\" d=\"M 3078 2063 \nQ 3088 2113 3092 2166 \nQ 3097 2219 3097 2272 \nQ 3097 2653 2873 2875 \nQ 2650 3097 2266 3097 \nQ 1838 3097 1509 2826 \nQ 1181 2556 1013 2059 \nL 3078 2063 \nz\nM 3578 1613 \nL 903 1613 \nQ 884 1494 878 1425 \nQ 872 1356 872 1306 \nQ 872 872 1139 634 \nQ 1406 397 1894 397 \nQ 2269 397 2603 481 \nQ 2938 566 3225 728 \nL 3116 159 \nQ 2806 34 2476 -28 \nQ 2147 -91 1806 -91 \nQ 1078 -91 686 257 \nQ 294 606 294 1247 \nQ 294 1794 489 2264 \nQ 684 2734 1063 3103 \nQ 1306 3334 1642 3459 \nQ 1978 3584 2356 3584 \nQ 2950 3584 3301 3228 \nQ 3653 2872 3653 2272 \nQ 3653 2128 3634 1964 \nQ 3616 1800 3578 1613 \nz\n\" transform=\"scale(0.015625)\"/>\n       <path id=\"DejaVuSans-Oblique-64\" d=\"M 2675 525 \nQ 2444 222 2128 65 \nQ 1813 -91 1428 -91 \nQ 903 -91 598 267 \nQ 294 625 294 1247 \nQ 294 1766 478 2236 \nQ 663 2706 1013 3078 \nQ 1244 3325 1534 3454 \nQ 1825 3584 2144 3584 \nQ 2481 3584 2739 3421 \nQ 2997 3259 3138 2956 \nL 3513 4863 \nL 4091 4863 \nL 3144 0 \nL 2566 0 \nL 2675 525 \nz\nM 891 1350 \nQ 891 897 1095 644 \nQ 1300 391 1663 391 \nQ 1931 391 2161 520 \nQ 2391 650 2566 903 \nQ 2750 1166 2856 1509 \nQ 2963 1853 2963 2188 \nQ 2963 2622 2758 2865 \nQ 2553 3109 2194 3109 \nQ 1922 3109 1687 2981 \nQ 1453 2853 1288 2613 \nQ 1106 2353 998 2009 \nQ 891 1666 891 1350 \nz\n\" transform=\"scale(0.015625)\"/>\n       <path id=\"DejaVuSans-20\" transform=\"scale(0.015625)\"/>\n       <path id=\"DejaVuSans-41\" d=\"M 2188 4044 \nL 1331 1722 \nL 3047 1722 \nL 2188 4044 \nz\nM 1831 4666 \nL 2547 4666 \nL 4325 0 \nL 3669 0 \nL 3244 1197 \nL 1141 1197 \nL 716 0 \nL 50 0 \nL 1831 4666 \nz\n\" transform=\"scale(0.015625)\"/>\n       <path id=\"DejaVuSans-62\" d=\"M 3116 1747 \nQ 3116 2381 2855 2742 \nQ 2594 3103 2138 3103 \nQ 1681 3103 1420 2742 \nQ 1159 2381 1159 1747 \nQ 1159 1113 1420 752 \nQ 1681 391 2138 391 \nQ 2594 391 2855 752 \nQ 3116 1113 3116 1747 \nz\nM 1159 2969 \nQ 1341 3281 1617 3432 \nQ 1894 3584 2278 3584 \nQ 2916 3584 3314 3078 \nQ 3713 2572 3713 1747 \nQ 3713 922 3314 415 \nQ 2916 -91 2278 -91 \nQ 1894 -91 1617 61 \nQ 1341 213 1159 525 \nL 1159 0 \nL 581 0 \nL 581 4863 \nL 1159 4863 \nL 1159 2969 \nz\n\" transform=\"scale(0.015625)\"/>\n       <path id=\"DejaVuSans-6c\" d=\"M 603 4863 \nL 1178 4863 \nL 1178 0 \nL 603 0 \nL 603 4863 \nz\n\" transform=\"scale(0.015625)\"/>\n       <path id=\"DejaVuSans-75\" d=\"M 544 1381 \nL 544 3500 \nL 1119 3500 \nL 1119 1403 \nQ 1119 906 1312 657 \nQ 1506 409 1894 409 \nQ 2359 409 2629 706 \nQ 2900 1003 2900 1516 \nL 2900 3500 \nL 3475 3500 \nL 3475 0 \nL 2900 0 \nL 2900 538 \nQ 2691 219 2414 64 \nQ 2138 -91 1772 -91 \nQ 1169 -91 856 284 \nQ 544 659 544 1381 \nz\nM 1991 3584 \nL 1991 3584 \nz\n\" transform=\"scale(0.015625)\"/>\n       <path id=\"DejaVuSans-45\" d=\"M 628 4666 \nL 3578 4666 \nL 3578 4134 \nL 1259 4134 \nL 1259 2753 \nL 3481 2753 \nL 3481 2222 \nL 1259 2222 \nL 1259 531 \nL 3634 531 \nL 3634 0 \nL 628 0 \nL 628 4666 \nz\n\" transform=\"scale(0.015625)\"/>\n       <path id=\"DejaVuSans-72\" d=\"M 2631 2963 \nQ 2534 3019 2420 3045 \nQ 2306 3072 2169 3072 \nQ 1681 3072 1420 2755 \nQ 1159 2438 1159 1844 \nL 1159 0 \nL 581 0 \nL 581 3500 \nL 1159 3500 \nL 1159 2956 \nQ 1341 3275 1631 3429 \nQ 1922 3584 2338 3584 \nQ 2397 3584 2469 3576 \nQ 2541 3569 2628 3553 \nL 2631 2963 \nz\n\" transform=\"scale(0.015625)\"/>\n      </defs>\n      <use xlink:href=\"#DejaVuSans-Oblique-78\" transform=\"translate(0 0.015625)\"/>\n      <use xlink:href=\"#DejaVuSans-Oblique-70\" transform=\"translate(59.179688 -16.390625)scale(0.7)\"/>\n      <use xlink:href=\"#DejaVuSans-Oblique-72\" transform=\"translate(103.613281 -16.390625)scale(0.7)\"/>\n      <use xlink:href=\"#DejaVuSans-Oblique-65\" transform=\"translate(132.392578 -16.390625)scale(0.7)\"/>\n      <use xlink:href=\"#DejaVuSans-Oblique-64\" transform=\"translate(175.458984 -16.390625)scale(0.7)\"/>\n      <use xlink:href=\"#DejaVuSans-20\" transform=\"translate(222.626953 0.015625)\"/>\n      <use xlink:href=\"#DejaVuSans-41\" transform=\"translate(254.414062 0.015625)\"/>\n      <use xlink:href=\"#DejaVuSans-62\" transform=\"translate(322.822266 0.015625)\"/>\n      <use xlink:href=\"#DejaVuSans-73\" transform=\"translate(386.298828 0.015625)\"/>\n      <use xlink:href=\"#DejaVuSans-6f\" transform=\"translate(438.398438 0.015625)\"/>\n      <use xlink:href=\"#DejaVuSans-6c\" transform=\"translate(499.580078 0.015625)\"/>\n      <use xlink:href=\"#DejaVuSans-75\" transform=\"translate(527.363281 0.015625)\"/>\n      <use xlink:href=\"#DejaVuSans-74\" transform=\"translate(590.742188 0.015625)\"/>\n      <use xlink:href=\"#DejaVuSans-65\" transform=\"translate(629.951172 0.015625)\"/>\n      <use xlink:href=\"#DejaVuSans-20\" transform=\"translate(691.474609 0.015625)\"/>\n      <use xlink:href=\"#DejaVuSans-45\" transform=\"translate(723.261719 0.015625)\"/>\n      <use xlink:href=\"#DejaVuSans-72\" transform=\"translate(786.445312 0.015625)\"/>\n      <use xlink:href=\"#DejaVuSans-72\" transform=\"translate(827.558594 0.015625)\"/>\n      <use xlink:href=\"#DejaVuSans-6f\" transform=\"translate(868.671875 0.015625)\"/>\n      <use xlink:href=\"#DejaVuSans-72\" transform=\"translate(929.853516 0.015625)\"/>\n     </g>\n    </g>\n   </g>\n   <g id=\"line2d_29\">\n    <path d=\"M 430.449199 17.083636 \nL 430.726171 127.894945 \nL 431.280113 143.590237 \nL 431.834055 153.468217 \nL 432.664969 163.450859 \nL 433.495882 170.414358 \nL 434.326796 175.665392 \nL 435.434681 181.026021 \nL 436.542565 185.170885 \nL 437.65045 188.499032 \nL 439.035306 191.85834 \nL 440.420162 194.58028 \nL 441.805018 196.836382 \nL 443.466845 199.084491 \nL 445.128672 200.952293 \nL 447.067471 202.766361 \nL 449.006269 204.277362 \nL 451.222038 205.717727 \nL 453.714779 207.055131 \nL 456.484491 208.270565 \nL 459.531174 209.355279 \nL 462.854828 210.308048 \nL 466.732425 211.188943 \nL 471.163964 211.968042 \nL 476.426416 212.662847 \nL 482.796754 213.267219 \nL 490.551947 213.766391 \nL 500.245938 214.158315 \nL 513.263584 214.450477 \nL 532.651567 214.642964 \nL 568.38085 214.738164 \nL 706.312501 214.756364 \nL 707.143414 214.756364 \nL 707.143414 214.756364 \n\" clip-path=\"url(#p6b63ed492c)\" style=\"fill: none; stroke: #8dd3c7; stroke-width: 1.5; stroke-linecap: square\"/>\n   </g>\n   <g id=\"patch_8\">\n    <path d=\"M 416.614489 224.64 \nL 416.614489 7.2 \n\" style=\"fill: none; stroke: #ffffff; stroke-width: 0.8; stroke-linejoin: miter; stroke-linecap: square\"/>\n   </g>\n   <g id=\"patch_9\">\n    <path d=\"M 720.978125 224.64 \nL 720.978125 7.2 \n\" style=\"fill: none; stroke: #ffffff; stroke-width: 0.8; stroke-linejoin: miter; stroke-linecap: square\"/>\n   </g>\n   <g id=\"patch_10\">\n    <path d=\"M 416.614489 224.64 \nL 720.978125 224.64 \n\" style=\"fill: none; stroke: #ffffff; stroke-width: 0.8; stroke-linejoin: miter; stroke-linecap: square\"/>\n   </g>\n   <g id=\"patch_11\">\n    <path d=\"M 416.614489 7.2 \nL 720.978125 7.2 \n\" style=\"fill: none; stroke: #ffffff; stroke-width: 0.8; stroke-linejoin: miter; stroke-linecap: square\"/>\n   </g>\n  </g>\n </g>\n <defs>\n  <clipPath id=\"p91f86b8404\">\n   <rect x=\"51.378125\" y=\"7.2\" width=\"304.363636\" height=\"217.44\"/>\n  </clipPath>\n  <clipPath id=\"p6b63ed492c\">\n   <rect x=\"416.614489\" y=\"7.2\" width=\"304.363636\" height=\"217.44\"/>\n  </clipPath>\n </defs>\n</svg>\n",
      "text/plain": [
       "<Figure size 864x288 with 2 Axes>"
      ]
     },
     "metadata": {},
     "output_type": "display_data"
    }
   ],
   "source": [
    "def equation(x):\n",
    "    return x**3 + 2*x - 6\n",
    "\n",
    "def MSELoss(y_pred, y_true):\n",
    "    \"\"\"Mean Squared Error\"\"\"\n",
    "    return (y_pred- y_true)**2\n",
    "\n",
    "# Define our variables\n",
    "x = tf.Variable(5.0)\n",
    "y_true = tf.constant(0.)\n",
    "\n",
    "# Optimization hyperparameters\n",
    "lr = 0.0001\n",
    "N_STEPS = 1000\n",
    "\n",
    "# Lists for intermediate result\n",
    "losses = []\n",
    "partial_res = []\n",
    "\n",
    "for _ in range(N_STEPS):\n",
    "    with tf.GradientTape() as tape:\n",
    "        # reinitialize computational graph\n",
    "        tape.watch(x) # necessary when looping\n",
    "\n",
    "        # compute prediction and loss value\n",
    "        y_pred = equation(x)\n",
    "        loss = MSELoss(y_pred, y_true)\n",
    "    \n",
    "    # save loss and intermediary `x`\n",
    "    losses.append(loss.numpy())\n",
    "    partial_res.append(x.numpy())\n",
    "\n",
    "    # get gradient and update `x`\n",
    "    grad = tape.gradient(loss, x)\n",
    "    x = x - lr*grad\n",
    "\n",
    "\n",
    "steps = np.arange(N_STEPS)\n",
    "error = np.array(partial_res) - 1.45616424613591\n",
    "plt.figure(figsize=(12,4))\n",
    "plt.tight_layout()\n",
    "plt.subplot(1,2,1)\n",
    "plt.plot(steps, losses)\n",
    "plt.yscale(\"log\")\n",
    "plt.xlabel(\"Step\")\n",
    "plt.ylabel(\"Loss\")\n",
    "plt.subplot(1,2,2)\n",
    "plt.plot(steps, error)\n",
    "plt.xlabel(\"Step\")\n",
    "plt.ylabel(\"$x_{pred}$ Absolute Error\")\n",
    "plt.show()"
   ]
  },
  {
   "cell_type": "code",
   "execution_count": 33,
   "metadata": {},
   "outputs": [
    {
     "data": {
      "text/plain": [
       "3.4841595258683355e-05"
      ]
     },
     "execution_count": 33,
     "metadata": {},
     "output_type": "execute_result"
    }
   ],
   "source": [
    "equation(x.numpy())"
   ]
  },
  {
   "cell_type": "markdown",
   "metadata": {},
   "source": [
    "## Homework\n",
    "\n",
    "Fit a linear model on the following dataset. The linear model definition and loss function are already provided. Your task is to find `a` and `b` which minimizes the loss function on the training set."
   ]
  },
  {
   "cell_type": "code",
   "execution_count": 34,
   "metadata": {},
   "outputs": [],
   "source": [
    "def linear_model(x, a, b):\n",
    "    return a*x + b \n",
    "\n",
    "def reduce_MSE (y_pred, y_true):\n",
    "    return tf.reduce_mean((y_pred- y_true)**2)"
   ]
  },
  {
   "cell_type": "code",
   "execution_count": 35,
   "metadata": {},
   "outputs": [
    {
     "data": {
      "image/png": "[encoded data removed]",
      "image/svg+xml": "<?xml version=\"1.0\" encoding=\"utf-8\" standalone=\"no\"?>\n<!DOCTYPE svg PUBLIC \"-//W3C//DTD SVG 1.1//EN\"\n  \"http://www.w3.org/Graphics/SVG/1.1/DTD/svg11.dtd\">\n<svg xmlns:xlink=\"http://www.w3.org/1999/xlink\" width=\"372.581803pt\" height=\"248.518125pt\" viewBox=\"0 0 372.581803 248.518125\" xmlns=\"http://www.w3.org/2000/svg\" version=\"1.1\">\n <metadata>\n  <rdf:RDF xmlns:dc=\"http://purl.org/dc/elements/1.1/\" xmlns:cc=\"http://creativecommons.org/ns#\" xmlns:rdf=\"http://www.w3.org/1999/02/22-rdf-syntax-ns#\">\n   <cc:Work>\n    <dc:type rdf:resource=\"http://purl.org/dc/dcmitype/StillImage\"/>\n    <dc:date>2022-03-07T10:49:08.841905</dc:date>\n    <dc:format>image/svg+xml</dc:format>\n    <dc:creator>\n     <cc:Agent>\n      <dc:title>Matplotlib v3.5.1, https://matplotlib.org/</dc:title>\n     </cc:Agent>\n    </dc:creator>\n   </cc:Work>\n  </rdf:RDF>\n </metadata>\n <defs>\n  <style type=\"text/css\">*{stroke-linejoin: round; stroke-linecap: butt}</style>\n </defs>\n <g id=\"figure_1\">\n  <g id=\"patch_1\">\n   <path d=\"M 0 248.518125 \nL 372.581803 248.518125 \nL 372.581803 0 \nL 0 0 \nz\n\"/>\n  </g>\n  <g id=\"axes_1\">\n   <g id=\"patch_2\">\n    <path d=\"M 28.942188 224.64 \nL 363.742188 224.64 \nL 363.742188 7.2 \nL 28.942188 7.2 \nz\n\"/>\n   </g>\n   <g id=\"PathCollection_1\">\n    <defs>\n     <path id=\"mf4df782bbc\" d=\"M 0 3 \nC 0.795609 3 1.55874 2.683901 2.12132 2.12132 \nC 2.683901 1.55874 3 0.795609 3 0 \nC 3 -0.795609 2.683901 -1.55874 2.12132 -2.12132 \nC 1.55874 -2.683901 0.795609 -3 0 -3 \nC -0.795609 -3 -1.55874 -2.683901 -2.12132 -2.12132 \nC -2.683901 -1.55874 -3 -0.795609 -3 0 \nC -3 0.795609 -2.683901 1.55874 -2.12132 2.12132 \nC -1.55874 2.683901 -0.795609 3 0 3 \nz\n\" style=\"stroke: #8dd3c7\"/>\n    </defs>\n    <g clip-path=\"url(#pe35994441d)\">\n     <use xlink:href=\"#mf4df782bbc\" x=\"44.160369\" y=\"190.723073\" style=\"fill: #8dd3c7; stroke: #8dd3c7\"/>\n     <use xlink:href=\"#mf4df782bbc\" x=\"54.655667\" y=\"214.756364\" style=\"fill: #8dd3c7; stroke: #8dd3c7\"/>\n     <use xlink:href=\"#mf4df782bbc\" x=\"65.150965\" y=\"167.900839\" style=\"fill: #8dd3c7; stroke: #8dd3c7\"/>\n     <use xlink:href=\"#mf4df782bbc\" x=\"75.646263\" y=\"151.376671\" style=\"fill: #8dd3c7; stroke: #8dd3c7\"/>\n     <use xlink:href=\"#mf4df782bbc\" x=\"86.141561\" y=\"184.593533\" style=\"fill: #8dd3c7; stroke: #8dd3c7\"/>\n     <use xlink:href=\"#mf4df782bbc\" x=\"96.636858\" y=\"180.620142\" style=\"fill: #8dd3c7; stroke: #8dd3c7\"/>\n     <use xlink:href=\"#mf4df782bbc\" x=\"107.132156\" y=\"184.476756\" style=\"fill: #8dd3c7; stroke: #8dd3c7\"/>\n     <use xlink:href=\"#mf4df782bbc\" x=\"117.627454\" y=\"175.475439\" style=\"fill: #8dd3c7; stroke: #8dd3c7\"/>\n     <use xlink:href=\"#mf4df782bbc\" x=\"128.122752\" y=\"178.046411\" style=\"fill: #8dd3c7; stroke: #8dd3c7\"/>\n     <use xlink:href=\"#mf4df782bbc\" x=\"138.61805\" y=\"143.004659\" style=\"fill: #8dd3c7; stroke: #8dd3c7\"/>\n     <use xlink:href=\"#mf4df782bbc\" x=\"149.113347\" y=\"207.000853\" style=\"fill: #8dd3c7; stroke: #8dd3c7\"/>\n     <use xlink:href=\"#mf4df782bbc\" x=\"159.608645\" y=\"161.728954\" style=\"fill: #8dd3c7; stroke: #8dd3c7\"/>\n     <use xlink:href=\"#mf4df782bbc\" x=\"170.103943\" y=\"97.826486\" style=\"fill: #8dd3c7; stroke: #8dd3c7\"/>\n     <use xlink:href=\"#mf4df782bbc\" x=\"180.599241\" y=\"117.870395\" style=\"fill: #8dd3c7; stroke: #8dd3c7\"/>\n     <use xlink:href=\"#mf4df782bbc\" x=\"191.094539\" y=\"82.286968\" style=\"fill: #8dd3c7; stroke: #8dd3c7\"/>\n     <use xlink:href=\"#mf4df782bbc\" x=\"201.589836\" y=\"146.647702\" style=\"fill: #8dd3c7; stroke: #8dd3c7\"/>\n     <use xlink:href=\"#mf4df782bbc\" x=\"212.085134\" y=\"125.162887\" style=\"fill: #8dd3c7; stroke: #8dd3c7\"/>\n     <use xlink:href=\"#mf4df782bbc\" x=\"222.580432\" y=\"73.091576\" style=\"fill: #8dd3c7; stroke: #8dd3c7\"/>\n     <use xlink:href=\"#mf4df782bbc\" x=\"233.07573\" y=\"142.177657\" style=\"fill: #8dd3c7; stroke: #8dd3c7\"/>\n     <use xlink:href=\"#mf4df782bbc\" x=\"243.571028\" y=\"95.898381\" style=\"fill: #8dd3c7; stroke: #8dd3c7\"/>\n     <use xlink:href=\"#mf4df782bbc\" x=\"254.066325\" y=\"76.610222\" style=\"fill: #8dd3c7; stroke: #8dd3c7\"/>\n     <use xlink:href=\"#mf4df782bbc\" x=\"264.561623\" y=\"101.381146\" style=\"fill: #8dd3c7; stroke: #8dd3c7\"/>\n     <use xlink:href=\"#mf4df782bbc\" x=\"275.056921\" y=\"81.282586\" style=\"fill: #8dd3c7; stroke: #8dd3c7\"/>\n     <use xlink:href=\"#mf4df782bbc\" x=\"285.552219\" y=\"92.187164\" style=\"fill: #8dd3c7; stroke: #8dd3c7\"/>\n     <use xlink:href=\"#mf4df782bbc\" x=\"296.047517\" y=\"39.72332\" style=\"fill: #8dd3c7; stroke: #8dd3c7\"/>\n     <use xlink:href=\"#mf4df782bbc\" x=\"306.542814\" y=\"24.908478\" style=\"fill: #8dd3c7; stroke: #8dd3c7\"/>\n     <use xlink:href=\"#mf4df782bbc\" x=\"317.038112\" y=\"63.075284\" style=\"fill: #8dd3c7; stroke: #8dd3c7\"/>\n     <use xlink:href=\"#mf4df782bbc\" x=\"327.53341\" y=\"17.083636\" style=\"fill: #8dd3c7; stroke: #8dd3c7\"/>\n     <use xlink:href=\"#mf4df782bbc\" x=\"338.028708\" y=\"20.688296\" style=\"fill: #8dd3c7; stroke: #8dd3c7\"/>\n     <use xlink:href=\"#mf4df782bbc\" x=\"348.524006\" y=\"45.753346\" style=\"fill: #8dd3c7; stroke: #8dd3c7\"/>\n    </g>\n   </g>\n   <g id=\"matplotlib.axis_1\">\n    <g id=\"xtick_1\">\n     <g id=\"line2d_1\">\n      <defs>\n       <path id=\"m28bd497fef\" d=\"M 0 0 \nL 0 3.5 \n\" style=\"stroke: #ffffff; stroke-width: 0.8\"/>\n      </defs>\n      <g>\n       <use xlink:href=\"#m28bd497fef\" x=\"44.160369\" y=\"224.64\" style=\"fill: #ffffff; stroke: #ffffff; stroke-width: 0.8\"/>\n      </g>\n     </g>\n     <g id=\"text_1\">\n      <!-- 0 -->\n      <g style=\"fill: #ffffff\" transform=\"translate(40.979119 239.238437)scale(0.1 -0.1)\">\n       <defs>\n        <path id=\"DejaVuSans-30\" d=\"M 2034 4250 \nQ 1547 4250 1301 3770 \nQ 1056 3291 1056 2328 \nQ 1056 1369 1301 889 \nQ 1547 409 2034 409 \nQ 2525 409 2770 889 \nQ 3016 1369 3016 2328 \nQ 3016 3291 2770 3770 \nQ 2525 4250 2034 4250 \nz\nM 2034 4750 \nQ 2819 4750 3233 4129 \nQ 3647 3509 3647 2328 \nQ 3647 1150 3233 529 \nQ 2819 -91 2034 -91 \nQ 1250 -91 836 529 \nQ 422 1150 422 2328 \nQ 422 3509 836 4129 \nQ 1250 4750 2034 4750 \nz\n\" transform=\"scale(0.015625)\"/>\n       </defs>\n       <use xlink:href=\"#DejaVuSans-30\"/>\n      </g>\n     </g>\n    </g>\n    <g id=\"xtick_2\">\n     <g id=\"line2d_2\">\n      <g>\n       <use xlink:href=\"#m28bd497fef\" x=\"96.636858\" y=\"224.64\" style=\"fill: #ffffff; stroke: #ffffff; stroke-width: 0.8\"/>\n      </g>\n     </g>\n     <g id=\"text_2\">\n      <!-- 5 -->\n      <g style=\"fill: #ffffff\" transform=\"translate(93.455608 239.238437)scale(0.1 -0.1)\">\n       <defs>\n        <path id=\"DejaVuSans-35\" d=\"M 691 4666 \nL 3169 4666 \nL 3169 4134 \nL 1269 4134 \nL 1269 2991 \nQ 1406 3038 1543 3061 \nQ 1681 3084 1819 3084 \nQ 2600 3084 3056 2656 \nQ 3513 2228 3513 1497 \nQ 3513 744 3044 326 \nQ 2575 -91 1722 -91 \nQ 1428 -91 1123 -41 \nQ 819 9 494 109 \nL 494 744 \nQ 775 591 1075 516 \nQ 1375 441 1709 441 \nQ 2250 441 2565 725 \nQ 2881 1009 2881 1497 \nQ 2881 1984 2565 2268 \nQ 2250 2553 1709 2553 \nQ 1456 2553 1204 2497 \nQ 953 2441 691 2322 \nL 691 4666 \nz\n\" transform=\"scale(0.015625)\"/>\n       </defs>\n       <use xlink:href=\"#DejaVuSans-35\"/>\n      </g>\n     </g>\n    </g>\n    <g id=\"xtick_3\">\n     <g id=\"line2d_3\">\n      <g>\n       <use xlink:href=\"#m28bd497fef\" x=\"149.113347\" y=\"224.64\" style=\"fill: #ffffff; stroke: #ffffff; stroke-width: 0.8\"/>\n      </g>\n     </g>\n     <g id=\"text_3\">\n      <!-- 10 -->\n      <g style=\"fill: #ffffff\" transform=\"translate(142.750847 239.238437)scale(0.1 -0.1)\">\n       <defs>\n        <path id=\"DejaVuSans-31\" d=\"M 794 531 \nL 1825 531 \nL 1825 4091 \nL 703 3866 \nL 703 4441 \nL 1819 4666 \nL 2450 4666 \nL 2450 531 \nL 3481 531 \nL 3481 0 \nL 794 0 \nL 794 531 \nz\n\" transform=\"scale(0.015625)\"/>\n       </defs>\n       <use xlink:href=\"#DejaVuSans-31\"/>\n       <use xlink:href=\"#DejaVuSans-30\" x=\"63.623047\"/>\n      </g>\n     </g>\n    </g>\n    <g id=\"xtick_4\">\n     <g id=\"line2d_4\">\n      <g>\n       <use xlink:href=\"#m28bd497fef\" x=\"201.589836\" y=\"224.64\" style=\"fill: #ffffff; stroke: #ffffff; stroke-width: 0.8\"/>\n      </g>\n     </g>\n     <g id=\"text_4\">\n      <!-- 15 -->\n      <g style=\"fill: #ffffff\" transform=\"translate(195.227336 239.238437)scale(0.1 -0.1)\">\n       <use xlink:href=\"#DejaVuSans-31\"/>\n       <use xlink:href=\"#DejaVuSans-35\" x=\"63.623047\"/>\n      </g>\n     </g>\n    </g>\n    <g id=\"xtick_5\">\n     <g id=\"line2d_5\">\n      <g>\n       <use xlink:href=\"#m28bd497fef\" x=\"254.066325\" y=\"224.64\" style=\"fill: #ffffff; stroke: #ffffff; stroke-width: 0.8\"/>\n      </g>\n     </g>\n     <g id=\"text_5\">\n      <!-- 20 -->\n      <g style=\"fill: #ffffff\" transform=\"translate(247.703825 239.238437)scale(0.1 -0.1)\">\n       <defs>\n        <path id=\"DejaVuSans-32\" d=\"M 1228 531 \nL 3431 531 \nL 3431 0 \nL 469 0 \nL 469 531 \nQ 828 903 1448 1529 \nQ 2069 2156 2228 2338 \nQ 2531 2678 2651 2914 \nQ 2772 3150 2772 3378 \nQ 2772 3750 2511 3984 \nQ 2250 4219 1831 4219 \nQ 1534 4219 1204 4116 \nQ 875 4013 500 3803 \nL 500 4441 \nQ 881 4594 1212 4672 \nQ 1544 4750 1819 4750 \nQ 2544 4750 2975 4387 \nQ 3406 4025 3406 3419 \nQ 3406 3131 3298 2873 \nQ 3191 2616 2906 2266 \nQ 2828 2175 2409 1742 \nQ 1991 1309 1228 531 \nz\n\" transform=\"scale(0.015625)\"/>\n       </defs>\n       <use xlink:href=\"#DejaVuSans-32\"/>\n       <use xlink:href=\"#DejaVuSans-30\" x=\"63.623047\"/>\n      </g>\n     </g>\n    </g>\n    <g id=\"xtick_6\">\n     <g id=\"line2d_6\">\n      <g>\n       <use xlink:href=\"#m28bd497fef\" x=\"306.542814\" y=\"224.64\" style=\"fill: #ffffff; stroke: #ffffff; stroke-width: 0.8\"/>\n      </g>\n     </g>\n     <g id=\"text_6\">\n      <!-- 25 -->\n      <g style=\"fill: #ffffff\" transform=\"translate(300.180314 239.238437)scale(0.1 -0.1)\">\n       <use xlink:href=\"#DejaVuSans-32\"/>\n       <use xlink:href=\"#DejaVuSans-35\" x=\"63.623047\"/>\n      </g>\n     </g>\n    </g>\n    <g id=\"xtick_7\">\n     <g id=\"line2d_7\">\n      <g>\n       <use xlink:href=\"#m28bd497fef\" x=\"359.019303\" y=\"224.64\" style=\"fill: #ffffff; stroke: #ffffff; stroke-width: 0.8\"/>\n      </g>\n     </g>\n     <g id=\"text_7\">\n      <!-- 30 -->\n      <g style=\"fill: #ffffff\" transform=\"translate(352.656803 239.238437)scale(0.1 -0.1)\">\n       <defs>\n        <path id=\"DejaVuSans-33\" d=\"M 2597 2516 \nQ 3050 2419 3304 2112 \nQ 3559 1806 3559 1356 \nQ 3559 666 3084 287 \nQ 2609 -91 1734 -91 \nQ 1441 -91 1130 -33 \nQ 819 25 488 141 \nL 488 750 \nQ 750 597 1062 519 \nQ 1375 441 1716 441 \nQ 2309 441 2620 675 \nQ 2931 909 2931 1356 \nQ 2931 1769 2642 2001 \nQ 2353 2234 1838 2234 \nL 1294 2234 \nL 1294 2753 \nL 1863 2753 \nQ 2328 2753 2575 2939 \nQ 2822 3125 2822 3475 \nQ 2822 3834 2567 4026 \nQ 2313 4219 1838 4219 \nQ 1578 4219 1281 4162 \nQ 984 4106 628 3988 \nL 628 4550 \nQ 988 4650 1302 4700 \nQ 1616 4750 1894 4750 \nQ 2613 4750 3031 4423 \nQ 3450 4097 3450 3541 \nQ 3450 3153 3228 2886 \nQ 3006 2619 2597 2516 \nz\n\" transform=\"scale(0.015625)\"/>\n       </defs>\n       <use xlink:href=\"#DejaVuSans-33\"/>\n       <use xlink:href=\"#DejaVuSans-30\" x=\"63.623047\"/>\n      </g>\n     </g>\n    </g>\n   </g>\n   <g id=\"matplotlib.axis_2\">\n    <g id=\"ytick_1\">\n     <g id=\"line2d_8\">\n      <defs>\n       <path id=\"m50bf7e8273\" d=\"M 0 0 \nL -3.5 0 \n\" style=\"stroke: #ffffff; stroke-width: 0.8\"/>\n      </defs>\n      <g>\n       <use xlink:href=\"#m50bf7e8273\" x=\"28.942188\" y=\"208.784951\" style=\"fill: #ffffff; stroke: #ffffff; stroke-width: 0.8\"/>\n      </g>\n     </g>\n     <g id=\"text_8\">\n      <!-- −1 -->\n      <g style=\"fill: #ffffff\" transform=\"translate(7.2 212.58417)scale(0.1 -0.1)\">\n       <defs>\n        <path id=\"DejaVuSans-2212\" d=\"M 678 2272 \nL 4684 2272 \nL 4684 1741 \nL 678 1741 \nL 678 2272 \nz\n\" transform=\"scale(0.015625)\"/>\n       </defs>\n       <use xlink:href=\"#DejaVuSans-2212\"/>\n       <use xlink:href=\"#DejaVuSans-31\" x=\"83.789062\"/>\n      </g>\n     </g>\n    </g>\n    <g id=\"ytick_2\">\n     <g id=\"line2d_9\">\n      <g>\n       <use xlink:href=\"#m50bf7e8273\" x=\"28.942188\" y=\"178.923285\" style=\"fill: #ffffff; stroke: #ffffff; stroke-width: 0.8\"/>\n      </g>\n     </g>\n     <g id=\"text_9\">\n      <!-- 0 -->\n      <g style=\"fill: #ffffff\" transform=\"translate(15.579688 182.722504)scale(0.1 -0.1)\">\n       <use xlink:href=\"#DejaVuSans-30\"/>\n      </g>\n     </g>\n    </g>\n    <g id=\"ytick_3\">\n     <g id=\"line2d_10\">\n      <g>\n       <use xlink:href=\"#m50bf7e8273\" x=\"28.942188\" y=\"149.061619\" style=\"fill: #ffffff; stroke: #ffffff; stroke-width: 0.8\"/>\n      </g>\n     </g>\n     <g id=\"text_10\">\n      <!-- 1 -->\n      <g style=\"fill: #ffffff\" transform=\"translate(15.579688 152.860838)scale(0.1 -0.1)\">\n       <use xlink:href=\"#DejaVuSans-31\"/>\n      </g>\n     </g>\n    </g>\n    <g id=\"ytick_4\">\n     <g id=\"line2d_11\">\n      <g>\n       <use xlink:href=\"#m50bf7e8273\" x=\"28.942188\" y=\"119.199953\" style=\"fill: #ffffff; stroke: #ffffff; stroke-width: 0.8\"/>\n      </g>\n     </g>\n     <g id=\"text_11\">\n      <!-- 2 -->\n      <g style=\"fill: #ffffff\" transform=\"translate(15.579688 122.999171)scale(0.1 -0.1)\">\n       <use xlink:href=\"#DejaVuSans-32\"/>\n      </g>\n     </g>\n    </g>\n    <g id=\"ytick_5\">\n     <g id=\"line2d_12\">\n      <g>\n       <use xlink:href=\"#m50bf7e8273\" x=\"28.942188\" y=\"89.338286\" style=\"fill: #ffffff; stroke: #ffffff; stroke-width: 0.8\"/>\n      </g>\n     </g>\n     <g id=\"text_12\">\n      <!-- 3 -->\n      <g style=\"fill: #ffffff\" transform=\"translate(15.579688 93.137505)scale(0.1 -0.1)\">\n       <use xlink:href=\"#DejaVuSans-33\"/>\n      </g>\n     </g>\n    </g>\n    <g id=\"ytick_6\">\n     <g id=\"line2d_13\">\n      <g>\n       <use xlink:href=\"#m50bf7e8273\" x=\"28.942188\" y=\"59.47662\" style=\"fill: #ffffff; stroke: #ffffff; stroke-width: 0.8\"/>\n      </g>\n     </g>\n     <g id=\"text_13\">\n      <!-- 4 -->\n      <g style=\"fill: #ffffff\" transform=\"translate(15.579688 63.275839)scale(0.1 -0.1)\">\n       <defs>\n        <path id=\"DejaVuSans-34\" d=\"M 2419 4116 \nL 825 1625 \nL 2419 1625 \nL 2419 4116 \nz\nM 2253 4666 \nL 3047 4666 \nL 3047 1625 \nL 3713 1625 \nL 3713 1100 \nL 3047 1100 \nL 3047 0 \nL 2419 0 \nL 2419 1100 \nL 313 1100 \nL 313 1709 \nL 2253 4666 \nz\n\" transform=\"scale(0.015625)\"/>\n       </defs>\n       <use xlink:href=\"#DejaVuSans-34\"/>\n      </g>\n     </g>\n    </g>\n    <g id=\"ytick_7\">\n     <g id=\"line2d_14\">\n      <g>\n       <use xlink:href=\"#m50bf7e8273\" x=\"28.942188\" y=\"29.614954\" style=\"fill: #ffffff; stroke: #ffffff; stroke-width: 0.8\"/>\n      </g>\n     </g>\n     <g id=\"text_14\">\n      <!-- 5 -->\n      <g style=\"fill: #ffffff\" transform=\"translate(15.579688 33.414173)scale(0.1 -0.1)\">\n       <use xlink:href=\"#DejaVuSans-35\"/>\n      </g>\n     </g>\n    </g>\n   </g>\n   <g id=\"patch_3\">\n    <path d=\"M 28.942188 224.64 \nL 28.942188 7.2 \n\" style=\"fill: none; stroke: #ffffff; stroke-width: 0.8; stroke-linejoin: miter; stroke-linecap: square\"/>\n   </g>\n   <g id=\"patch_4\">\n    <path d=\"M 363.742188 224.64 \nL 363.742188 7.2 \n\" style=\"fill: none; stroke: #ffffff; stroke-width: 0.8; stroke-linejoin: miter; stroke-linecap: square\"/>\n   </g>\n   <g id=\"patch_5\">\n    <path d=\"M 28.942187 224.64 \nL 363.742188 224.64 \n\" style=\"fill: none; stroke: #ffffff; stroke-width: 0.8; stroke-linejoin: miter; stroke-linecap: square\"/>\n   </g>\n   <g id=\"patch_6\">\n    <path d=\"M 28.942187 7.2 \nL 363.742188 7.2 \n\" style=\"fill: none; stroke: #ffffff; stroke-width: 0.8; stroke-linejoin: miter; stroke-linecap: square\"/>\n   </g>\n  </g>\n </g>\n <defs>\n  <clipPath id=\"pe35994441d\">\n   <rect x=\"28.942188\" y=\"7.2\" width=\"334.8\" height=\"217.44\"/>\n  </clipPath>\n </defs>\n</svg>\n",
      "text/plain": [
       "<Figure size 432x288 with 1 Axes>"
      ]
     },
     "metadata": {},
     "output_type": "display_data"
    }
   ],
   "source": [
    "x_train = np.arange(30)\n",
    "y_train = 0.2*np.arange(30) + np.random.normal(0, 0.75, 30) - 1\n",
    "\n",
    "plt.scatter(x_train, y_train);"
   ]
  },
  {
   "cell_type": "markdown",
   "metadata": {},
   "source": [
    "Implement the linear model fit here:"
   ]
  },
  {
   "cell_type": "code",
   "execution_count": 36,
   "metadata": {},
   "outputs": [
    {
     "ename": "NotImplementedError",
     "evalue": "",
     "output_type": "error",
     "traceback": [
      "\u001b[0;31m---------------------------------------------------------------------------\u001b[0m",
      "\u001b[0;31mNotImplementedError\u001b[0m                       Traceback (most recent call last)",
      "\u001b[1;32m/Users/idinu/Tutorials/04. Tensorflow Intro/tensorflow-intro.ipynb Cell 24'\u001b[0m in \u001b[0;36m<module>\u001b[0;34m\u001b[0m\n\u001b[1;32m      <a href='vscode-notebook-cell:/Users/idinu/Tutorials/04.%20Tensorflow%20Intro/tensorflow-intro.ipynb#ch0000022?line=5'>6</a>\u001b[0m lr \u001b[39m=\u001b[39m \u001b[39m0.0001\u001b[39m\n\u001b[1;32m      <a href='vscode-notebook-cell:/Users/idinu/Tutorials/04.%20Tensorflow%20Intro/tensorflow-intro.ipynb#ch0000022?line=6'>7</a>\u001b[0m N_STEPS \u001b[39m=\u001b[39m \u001b[39m100\u001b[39m\n\u001b[0;32m----> <a href='vscode-notebook-cell:/Users/idinu/Tutorials/04.%20Tensorflow%20Intro/tensorflow-intro.ipynb#ch0000022?line=7'>8</a>\u001b[0m \u001b[39mraise\u001b[39;00m \u001b[39mNotImplementedError\u001b[39;00m\n\u001b[1;32m     <a href='vscode-notebook-cell:/Users/idinu/Tutorials/04.%20Tensorflow%20Intro/tensorflow-intro.ipynb#ch0000022?line=9'>10</a>\u001b[0m \u001b[39m# Lists for intermediate result\u001b[39;00m\n\u001b[1;32m     <a href='vscode-notebook-cell:/Users/idinu/Tutorials/04.%20Tensorflow%20Intro/tensorflow-intro.ipynb#ch0000022?line=10'>11</a>\u001b[0m losses \u001b[39m=\u001b[39m []\n",
      "\u001b[0;31mNotImplementedError\u001b[0m: "
     ]
    }
   ],
   "source": [
    "# Define our variables\n",
    "a = tf.Variable(1.0)\n",
    "b = tf.Variable(0.0)\n",
    "\n",
    "# Optimization hyperparameters\n",
    "lr = 0.0001\n",
    "N_STEPS = 100\n",
    "raise NotImplementedError\n",
    "\n",
    "# Lists for intermediate result\n",
    "losses = []\n",
    "interm_a = []\n",
    "interm_b = []\n",
    "\n",
    "for _ in range(N_STEPS):\n",
    "    # Use persistent to allow getting multiple gradiens\n",
    "    with tf.GradientTape(persistent=True) as tape:\n",
    "        tape.watch(a)\n",
    "        tape.watch(b)\n",
    "        raise NotImplementedError\n",
    "\n",
    "    # save loss and intermediary `a` and `b`\n",
    "    losses.append(loss.numpy())\n",
    "    interm_b.append(b.numpy())\n",
    "    interm_a.append(a.numpy())\n",
    "\n",
    "    # get gradients and update `a` and `b`\n",
    "    \n",
    "    grad = tape.gradient(loss, a)\n",
    "    a = a - lr*grad\n",
    "    raise NotImplementedError"
   ]
  },
  {
   "cell_type": "markdown",
   "metadata": {},
   "source": [
    "###  Visualize fit"
   ]
  },
  {
   "cell_type": "code",
   "execution_count": null,
   "metadata": {},
   "outputs": [],
   "source": [
    "plt.scatter(x_train, y_train);\n",
    "plt.plot(x_train, linear_model(x_train, interm_a[-1], interm_b[-1]));"
   ]
  }
 ],
 "metadata": {
  "accelerator": "GPU",
  "colab": {
   "collapsed_sections": [
    "0Z_dTVxKo3mF",
    "giIUtaJGo3mS"
   ],
   "name": "Pytorch.ipynb",
   "provenance": []
  },
  "kernelspec": {
   "display_name": "Python 3",
   "language": "python",
   "name": "python3"
  },
  "language_info": {
   "codemirror_mode": {
    "name": "ipython",
    "version": 3
   },
   "file_extension": ".py",
   "mimetype": "text/x-python",
   "name": "python",
   "nbconvert_exporter": "python",
   "pygments_lexer": "ipython3",
   "version": "3.10.0"
  },
  "widgets": {
   "application/vnd.jupyter.widget-state+json": {
    "004cd83b7e8b4d3b86352db09efb344d": {
     "model_module": "@jupyter-widgets/controls",
     "model_name": "FloatProgressModel",
     "state": {
      "_dom_classes": [],
      "_model_module": "@jupyter-widgets/controls",
      "_model_module_version": "1.5.0",
      "_model_name": "FloatProgressModel",
      "_view_count": null,
      "_view_module": "@jupyter-widgets/controls",
      "_view_module_version": "1.5.0",
      "_view_name": "ProgressView",
      "bar_style": "success",
      "description": "",
      "description_tooltip": null,
      "layout": "IPY_MODEL_a5b40e19d4424a4eb8a12ae6c638d901",
      "max": 1,
      "min": 0,
      "orientation": "horizontal",
      "style": "IPY_MODEL_979c69278eea458a987ec0a531dae9bf",
      "value": 1
     }
    },
    "02a091b4955f4ab7a334e205abcbc866": {
     "model_module": "@jupyter-widgets/controls",
     "model_name": "DescriptionStyleModel",
     "state": {
      "_model_module": "@jupyter-widgets/controls",
      "_model_module_version": "1.5.0",
      "_model_name": "DescriptionStyleModel",
      "_view_count": null,
      "_view_module": "@jupyter-widgets/base",
      "_view_module_version": "1.2.0",
      "_view_name": "StyleView",
      "description_width": ""
     }
    },
    "09cfd604f9c74d0fbf35273298ad8900": {
     "model_module": "@jupyter-widgets/controls",
     "model_name": "HBoxModel",
     "state": {
      "_dom_classes": [],
      "_model_module": "@jupyter-widgets/controls",
      "_model_module_version": "1.5.0",
      "_model_name": "HBoxModel",
      "_view_count": null,
      "_view_module": "@jupyter-widgets/controls",
      "_view_module_version": "1.5.0",
      "_view_name": "HBoxView",
      "box_style": "",
      "children": [
       "IPY_MODEL_4ceb532ee9d4424ca297ad2a3d189b8e",
       "IPY_MODEL_5ce82af04ec246bdbc1e16bb44bae38a"
      ],
      "layout": "IPY_MODEL_4be61ee965ef47a0a060ed40b1b5e8d4"
     }
    },
    "0c2606f4ef5d4e958110680ac979acc5": {
     "model_module": "@jupyter-widgets/controls",
     "model_name": "HBoxModel",
     "state": {
      "_dom_classes": [],
      "_model_module": "@jupyter-widgets/controls",
      "_model_module_version": "1.5.0",
      "_model_name": "HBoxModel",
      "_view_count": null,
      "_view_module": "@jupyter-widgets/controls",
      "_view_module_version": "1.5.0",
      "_view_name": "HBoxView",
      "box_style": "",
      "children": [
       "IPY_MODEL_004cd83b7e8b4d3b86352db09efb344d",
       "IPY_MODEL_dbb12da6d450410abb59518302b3e28b"
      ],
      "layout": "IPY_MODEL_8750cbb2e65c44bea609c9e965174752"
     }
    },
    "133c3f8995ee4e7084b718e720d136c6": {
     "model_module": "@jupyter-widgets/base",
     "model_name": "LayoutModel",
     "state": {
      "_model_module": "@jupyter-widgets/base",
      "_model_module_version": "1.2.0",
      "_model_name": "LayoutModel",
      "_view_count": null,
      "_view_module": "@jupyter-widgets/base",
      "_view_module_version": "1.2.0",
      "_view_name": "LayoutView",
      "align_content": null,
      "align_items": null,
      "align_self": null,
      "border": null,
      "bottom": null,
      "display": null,
      "flex": null,
      "flex_flow": null,
      "grid_area": null,
      "grid_auto_columns": null,
      "grid_auto_flow": null,
      "grid_auto_rows": null,
      "grid_column": null,
      "grid_gap": null,
      "grid_row": null,
      "grid_template_areas": null,
      "grid_template_columns": null,
      "grid_template_rows": null,
      "height": null,
      "justify_content": null,
      "justify_items": null,
      "left": null,
      "margin": null,
      "max_height": null,
      "max_width": null,
      "min_height": null,
      "min_width": null,
      "object_fit": null,
      "object_position": null,
      "order": null,
      "overflow": null,
      "overflow_x": null,
      "overflow_y": null,
      "padding": null,
      "right": null,
      "top": null,
      "visibility": null,
      "width": null
     }
    },
    "1fe0cfb56e0f4283b178d21599ec395f": {
     "model_module": "@jupyter-widgets/controls",
     "model_name": "ProgressStyleModel",
     "state": {
      "_model_module": "@jupyter-widgets/controls",
      "_model_module_version": "1.5.0",
      "_model_name": "ProgressStyleModel",
      "_view_count": null,
      "_view_module": "@jupyter-widgets/base",
      "_view_module_version": "1.2.0",
      "_view_name": "StyleView",
      "bar_color": null,
      "description_width": "initial"
     }
    },
    "32cdbd7fc1b840feb59014c1ec298eba": {
     "model_module": "@jupyter-widgets/base",
     "model_name": "LayoutModel",
     "state": {
      "_model_module": "@jupyter-widgets/base",
      "_model_module_version": "1.2.0",
      "_model_name": "LayoutModel",
      "_view_count": null,
      "_view_module": "@jupyter-widgets/base",
      "_view_module_version": "1.2.0",
      "_view_name": "LayoutView",
      "align_content": null,
      "align_items": null,
      "align_self": null,
      "border": null,
      "bottom": null,
      "display": null,
      "flex": null,
      "flex_flow": null,
      "grid_area": null,
      "grid_auto_columns": null,
      "grid_auto_flow": null,
      "grid_auto_rows": null,
      "grid_column": null,
      "grid_gap": null,
      "grid_row": null,
      "grid_template_areas": null,
      "grid_template_columns": null,
      "grid_template_rows": null,
      "height": null,
      "justify_content": null,
      "justify_items": null,
      "left": null,
      "margin": null,
      "max_height": null,
      "max_width": null,
      "min_height": null,
      "min_width": null,
      "object_fit": null,
      "object_position": null,
      "order": null,
      "overflow": null,
      "overflow_x": null,
      "overflow_y": null,
      "padding": null,
      "right": null,
      "top": null,
      "visibility": null,
      "width": null
     }
    },
    "3e527a71a4504f3cbc0068f8cb8fa6aa": {
     "model_module": "@jupyter-widgets/controls",
     "model_name": "FloatProgressModel",
     "state": {
      "_dom_classes": [],
      "_model_module": "@jupyter-widgets/controls",
      "_model_module_version": "1.5.0",
      "_model_name": "FloatProgressModel",
      "_view_count": null,
      "_view_module": "@jupyter-widgets/controls",
      "_view_module_version": "1.5.0",
      "_view_name": "ProgressView",
      "bar_style": "success",
      "description": "",
      "description_tooltip": null,
      "layout": "IPY_MODEL_dbd749d766794c9385108c8c395705fe",
      "max": 1,
      "min": 0,
      "orientation": "horizontal",
      "style": "IPY_MODEL_ecda9b22ac784313890d83d896921243",
      "value": 1
     }
    },
    "4be61ee965ef47a0a060ed40b1b5e8d4": {
     "model_module": "@jupyter-widgets/base",
     "model_name": "LayoutModel",
     "state": {
      "_model_module": "@jupyter-widgets/base",
      "_model_module_version": "1.2.0",
      "_model_name": "LayoutModel",
      "_view_count": null,
      "_view_module": "@jupyter-widgets/base",
      "_view_module_version": "1.2.0",
      "_view_name": "LayoutView",
      "align_content": null,
      "align_items": null,
      "align_self": null,
      "border": null,
      "bottom": null,
      "display": null,
      "flex": null,
      "flex_flow": null,
      "grid_area": null,
      "grid_auto_columns": null,
      "grid_auto_flow": null,
      "grid_auto_rows": null,
      "grid_column": null,
      "grid_gap": null,
      "grid_row": null,
      "grid_template_areas": null,
      "grid_template_columns": null,
      "grid_template_rows": null,
      "height": null,
      "justify_content": null,
      "justify_items": null,
      "left": null,
      "margin": null,
      "max_height": null,
      "max_width": null,
      "min_height": null,
      "min_width": null,
      "object_fit": null,
      "object_position": null,
      "order": null,
      "overflow": null,
      "overflow_x": null,
      "overflow_y": null,
      "padding": null,
      "right": null,
      "top": null,
      "visibility": null,
      "width": null
     }
    },
    "4ceb532ee9d4424ca297ad2a3d189b8e": {
     "model_module": "@jupyter-widgets/controls",
     "model_name": "FloatProgressModel",
     "state": {
      "_dom_classes": [],
      "_model_module": "@jupyter-widgets/controls",
      "_model_module_version": "1.5.0",
      "_model_name": "FloatProgressModel",
      "_view_count": null,
      "_view_module": "@jupyter-widgets/controls",
      "_view_module_version": "1.5.0",
      "_view_name": "ProgressView",
      "bar_style": "success",
      "description": "",
      "description_tooltip": null,
      "layout": "IPY_MODEL_32cdbd7fc1b840feb59014c1ec298eba",
      "max": 1,
      "min": 0,
      "orientation": "horizontal",
      "style": "IPY_MODEL_1fe0cfb56e0f4283b178d21599ec395f",
      "value": 1
     }
    },
    "52bcd0c3af3e4421ad93db94c654e1bb": {
     "model_module": "@jupyter-widgets/controls",
     "model_name": "HTMLModel",
     "state": {
      "_dom_classes": [],
      "_model_module": "@jupyter-widgets/controls",
      "_model_module_version": "1.5.0",
      "_model_name": "HTMLModel",
      "_view_count": null,
      "_view_module": "@jupyter-widgets/controls",
      "_view_module_version": "1.5.0",
      "_view_name": "HTMLView",
      "description": "",
      "description_tooltip": null,
      "layout": "IPY_MODEL_5be0aa71b06343bda7900fa901065898",
      "placeholder": "​",
      "style": "IPY_MODEL_5aaa714d7d174bb8bb311d287f2fe7f3",
      "value": " 8192/? [00:06&lt;00:00, 1339.20it/s]"
     }
    },
    "5aaa714d7d174bb8bb311d287f2fe7f3": {
     "model_module": "@jupyter-widgets/controls",
     "model_name": "DescriptionStyleModel",
     "state": {
      "_model_module": "@jupyter-widgets/controls",
      "_model_module_version": "1.5.0",
      "_model_name": "DescriptionStyleModel",
      "_view_count": null,
      "_view_module": "@jupyter-widgets/base",
      "_view_module_version": "1.2.0",
      "_view_name": "StyleView",
      "description_width": ""
     }
    },
    "5aee6be5fdcf49909ffbea03105d370a": {
     "model_module": "@jupyter-widgets/controls",
     "model_name": "DescriptionStyleModel",
     "state": {
      "_model_module": "@jupyter-widgets/controls",
      "_model_module_version": "1.5.0",
      "_model_name": "DescriptionStyleModel",
      "_view_count": null,
      "_view_module": "@jupyter-widgets/base",
      "_view_module_version": "1.2.0",
      "_view_name": "StyleView",
      "description_width": ""
     }
    },
    "5be0aa71b06343bda7900fa901065898": {
     "model_module": "@jupyter-widgets/base",
     "model_name": "LayoutModel",
     "state": {
      "_model_module": "@jupyter-widgets/base",
      "_model_module_version": "1.2.0",
      "_model_name": "LayoutModel",
      "_view_count": null,
      "_view_module": "@jupyter-widgets/base",
      "_view_module_version": "1.2.0",
      "_view_name": "LayoutView",
      "align_content": null,
      "align_items": null,
      "align_self": null,
      "border": null,
      "bottom": null,
      "display": null,
      "flex": null,
      "flex_flow": null,
      "grid_area": null,
      "grid_auto_columns": null,
      "grid_auto_flow": null,
      "grid_auto_rows": null,
      "grid_column": null,
      "grid_gap": null,
      "grid_row": null,
      "grid_template_areas": null,
      "grid_template_columns": null,
      "grid_template_rows": null,
      "height": null,
      "justify_content": null,
      "justify_items": null,
      "left": null,
      "margin": null,
      "max_height": null,
      "max_width": null,
      "min_height": null,
      "min_width": null,
      "object_fit": null,
      "object_position": null,
      "order": null,
      "overflow": null,
      "overflow_x": null,
      "overflow_y": null,
      "padding": null,
      "right": null,
      "top": null,
      "visibility": null,
      "width": null
     }
    },
    "5c7f1a41bf454c29a3c33358d42009ce": {
     "model_module": "@jupyter-widgets/controls",
     "model_name": "HBoxModel",
     "state": {
      "_dom_classes": [],
      "_model_module": "@jupyter-widgets/controls",
      "_model_module_version": "1.5.0",
      "_model_name": "HBoxModel",
      "_view_count": null,
      "_view_module": "@jupyter-widgets/controls",
      "_view_module_version": "1.5.0",
      "_view_name": "HBoxView",
      "box_style": "",
      "children": [
       "IPY_MODEL_f086b2b0583d4f8984b98e48de2118bf",
       "IPY_MODEL_8c7fe12bbe67492b8de1569e1db852ec"
      ],
      "layout": "IPY_MODEL_80b94fdd99b5402db2e3d3a388514508"
     }
    },
    "5ce82af04ec246bdbc1e16bb44bae38a": {
     "model_module": "@jupyter-widgets/controls",
     "model_name": "HTMLModel",
     "state": {
      "_dom_classes": [],
      "_model_module": "@jupyter-widgets/controls",
      "_model_module_version": "1.5.0",
      "_model_name": "HTMLModel",
      "_view_count": null,
      "_view_module": "@jupyter-widgets/controls",
      "_view_module_version": "1.5.0",
      "_view_name": "HTMLView",
      "description": "",
      "description_tooltip": null,
      "layout": "IPY_MODEL_92d479d228924b92a84e3da835e5ce3f",
      "placeholder": "​",
      "style": "IPY_MODEL_02a091b4955f4ab7a334e205abcbc866",
      "value": " 1654784/? [00:06&lt;00:00, 255395.56it/s]"
     }
    },
    "80b94fdd99b5402db2e3d3a388514508": {
     "model_module": "@jupyter-widgets/base",
     "model_name": "LayoutModel",
     "state": {
      "_model_module": "@jupyter-widgets/base",
      "_model_module_version": "1.2.0",
      "_model_name": "LayoutModel",
      "_view_count": null,
      "_view_module": "@jupyter-widgets/base",
      "_view_module_version": "1.2.0",
      "_view_name": "LayoutView",
      "align_content": null,
      "align_items": null,
      "align_self": null,
      "border": null,
      "bottom": null,
      "display": null,
      "flex": null,
      "flex_flow": null,
      "grid_area": null,
      "grid_auto_columns": null,
      "grid_auto_flow": null,
      "grid_auto_rows": null,
      "grid_column": null,
      "grid_gap": null,
      "grid_row": null,
      "grid_template_areas": null,
      "grid_template_columns": null,
      "grid_template_rows": null,
      "height": null,
      "justify_content": null,
      "justify_items": null,
      "left": null,
      "margin": null,
      "max_height": null,
      "max_width": null,
      "min_height": null,
      "min_width": null,
      "object_fit": null,
      "object_position": null,
      "order": null,
      "overflow": null,
      "overflow_x": null,
      "overflow_y": null,
      "padding": null,
      "right": null,
      "top": null,
      "visibility": null,
      "width": null
     }
    },
    "8750cbb2e65c44bea609c9e965174752": {
     "model_module": "@jupyter-widgets/base",
     "model_name": "LayoutModel",
     "state": {
      "_model_module": "@jupyter-widgets/base",
      "_model_module_version": "1.2.0",
      "_model_name": "LayoutModel",
      "_view_count": null,
      "_view_module": "@jupyter-widgets/base",
      "_view_module_version": "1.2.0",
      "_view_name": "LayoutView",
      "align_content": null,
      "align_items": null,
      "align_self": null,
      "border": null,
      "bottom": null,
      "display": null,
      "flex": null,
      "flex_flow": null,
      "grid_area": null,
      "grid_auto_columns": null,
      "grid_auto_flow": null,
      "grid_auto_rows": null,
      "grid_column": null,
      "grid_gap": null,
      "grid_row": null,
      "grid_template_areas": null,
      "grid_template_columns": null,
      "grid_template_rows": null,
      "height": null,
      "justify_content": null,
      "justify_items": null,
      "left": null,
      "margin": null,
      "max_height": null,
      "max_width": null,
      "min_height": null,
      "min_width": null,
      "object_fit": null,
      "object_position": null,
      "order": null,
      "overflow": null,
      "overflow_x": null,
      "overflow_y": null,
      "padding": null,
      "right": null,
      "top": null,
      "visibility": null,
      "width": null
     }
    },
    "8c7fe12bbe67492b8de1569e1db852ec": {
     "model_module": "@jupyter-widgets/controls",
     "model_name": "HTMLModel",
     "state": {
      "_dom_classes": [],
      "_model_module": "@jupyter-widgets/controls",
      "_model_module_version": "1.5.0",
      "_model_name": "HTMLModel",
      "_view_count": null,
      "_view_module": "@jupyter-widgets/controls",
      "_view_module_version": "1.5.0",
      "_view_name": "HTMLView",
      "description": "",
      "description_tooltip": null,
      "layout": "IPY_MODEL_aad43136ea74473c845039a35c8b2249",
      "placeholder": "​",
      "style": "IPY_MODEL_bae5ed8fc70a4df598be89d14c3473d8",
      "value": " 9920512/? [00:07&lt;00:00, 1271918.60it/s]"
     }
    },
    "92d479d228924b92a84e3da835e5ce3f": {
     "model_module": "@jupyter-widgets/base",
     "model_name": "LayoutModel",
     "state": {
      "_model_module": "@jupyter-widgets/base",
      "_model_module_version": "1.2.0",
      "_model_name": "LayoutModel",
      "_view_count": null,
      "_view_module": "@jupyter-widgets/base",
      "_view_module_version": "1.2.0",
      "_view_name": "LayoutView",
      "align_content": null,
      "align_items": null,
      "align_self": null,
      "border": null,
      "bottom": null,
      "display": null,
      "flex": null,
      "flex_flow": null,
      "grid_area": null,
      "grid_auto_columns": null,
      "grid_auto_flow": null,
      "grid_auto_rows": null,
      "grid_column": null,
      "grid_gap": null,
      "grid_row": null,
      "grid_template_areas": null,
      "grid_template_columns": null,
      "grid_template_rows": null,
      "height": null,
      "justify_content": null,
      "justify_items": null,
      "left": null,
      "margin": null,
      "max_height": null,
      "max_width": null,
      "min_height": null,
      "min_width": null,
      "object_fit": null,
      "object_position": null,
      "order": null,
      "overflow": null,
      "overflow_x": null,
      "overflow_y": null,
      "padding": null,
      "right": null,
      "top": null,
      "visibility": null,
      "width": null
     }
    },
    "97561c9d627a4cdc9ea0b7052723df96": {
     "model_module": "@jupyter-widgets/base",
     "model_name": "LayoutModel",
     "state": {
      "_model_module": "@jupyter-widgets/base",
      "_model_module_version": "1.2.0",
      "_model_name": "LayoutModel",
      "_view_count": null,
      "_view_module": "@jupyter-widgets/base",
      "_view_module_version": "1.2.0",
      "_view_name": "LayoutView",
      "align_content": null,
      "align_items": null,
      "align_self": null,
      "border": null,
      "bottom": null,
      "display": null,
      "flex": null,
      "flex_flow": null,
      "grid_area": null,
      "grid_auto_columns": null,
      "grid_auto_flow": null,
      "grid_auto_rows": null,
      "grid_column": null,
      "grid_gap": null,
      "grid_row": null,
      "grid_template_areas": null,
      "grid_template_columns": null,
      "grid_template_rows": null,
      "height": null,
      "justify_content": null,
      "justify_items": null,
      "left": null,
      "margin": null,
      "max_height": null,
      "max_width": null,
      "min_height": null,
      "min_width": null,
      "object_fit": null,
      "object_position": null,
      "order": null,
      "overflow": null,
      "overflow_x": null,
      "overflow_y": null,
      "padding": null,
      "right": null,
      "top": null,
      "visibility": null,
      "width": null
     }
    },
    "979c69278eea458a987ec0a531dae9bf": {
     "model_module": "@jupyter-widgets/controls",
     "model_name": "ProgressStyleModel",
     "state": {
      "_model_module": "@jupyter-widgets/controls",
      "_model_module_version": "1.5.0",
      "_model_name": "ProgressStyleModel",
      "_view_count": null,
      "_view_module": "@jupyter-widgets/base",
      "_view_module_version": "1.2.0",
      "_view_name": "StyleView",
      "bar_color": null,
      "description_width": "initial"
     }
    },
    "a5b40e19d4424a4eb8a12ae6c638d901": {
     "model_module": "@jupyter-widgets/base",
     "model_name": "LayoutModel",
     "state": {
      "_model_module": "@jupyter-widgets/base",
      "_model_module_version": "1.2.0",
      "_model_name": "LayoutModel",
      "_view_count": null,
      "_view_module": "@jupyter-widgets/base",
      "_view_module_version": "1.2.0",
      "_view_name": "LayoutView",
      "align_content": null,
      "align_items": null,
      "align_self": null,
      "border": null,
      "bottom": null,
      "display": null,
      "flex": null,
      "flex_flow": null,
      "grid_area": null,
      "grid_auto_columns": null,
      "grid_auto_flow": null,
      "grid_auto_rows": null,
      "grid_column": null,
      "grid_gap": null,
      "grid_row": null,
      "grid_template_areas": null,
      "grid_template_columns": null,
      "grid_template_rows": null,
      "height": null,
      "justify_content": null,
      "justify_items": null,
      "left": null,
      "margin": null,
      "max_height": null,
      "max_width": null,
      "min_height": null,
      "min_width": null,
      "object_fit": null,
      "object_position": null,
      "order": null,
      "overflow": null,
      "overflow_x": null,
      "overflow_y": null,
      "padding": null,
      "right": null,
      "top": null,
      "visibility": null,
      "width": null
     }
    },
    "aad43136ea74473c845039a35c8b2249": {
     "model_module": "@jupyter-widgets/base",
     "model_name": "LayoutModel",
     "state": {
      "_model_module": "@jupyter-widgets/base",
      "_model_module_version": "1.2.0",
      "_model_name": "LayoutModel",
      "_view_count": null,
      "_view_module": "@jupyter-widgets/base",
      "_view_module_version": "1.2.0",
      "_view_name": "LayoutView",
      "align_content": null,
      "align_items": null,
      "align_self": null,
      "border": null,
      "bottom": null,
      "display": null,
      "flex": null,
      "flex_flow": null,
      "grid_area": null,
      "grid_auto_columns": null,
      "grid_auto_flow": null,
      "grid_auto_rows": null,
      "grid_column": null,
      "grid_gap": null,
      "grid_row": null,
      "grid_template_areas": null,
      "grid_template_columns": null,
      "grid_template_rows": null,
      "height": null,
      "justify_content": null,
      "justify_items": null,
      "left": null,
      "margin": null,
      "max_height": null,
      "max_width": null,
      "min_height": null,
      "min_width": null,
      "object_fit": null,
      "object_position": null,
      "order": null,
      "overflow": null,
      "overflow_x": null,
      "overflow_y": null,
      "padding": null,
      "right": null,
      "top": null,
      "visibility": null,
      "width": null
     }
    },
    "bae5ed8fc70a4df598be89d14c3473d8": {
     "model_module": "@jupyter-widgets/controls",
     "model_name": "DescriptionStyleModel",
     "state": {
      "_model_module": "@jupyter-widgets/controls",
      "_model_module_version": "1.5.0",
      "_model_name": "DescriptionStyleModel",
      "_view_count": null,
      "_view_module": "@jupyter-widgets/base",
      "_view_module_version": "1.2.0",
      "_view_name": "StyleView",
      "description_width": ""
     }
    },
    "bfd7bb72baf744949bb1ece00a9e69e8": {
     "model_module": "@jupyter-widgets/base",
     "model_name": "LayoutModel",
     "state": {
      "_model_module": "@jupyter-widgets/base",
      "_model_module_version": "1.2.0",
      "_model_name": "LayoutModel",
      "_view_count": null,
      "_view_module": "@jupyter-widgets/base",
      "_view_module_version": "1.2.0",
      "_view_name": "LayoutView",
      "align_content": null,
      "align_items": null,
      "align_self": null,
      "border": null,
      "bottom": null,
      "display": null,
      "flex": null,
      "flex_flow": null,
      "grid_area": null,
      "grid_auto_columns": null,
      "grid_auto_flow": null,
      "grid_auto_rows": null,
      "grid_column": null,
      "grid_gap": null,
      "grid_row": null,
      "grid_template_areas": null,
      "grid_template_columns": null,
      "grid_template_rows": null,
      "height": null,
      "justify_content": null,
      "justify_items": null,
      "left": null,
      "margin": null,
      "max_height": null,
      "max_width": null,
      "min_height": null,
      "min_width": null,
      "object_fit": null,
      "object_position": null,
      "order": null,
      "overflow": null,
      "overflow_x": null,
      "overflow_y": null,
      "padding": null,
      "right": null,
      "top": null,
      "visibility": null,
      "width": null
     }
    },
    "dbb12da6d450410abb59518302b3e28b": {
     "model_module": "@jupyter-widgets/controls",
     "model_name": "HTMLModel",
     "state": {
      "_dom_classes": [],
      "_model_module": "@jupyter-widgets/controls",
      "_model_module_version": "1.5.0",
      "_model_name": "HTMLModel",
      "_view_count": null,
      "_view_module": "@jupyter-widgets/controls",
      "_view_module_version": "1.5.0",
      "_view_name": "HTMLView",
      "description": "",
      "description_tooltip": null,
      "layout": "IPY_MODEL_97561c9d627a4cdc9ea0b7052723df96",
      "placeholder": "​",
      "style": "IPY_MODEL_5aee6be5fdcf49909ffbea03105d370a",
      "value": " 32768/? [00:06&lt;00:00, 4772.21it/s]"
     }
    },
    "dbd749d766794c9385108c8c395705fe": {
     "model_module": "@jupyter-widgets/base",
     "model_name": "LayoutModel",
     "state": {
      "_model_module": "@jupyter-widgets/base",
      "_model_module_version": "1.2.0",
      "_model_name": "LayoutModel",
      "_view_count": null,
      "_view_module": "@jupyter-widgets/base",
      "_view_module_version": "1.2.0",
      "_view_name": "LayoutView",
      "align_content": null,
      "align_items": null,
      "align_self": null,
      "border": null,
      "bottom": null,
      "display": null,
      "flex": null,
      "flex_flow": null,
      "grid_area": null,
      "grid_auto_columns": null,
      "grid_auto_flow": null,
      "grid_auto_rows": null,
      "grid_column": null,
      "grid_gap": null,
      "grid_row": null,
      "grid_template_areas": null,
      "grid_template_columns": null,
      "grid_template_rows": null,
      "height": null,
      "justify_content": null,
      "justify_items": null,
      "left": null,
      "margin": null,
      "max_height": null,
      "max_width": null,
      "min_height": null,
      "min_width": null,
      "object_fit": null,
      "object_position": null,
      "order": null,
      "overflow": null,
      "overflow_x": null,
      "overflow_y": null,
      "padding": null,
      "right": null,
      "top": null,
      "visibility": null,
      "width": null
     }
    },
    "dbee07d53a7643469574b49d7b51e1cc": {
     "model_module": "@jupyter-widgets/controls",
     "model_name": "HBoxModel",
     "state": {
      "_dom_classes": [],
      "_model_module": "@jupyter-widgets/controls",
      "_model_module_version": "1.5.0",
      "_model_name": "HBoxModel",
      "_view_count": null,
      "_view_module": "@jupyter-widgets/controls",
      "_view_module_version": "1.5.0",
      "_view_name": "HBoxView",
      "box_style": "",
      "children": [
       "IPY_MODEL_3e527a71a4504f3cbc0068f8cb8fa6aa",
       "IPY_MODEL_52bcd0c3af3e4421ad93db94c654e1bb"
      ],
      "layout": "IPY_MODEL_bfd7bb72baf744949bb1ece00a9e69e8"
     }
    },
    "ecda9b22ac784313890d83d896921243": {
     "model_module": "@jupyter-widgets/controls",
     "model_name": "ProgressStyleModel",
     "state": {
      "_model_module": "@jupyter-widgets/controls",
      "_model_module_version": "1.5.0",
      "_model_name": "ProgressStyleModel",
      "_view_count": null,
      "_view_module": "@jupyter-widgets/base",
      "_view_module_version": "1.2.0",
      "_view_name": "StyleView",
      "bar_color": null,
      "description_width": "initial"
     }
    },
    "f086b2b0583d4f8984b98e48de2118bf": {
     "model_module": "@jupyter-widgets/controls",
     "model_name": "FloatProgressModel",
     "state": {
      "_dom_classes": [],
      "_model_module": "@jupyter-widgets/controls",
      "_model_module_version": "1.5.0",
      "_model_name": "FloatProgressModel",
      "_view_count": null,
      "_view_module": "@jupyter-widgets/controls",
      "_view_module_version": "1.5.0",
      "_view_name": "ProgressView",
      "bar_style": "success",
      "description": "",
      "description_tooltip": null,
      "layout": "IPY_MODEL_133c3f8995ee4e7084b718e720d136c6",
      "max": 1,
      "min": 0,
      "orientation": "horizontal",
      "style": "IPY_MODEL_f56d661bdb34417490844c1a93e5cae1",
      "value": 1
     }
    },
    "f56d661bdb34417490844c1a93e5cae1": {
     "model_module": "@jupyter-widgets/controls",
     "model_name": "ProgressStyleModel",
     "state": {
      "_model_module": "@jupyter-widgets/controls",
      "_model_module_version": "1.5.0",
      "_model_name": "ProgressStyleModel",
      "_view_count": null,
      "_view_module": "@jupyter-widgets/base",
      "_view_module_version": "1.2.0",
      "_view_name": "StyleView",
      "bar_color": null,
      "description_width": "initial"
     }
    }
   }
  }
 },
 "nbformat": 4,
 "nbformat_minor": 1
}
