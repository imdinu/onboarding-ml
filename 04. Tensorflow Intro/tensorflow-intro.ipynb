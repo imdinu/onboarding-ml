{
 "cells": [
  {
   "cell_type": "markdown",
   "metadata": {
    "colab_type": "text",
    "id": "hPwhujdjo3k5"
   },
   "source": [
    "# Starting with Tensorflow\n",
    "\n",
    "![img](https://www.gstatic.com/devrel-devsite/prod/v870be6fb6841f3532cd3aec5bc0b3146031642f2794ae8ba7f51ebf843a655f9/tensorflow/images/lockup.svg)\n",
    "\n",
    "[TensorFlow](https://www.tensorflow.org/) and [PyTrorch](http://pytorch.org/) are two of the most commonly used deep learning frameworks. Both of these tools are notable for their ability to compute gradients automatically and do operations on GPU, which can be by orders of magnitude faster than running on CPU. Both libraries serve the same purpose, choosing between them is a matter of preference.\n",
    "\n",
    "In this tutorial, we'll use Tensorflow for our practical examples.\n",
    "\n",
    "We'll start from using the low-level core of Tensorflow, and then try out some high-level features."
   ]
  },
  {
   "cell_type": "code",
   "execution_count": 1,
   "metadata": {
    "colab": {
     "base_uri": "https://localhost:8080/",
     "height": 34
    },
    "colab_type": "code",
    "id": "NNrNWnHdo3k_",
    "outputId": "ce52175d-6386-41bd-d65a-205375841398"
   },
   "outputs": [
    {
     "name": "stdout",
     "output_type": "stream",
     "text": [
      "2.7.0\n"
     ]
    }
   ],
   "source": [
    "import numpy as np\n",
    "import tensorflow as tf\n",
    "print(tf.__version__)"
   ]
  },
  {
   "cell_type": "code",
   "execution_count": 2,
   "metadata": {
    "colab": {
     "base_uri": "https://localhost:8080/",
     "height": 408
    },
    "colab_type": "code",
    "id": "IxA0RQjgo3lD",
    "outputId": "cd849181-54ed-4d80-ffc3-e92bc85acf91"
   },
   "outputs": [
    {
     "name": "stdout",
     "output_type": "stream",
     "text": [
      "X :\n",
      "[[ 0  1  2  3]\n",
      " [ 4  5  6  7]\n",
      " [ 8  9 10 11]\n",
      " [12 13 14 15]]\n",
      "X.shape : (4, 4)\n",
      "add 5 :\n",
      "[[ 5  6  7  8]\n",
      " [ 9 10 11 12]\n",
      " [13 14 15 16]\n",
      " [17 18 19 20]]\n",
      "X*X^T :\n",
      "[[ 14  38  62  86]\n",
      " [ 38 126 214 302]\n",
      " [ 62 214 366 518]\n",
      " [ 86 302 518 734]]\n",
      "mean over rows :\n",
      "[ 1.5  5.5  9.5 13.5]\n",
      "cumsum of cols :\n",
      "[[ 0  1  2  3]\n",
      " [ 4  6  8 10]\n",
      " [12 15 18 21]\n",
      " [24 28 32 36]]\n"
     ]
    }
   ],
   "source": [
    "# numpy world\n",
    "\n",
    "x = np.arange(16).reshape(4, 4)\n",
    "\n",
    "print(f\"X :\\n{             x}\")\n",
    "print(f\"X.shape : {        x.shape}\")\n",
    "print(f\"add 5 :\\n{         x + 5}\")\n",
    "print(f\"X*X^T :\\n{         x @ x.T}\")\n",
    "print(f\"mean over rows :\\n{x.mean(axis=-1)}\")\n",
    "print(f\"cumsum of cols :\\n{x.cumsum(axis=0)}\")"
   ]
  },
  {
   "cell_type": "code",
   "execution_count": 3,
   "metadata": {
    "colab": {
     "base_uri": "https://localhost:8080/",
     "height": 408
    },
    "colab_type": "code",
    "id": "IHeXkB2uo3lG",
    "outputId": "19022824-0899-434e-ef8c-8a7075d60514"
   },
   "outputs": [
    {
     "name": "stdout",
     "output_type": "stream",
     "text": [
      "X :\n",
      "[[ 0.  1.  2.  3.]\n",
      " [ 4.  5.  6.  7.]\n",
      " [ 8.  9. 10. 11.]\n",
      " [12. 13. 14. 15.]]\n",
      "X.shape : (4, 4)\n",
      "add 5 :\n",
      "[[ 5.  6.  7.  8.]\n",
      " [ 9. 10. 11. 12.]\n",
      " [13. 14. 15. 16.]\n",
      " [17. 18. 19. 20.]]\n",
      "X*X^T :\n",
      "[[ 14.  38.  62.  86.]\n",
      " [ 38. 126. 214. 302.]\n",
      " [ 62. 214. 366. 518.]\n",
      " [ 86. 302. 518. 734.]]\n",
      "mean over rows :\n",
      "[ 1.5  5.5  9.5 13.5]\n",
      "cumsum of cols :\n",
      "[[ 0.  1.  2.  3.]\n",
      " [ 4.  6.  8. 10.]\n",
      " [12. 15. 18. 21.]\n",
      " [24. 28. 32. 36.]]\n"
     ]
    }
   ],
   "source": [
    "# tensorflow world\n",
    "\n",
    "x = np.arange(16).reshape(4, 4)\n",
    "\n",
    "x = tf.constant(x, dtype=tf.float32) \n",
    "\n",
    "print(f\"X :\\n{             x}\")\n",
    "print(f\"X.shape : {        x.shape}\")\n",
    "print(f\"add 5 :\\n{         x + 5}\")\n",
    "print(f\"X*X^T :\\n{         x @ tf.transpose(x)}\")\n",
    "print(f\"mean over rows :\\n{tf.math.reduce_mean(x, axis=-1)}\")\n",
    "print(f\"cumsum of cols :\\n{tf.math.cumsum(x, axis=0)}\")"
   ]
  },
  {
   "cell_type": "markdown",
   "metadata": {
    "colab_type": "text",
    "id": "2ilWmbfho3lJ"
   },
   "source": [
    "## NumPy and Tensorflow\n",
    "\n",
    "As you can notice, tensorflow allows you to hack achieve the same numpy functionality, be it somewhat different in terms of syntax. There is an experimental feature offering exact numpy interoperability [to some extent](https://www.tensorflow.org/guide/tf_numpy#tensorflow_interoperability), but for now we'll stick with what the core `tensorflow` and `tf.math` is offering.\n",
    "\n",
    "Note that you may easily convert tensors back to numpy:"
   ]
  },
  {
   "cell_type": "code",
   "execution_count": 4,
   "metadata": {
    "colab": {
     "base_uri": "https://localhost:8080/",
     "height": 181
    },
    "colab_type": "code",
    "id": "ceofy-Ai8nlE",
    "outputId": "eb06663b-3d0b-4b08-bd40-b2da50c603e5"
   },
   "outputs": [
    {
     "data": {
      "text/plain": [
       "2.0"
      ]
     },
     "execution_count": 4,
     "metadata": {},
     "output_type": "execute_result"
    }
   ],
   "source": [
    "x = tf.range(5, dtype=tf.float32)\n",
    "tf.reduce_mean(x).numpy()"
   ]
  },
  {
   "cell_type": "markdown",
   "metadata": {},
   "source": [
    "Tensor operations are subject to type checking, but conversion is not handled automatically. Try to fix the following cell so it does not trow any `TypeError`"
   ]
  },
  {
   "cell_type": "code",
   "execution_count": 5,
   "metadata": {
    "colab": {},
    "colab_type": "code",
    "id": "vBl7ltC1ey8N"
   },
   "outputs": [
    {
     "name": "stdout",
     "output_type": "stream",
     "text": [
      "tf.Tensor([0.5 1. ], shape=(2,), dtype=float32)\n"
     ]
    }
   ],
   "source": [
    "x = tf.constant([1, 2], dtype=tf.float32)\n",
    "x /= 2.0\n",
    "print(x)"
   ]
  },
  {
   "cell_type": "markdown",
   "metadata": {
    "colab_type": "text",
    "id": "ZsoiU8soo3lJ"
   },
   "source": [
    "## Warmup: trigonometric knotwork\n",
    "\n",
    "There are some simple mathematical functions with cool plots. For one, consider this:\n",
    "\n",
    "$$ x(t) = t - 1.5 * cos( 15 t) $$\n",
    "$$ y(t) = t - 1.5 * sin( 16 t) $$\n",
    "\n",
    "You have `tf.math.cos` and `tf.math.sin` at your disposal 😉"
   ]
  },
  {
   "cell_type": "code",
   "execution_count": 6,
   "metadata": {
    "colab": {
     "base_uri": "https://localhost:8080/",
     "height": 265
    },
    "colab_type": "code",
    "deletable": false,
    "id": "idIzhABXo3lK",
    "nbgrader": {
     "cell_type": "code",
     "checksum": "78770e3703fb53c4907d605fb7202d33",
     "grade": false,
     "grade_id": "cell-f25d51ba383f981a",
     "locked": false,
     "schema_version": 3,
     "solution": true,
     "task": false
    },
    "outputId": "cf83a67d-845e-480c-bdaa-ba0a2ff9cd7f"
   },
   "outputs": [
    {
     "data": {
      "image/png": "[encoded data removed]",
      "text/plain": [
       "<Figure size 432x288 with 1 Axes>"
      ]
     },
     "metadata": {
      "needs_background": "light"
     },
     "output_type": "display_data"
    }
   ],
   "source": [
    "import matplotlib.pyplot as plt\n",
    "\n",
    "t = tf.linspace(-10, 10, 10000)\n",
    "\n",
    "x = t - 1.5 * tf.math.cos(15 * t)\n",
    "y = t - 1.5 * tf.math.sin(16 * t)\n",
    "\n",
    "plt.plot(x.numpy(), y.numpy())\n",
    "plt.show()"
   ]
  },
  {
   "cell_type": "code",
   "execution_count": 7,
   "metadata": {
    "colab": {},
    "colab_type": "code",
    "deletable": false,
    "editable": false,
    "id": "Fue83PKCAq2O",
    "nbgrader": {
     "cell_type": "code",
     "checksum": "0dad6fd35668785873e27303607d28ff",
     "grade": true,
     "grade_id": "LowLevelPyTorch",
     "locked": true,
     "points": 1,
     "schema_version": 3,
     "solution": false,
     "task": false
    }
   },
   "outputs": [],
   "source": [
    "assert np.isclose(x[42].numpy(), -9.2157)\n",
    "assert np.isclose(y[1990].numpy(), -4.6997)\n"
   ]
  },
  {
   "cell_type": "markdown",
   "metadata": {
    "colab_type": "text",
    "id": "Frw3xwP6o3lN"
   },
   "source": [
    "--------"
   ]
  },
  {
   "cell_type": "markdown",
   "metadata": {
    "colab_type": "text",
    "id": "REoFWIZDo3lO"
   },
   "source": [
    "## Automatic gradients\n",
    "\n",
    "Any self-respecting DL framework must do your *backprop* for you. Tensorflow handles this with the `tf.GradientTape` API. This means computing the gradient of a computation with respect to some inputs, usually tf.Variables. TensorFlow \"records\" relevant operations executed inside the context of a `tf.GradientTape` onto a \"tape\". TensorFlow then uses that tape to compute the gradients of a \"recorded\" computation using reverse mode differentiation.\n",
    "\n",
    "The general pipeline looks like this:\n",
    "* When creating a tensor, you define it either as `tf.Tensor` if you don't want it to propagate gradients or `tf.Variable` otherwise:\n",
    "    * __```tf.zeros(5)```__\n",
    "    * __```tf.Variable(np.arange(5), dtype=tf.float32)```__\n",
    "* Define some differentiable `y = arbitrary_function(x)` inside the `tf.GradientTape` context\n",
    "* Gradients are now available through `GradientTape.gradient(target, sources)`\n",
    "\n",
    "You may read the [official guide](https://www.tensorflow.org/guide/autodiff) for more detailed explanations."
   ]
  },
  {
   "cell_type": "code",
   "execution_count": 8,
   "metadata": {
    "colab": {
     "base_uri": "https://localhost:8080/",
     "height": 34
    },
    "colab_type": "code",
    "id": "gwcTNRj-NXUi",
    "outputId": "808477da-3ce9-414a-f122-d38f3aeb5234"
   },
   "outputs": [
    {
     "name": "stdout",
     "output_type": "stream",
     "text": [
      "sin'(0) = 1.0\n"
     ]
    }
   ],
   "source": [
    "x = tf.Variable(0.)\n",
    "\n",
    "with tf.GradientTape() as tape:\n",
    "    y = tf.math.sin(x)\n",
    "    \n",
    "dy_dx = tape.gradient(y, x)\n",
    "print(f\"sin'(0) = {dy_dx.numpy()}\")"
   ]
  },
  {
   "cell_type": "markdown",
   "metadata": {},
   "source": [
    "Your turn:"
   ]
  },
  {
   "cell_type": "code",
   "execution_count": 9,
   "metadata": {
    "colab": {
     "base_uri": "https://localhost:8080/",
     "height": 51
    },
    "colab_type": "code",
    "id": "T8d1DXhwo3lS",
    "outputId": "49f3bbca-cc97-4c49-a7cb-78613eb53b01"
   },
   "outputs": [
    {
     "name": "stdout",
     "output_type": "stream",
     "text": [
      "Checking autograd result equals to analytical derivative.\n",
      "    Correct Result: True\n"
     ]
    }
   ],
   "source": [
    "def MSELoss(y, yhat):\n",
    "    \"\"\"Mean Squared Error\"\"\"\n",
    "    return tf.reduce_mean((y - yhat)**2)\n",
    "\n",
    "# initialize our target `y` and our \"prediction\" `yhat`\n",
    "y = tf.random.normal([100], 0, 1, tf.float32)\n",
    "yhat = tf.Variable(tf.random.normal([100], 0, 1, tf.float32))\n",
    "\n",
    "# Calculate the mean squared error\n",
    "with tf.GradientTape() as tape:\n",
    "    loss = MSELoss(y, yhat) \n",
    "\n",
    "# Calculate the gradient of loss w.r.t yhat\n",
    "dy_dx = tape.gradient(loss, yhat)\n",
    "\n",
    "print(\"Checking autograd result equals to analytical derivative.\")\n",
    "print(\"    Correct Result:\", np.all(np.isclose(dy_dx.numpy(), 2 * (yhat - y) / y.shape[0])))"
   ]
  },
  {
   "cell_type": "markdown",
   "metadata": {
    "colab_type": "text",
    "id": "Flu0aZH2PAOz"
   },
   "source": [
    "### Learning to solve problems with gradients\n",
    "\n",
    "We can use the gradient of our loss function to find the parameters corresponding to its minima, this is the basis of most Machine Learning algorithms.\n",
    "\n",
    "Let's try to solve the following simple equation as an example\n",
    "\n",
    " $$ x^3 + 2x - 6 = 0 $$\n",
    "\n",
    "The necessary steps are:\n",
    "1. Define equation, variables and a *loss function*:\n",
    "\n",
    "   In our case the loss function will be the Mean Squared Error as defined bellow. This will quantify how far is our prediction from the solution of the equation $$\\mathcal{L}{oss} = \\text{MSE}(y_\\text{pred}, y_\\text{true}) = ||y_\\text{pred} - y_\\text{true}||^2$$ \n",
    "   Where:\n",
    "   - $y_\\text{true} = 0$\n",
    "   - $y_\\text{pred} = x_\\text{pred}^3 + 2x_\\text{pred} - 6$\n",
    "   - $x_\\text{pred}$ is the solution we are checking, starting with $x_\\text{pred} = 1$\n",
    "2. Calculate $y_\\text{pred}$ for the current value of $x_\\text{pred}$ and then calculate the $\\text{MSE}$ loss\n",
    "3. Calculate the gradient; this is done by ` tf.GradientTape()` automatically $$\\nabla\\mathcal{L} = \\frac{\\partial \\mathcal{L}{oss}}{\\partial x_\\text{pred}} = \\frac{\\partial \\mathcal{L}{oss}}{\\partial y_\\text{pred}} \\frac{\\partial y_\\text{pred}}{\\partial x_\\text{pred}}$$\n",
    "4. Use $\\nabla\\mathcal{L}$ to find a better $x_\\text{pred}$. This step usually involves a scalar hyperparameter called the *learning rate* and denoted $\\eta$. \n",
    "   $$ x_\\text{pred}^{(i+1)} = x_\\text{pred}^{(i)} - \\eta \\nabla\\mathcal{L}^{(i)}$$\n",
    "5. We repeat this $n=$ `N_STEPS` times, iterating over the gradient-based optimization process, saving the $\\text{MSE}$ and $x_\\text{pred}$ after each step. Thus $i=\\overline{1,n}$\n",
    "   \n",
    "___\n",
    "#### Additional Notes: \n",
    "For some initial values of $x_\\text{pred}$ the optimization process might diverge (like $x_\\text{pred}=5$). Since the change in $x_\\text{pred}$ is proportional to the gradient of the loss function, if the absolute value of this gradient is very large, $|x_\\text{pred}|$ will get larger as well, diverging towards infinity with each step. This issue is called **exploding gradient**. You may avoid this by making the $\\eta$ parameter smaller, but this will require more steps to converge.\n",
    "\n",
    "After running the cell once, experiment with different `lr` and `N_STEPS` in order to converge to the solution when starting from $x_\\text{pred}=5$."
   ]
  },
  {
   "cell_type": "code",
   "execution_count": 10,
   "metadata": {},
   "outputs": [
    {
     "data": {
      "image/png": "[encoded data removed]",
      "text/plain": [
       "<Figure size 864x288 with 2 Axes>"
      ]
     },
     "metadata": {
      "needs_background": "light"
     },
     "output_type": "display_data"
    }
   ],
   "source": [
    "def equation(x):\n",
    "    return x**3 + 2*x - 6\n",
    "\n",
    "def MSELoss(y_pred, y_true):\n",
    "    \"\"\"Mean Squared Error\"\"\"\n",
    "    return (y_pred - y_true)**2\n",
    "\n",
    "# Define our variables\n",
    "x = tf.Variable(5.0)\n",
    "y_true = tf.constant(0.)\n",
    "\n",
    "# Optimization hyperparameters\n",
    "lr = 0.0001\n",
    "N_STEPS = 1000\n",
    "\n",
    "# Lists for intermediate result\n",
    "losses = []\n",
    "partial_res = []\n",
    "\n",
    "for _ in range(N_STEPS):\n",
    "    with tf.GradientTape() as tape:\n",
    "        # reinitialize computational graph\n",
    "        tape.watch(x) # necessary when looping\n",
    "\n",
    "        # compute prediction and loss value\n",
    "        y_pred = equation(x)\n",
    "        loss = MSELoss(y_pred, y_true)\n",
    "    \n",
    "    # save loss and intermediary `x`\n",
    "    losses.append(loss.numpy())\n",
    "    partial_res.append(x.numpy())\n",
    "\n",
    "    # get gradient and update `x`\n",
    "    grad = tape.gradient(loss, x)\n",
    "    x = x - lr*grad\n",
    "\n",
    "\n",
    "steps = np.arange(N_STEPS)\n",
    "error = np.array(partial_res) - 1.45616424613591\n",
    "plt.figure(figsize=(12,4))\n",
    "plt.tight_layout()\n",
    "plt.subplot(1,2,1)\n",
    "plt.plot(steps, losses)\n",
    "plt.yscale(\"log\")\n",
    "plt.xlabel(\"Step\")\n",
    "plt.ylabel(\"Loss\")\n",
    "plt.subplot(1,2,2)\n",
    "plt.plot(steps, error)\n",
    "plt.xlabel(\"Step\")\n",
    "plt.ylabel(\"$x_{pred}$ Absolute Error\")\n",
    "plt.show()"
   ]
  },
  {
   "cell_type": "markdown",
   "metadata": {},
   "source": [
    "## Homework\n",
    "\n",
    "Fit a linear model on the following dataset. The linear model definition and loss function are already provided. Your task is to find `a` and `b` which minimizes the loss function on the training set."
   ]
  },
  {
   "cell_type": "code",
   "execution_count": 11,
   "metadata": {},
   "outputs": [],
   "source": [
    "def linear_model(x, a, b):\n",
    "    return a*x + b \n",
    "\n",
    "def reduce_MSE (y_pred, y_true):\n",
    "    return tf.reduce_mean((y_pred- y_true)**2)"
   ]
  },
  {
   "cell_type": "code",
   "execution_count": 12,
   "metadata": {},
   "outputs": [
    {
     "data": {
      "image/png": "[encoded data removed]",
      "text/plain": [
       "<Figure size 432x288 with 1 Axes>"
      ]
     },
     "metadata": {
      "needs_background": "light"
     },
     "output_type": "display_data"
    }
   ],
   "source": [
    "x_train = np.arange(30)\n",
    "y_train = 0.2*np.arange(30) + np.random.normal(0, 0.75, 30) - 1\n",
    "\n",
    "plt.scatter(x_train, y_train);"
   ]
  },
  {
   "cell_type": "markdown",
   "metadata": {},
   "source": [
    "Implement the linear model fit here:"
   ]
  },
  {
   "cell_type": "code",
   "execution_count": 13,
   "metadata": {},
   "outputs": [],
   "source": [
    "# Define our variables\n",
    "a = tf.Variable(1.0)\n",
    "b = tf.Variable(0.0)\n",
    "\n",
    "# Optimization hyperparameters\n",
    "lr = 0.0005\n",
    "N_STEPS = 10000 \n",
    "\n",
    "# Lists for intermediate result\n",
    "losses = []\n",
    "interm_a = []\n",
    "interm_b = []\n",
    "\n",
    "for _ in range(N_STEPS):\n",
    "    # Use persistent to allow getting multiple gradiens\n",
    "    with tf.GradientTape(persistent=True) as tape:\n",
    "        tape.watch(a)\n",
    "        tape.watch(b)\n",
    "        \n",
    "        y_pred = linear_model(x_train, a, b)\n",
    "        loss = reduce_MSE(y_pred, y_train)\n",
    "\n",
    "    # save loss and intermediary `a` and `b`\n",
    "    losses.append(loss.numpy())\n",
    "    interm_b.append(b.numpy())\n",
    "    interm_a.append(a.numpy())\n",
    "\n",
    "    # get gradients and update `a` and `b`\n",
    "    grad_a, grad_b = tape.gradient(loss, (a, b))\n",
    "    a = a - lr*grad_a\n",
    "    b = b - lr*grad_b   \n",
    "    \n"
   ]
  },
  {
   "cell_type": "markdown",
   "metadata": {},
   "source": [
    "###  Visualize fit"
   ]
  },
  {
   "cell_type": "code",
   "execution_count": 14,
   "metadata": {},
   "outputs": [
    {
     "data": {
      "image/png": "[encoded data removed]",
      "text/plain": [
       "<Figure size 1080x360 with 2 Axes>"
      ]
     },
     "metadata": {
      "needs_background": "light"
     },
     "output_type": "display_data"
    }
   ],
   "source": [
    "plt.figure(figsize=(15,5))\n",
    "plt.tight_layout()\n",
    "plt.subplot(1,2,1)\n",
    "plt.scatter(x_train, y_train);\n",
    "plt.plot(x_train, linear_model(x_train, interm_a[-1], interm_b[-1]), color=\"red\", linestyle=\"--\");\n",
    "plt.subplot(1,2,2)\n",
    "steps = np.arange(N_STEPS)\n",
    "plt.plot(steps, losses)\n",
    "plt.xscale(\"log\")\n",
    "plt.yscale(\"log\")\n"
   ]
  },
  {
   "cell_type": "markdown",
   "metadata": {},
   "source": [
    "# Tensorflow optimizers \n",
    "\n",
    "Most of the time you are not going to apply gradients manually. There are `optimizers` int the tensorflow library designed specifically for this task. Checkout [optimizers page](https://www.tensorflow.org/api_docs/python/tf/keras/optimizers) and play around with how each of them affect convergence rate."
   ]
  },
  {
   "cell_type": "code",
   "execution_count": 15,
   "metadata": {},
   "outputs": [],
   "source": [
    "#find the analytical solution using sklearn\n",
    "from sklearn.linear_model import LinearRegression\n",
    "lin_reg = LinearRegression()\n",
    "lin_reg.fit(x_train.reshape((-1, 1)), y_train)\n",
    "\n",
    "#look at the optimal model parameters and its optimal MSE loss\n",
    "true_slope, true_intercept = lin_reg.coef_[0], lin_reg.intercept_\n",
    "min_mse = reduce_MSE(linear_model(x_train, true_slope, true_intercept), y_train).numpy()"
   ]
  },
  {
   "cell_type": "code",
   "execution_count": 16,
   "metadata": {},
   "outputs": [],
   "source": [
    "def draw_scatter(x, y, slope=None, intercept=None, ax=None):\n",
    "    if ax is None:\n",
    "        _,ax = plt.subplots(figsize=(6,5))\n",
    "        \n",
    "    ax.scatter(x, y, label='Sample Points')\n",
    "    ax.set_xlabel('X')\n",
    "    ax.set_ylabel('Y')\n",
    "    ax.set_title('Y vs X')\n",
    "    \n",
    "    xmin = x.min()-0.1*(x.max()-x.min())\n",
    "    xmax = x.max()+0.1*(x.max()-x.min())\n",
    "    ymin = y.min()-0.1*(y.max()-y.min())\n",
    "    ymax = y.max()+0.1*(y.max()-y.min())\n",
    "    ax.set_ylim((xmin, xmax))\n",
    "    ax.set_ylim((ymin, ymax))\n",
    "    ax.set_xmargin(0)\n",
    "    ax.set_ymargin(0)\n",
    "    \n",
    "    if slope is not None and intercept is not None:\n",
    "        ax.plot([xmin,xmax], linear_model(np.array([xmin,xmax]), slope, intercept), 'r-.', label='Fitted line');\n",
    "        y_pred = linear_model(x, slope, intercept)\n",
    "        mse = reduce_MSE(y_pred, y).numpy()\n",
    "        eqn_str = f'a = {slope:.3f} b = {intercept:+.3f}'\n",
    "        ax.set_title(f'Loss: MSE={mse:.4e}\\n{eqn_str}')\n",
    "        \n",
    "    ax.legend(loc='upper left')\n",
    "    return ax\n",
    "\n",
    "def draw_progress(x, y, slope, intercept, losses, n_iter=25, fig=None, axs=None, opt=None):\n",
    "    if fig is None or axs is None:\n",
    "        fig, axs = plt.subplots(1, 2, figsize=(14,5))\n",
    "    if opt:\n",
    "        l = opt._name\n",
    "    else:\n",
    "        l = \"None\"    \n",
    "    fig.suptitle(f'Optimizer: {l}', fontsize=20)        \n",
    "    draw_scatter(x, y, slope, intercept, ax=axs[0])\n",
    "    \n",
    "    # Draw loss-chart.  Hardcode a few more parameters for simplicity\n",
    "    xmin, xmax = 0, n_iter\n",
    "    ymin, ymax = min_mse/10.0, 1000\n",
    "    \n",
    "    axs[1].plot(range(len(losses)), losses, 'b-', label='Computed Loss')\n",
    "    axs[1].plot([xmin, xmax], [min_mse, min_mse], 'g-.', label='Minimum Possible Loss')\n",
    "    axs[1].set_xlim(xmin, xmax)\n",
    "    axs[1].set_ylim(ymin, ymax)\n",
    "    axs[1].set_xlabel('Iteration')\n",
    "    axs[1].set_ylabel('Loss (MSE) (log)')\n",
    "    axs[1].legend(loc='upper right')\n",
    "    #axs[1].set_aspect(xmax/float(ymax))\n",
    "    plt.xscale(\"linear\")\n",
    "    plt.yscale(\"log\")\n",
    "\n",
    "    \n",
    "    axs[1].set_title(f'Min Loss: MSE={min_mse:.4e}\\nSolution: a={true_slope:.3f} b={true_intercept:.3f}')\n",
    "        \n",
    "    return fig, axs"
   ]
  },
  {
   "cell_type": "code",
   "execution_count": 17,
   "metadata": {},
   "outputs": [],
   "source": [
    "losses = []\n",
    "interm_a = []\n",
    "interm_b = []\n",
    "def run_simulation(opt=None, N_STEPS = 1000, lr = 0.001, a_start=1.0, b_start=0.0):\n",
    "    # Define our variables\n",
    "    a = tf.Variable(a_start, dtype=tf.float32)\n",
    "    b = tf.Variable(b_start, dtype=tf.float32)\n",
    "    global losses, interm_a, interm_b\n",
    "\n",
    "    # Lists for intermediate result\n",
    "    losses = []\n",
    "    interm_a = []\n",
    "    interm_b = []\n",
    "\n",
    "    for i in range(N_STEPS):\n",
    "        # Use persistent to allow getting multiple gradiens\n",
    "        with tf.GradientTape(persistent=True) as tape:\n",
    "            tape.watch(a)\n",
    "            tape.watch(b)\n",
    "            y_pred = linear_model(x_train, a, b)\n",
    "            #y_pred = x_train * a + b\n",
    "            loss = reduce_MSE(y_pred, y_train)\n",
    "\n",
    "        # save loss and intermediary `a` and `b`\n",
    "        losses.append(loss.numpy())\n",
    "        interm_b.append(b.numpy())\n",
    "        interm_a.append(a.numpy())\n",
    "\n",
    "        # get gradients and update `a` and `b`\n",
    "        [grad_a, grad_b] = tape.gradient(loss, [a, b])\n",
    "        if opt:\n",
    "            opt.apply_gradients(zip([grad_a, grad_b], [a, b]))\n",
    "        else:\n",
    "            a.assign_sub(lr*grad_a)\n",
    "            b.assign_sub(lr*grad_b)\n",
    "\n",
    "    draw_progress(x_train, y_train, interm_a[-1], interm_b[-1], losses, N_STEPS, opt=opt)"
   ]
  },
  {
   "cell_type": "code",
   "execution_count": 37,
   "metadata": {},
   "outputs": [
    {
     "data": {
      "image/png": "[encoded data removed]",
      "text/plain": [
       "<Figure size 1008x360 with 2 Axes>"
      ]
     },
     "metadata": {
      "needs_background": "light"
     },
     "output_type": "display_data"
    }
   ],
   "source": [
    "run_simulation(N_STEPS=10_000)"
   ]
  },
  {
   "cell_type": "code",
   "execution_count": 40,
   "metadata": {},
   "outputs": [
    {
     "data": {
      "image/png": "[encoded data removed]",
      "text/plain": [
       "<Figure size 1008x360 with 2 Axes>"
      ]
     },
     "metadata": {
      "needs_background": "light"
     },
     "output_type": "display_data"
    }
   ],
   "source": [
    "run_simulation(tf.optimizers.Adadelta(learning_rate=1.0, rho=0.95), N_STEPS=1000, a_start=a, b_start=b)"
   ]
  },
  {
   "cell_type": "code",
   "execution_count": 45,
   "metadata": {},
   "outputs": [
    {
     "data": {
      "image/png": "[encoded data removed]",
      "text/plain": [
       "<Figure size 1008x360 with 2 Axes>"
      ]
     },
     "metadata": {
      "needs_background": "light"
     },
     "output_type": "display_data"
    }
   ],
   "source": [
    "run_simulation(tf.optimizers.Adam(learning_rate=0.5), N_STEPS=1000, a_start=a, b_start=b)"
   ]
  },
  {
   "cell_type": "code",
   "execution_count": 44,
   "metadata": {},
   "outputs": [
    {
     "data": {
      "image/png": "[encoded data removed]",
      "text/plain": [
       "<Figure size 1008x360 with 2 Axes>"
      ]
     },
     "metadata": {
      "needs_background": "light"
     },
     "output_type": "display_data"
    }
   ],
   "source": [
    "run_simulation(tf.optimizers.Adagrad(learning_rate=0.5), N_STEPS=1000, a_start=a, b_start=b)"
   ]
  },
  {
   "cell_type": "code",
   "execution_count": 43,
   "metadata": {},
   "outputs": [
    {
     "data": {
      "image/png": "[encoded data removed]",
      "text/plain": [
       "<Figure size 1008x360 with 2 Axes>"
      ]
     },
     "metadata": {
      "needs_background": "light"
     },
     "output_type": "display_data"
    }
   ],
   "source": [
    "run_simulation(tf.optimizers.Adamax(learning_rate=0.5), N_STEPS=1000, a_start=a, b_start=b)"
   ]
  }
 ],
 "metadata": {
  "accelerator": "GPU",
  "colab": {
   "collapsed_sections": [
    "0Z_dTVxKo3mF",
    "giIUtaJGo3mS"
   ],
   "name": "Pytorch.ipynb",
   "provenance": []
  },
  "kernelspec": {
   "display_name": "Python 3",
   "language": "python",
   "name": "python3"
  },
  "language_info": {
   "codemirror_mode": {
    "name": "ipython",
    "version": 3
   },
   "file_extension": ".py",
   "mimetype": "text/x-python",
   "name": "python",
   "nbconvert_exporter": "python",
   "pygments_lexer": "ipython3",
   "version": "3.9.7"
  },
  "widgets": {
   "application/vnd.jupyter.widget-state+json": {
    "004cd83b7e8b4d3b86352db09efb344d": {
     "model_module": "@jupyter-widgets/controls",
     "model_name": "FloatProgressModel",
     "state": {
      "_dom_classes": [],
      "_model_module": "@jupyter-widgets/controls",
      "_model_module_version": "1.5.0",
      "_model_name": "FloatProgressModel",
      "_view_count": null,
      "_view_module": "@jupyter-widgets/controls",
      "_view_module_version": "1.5.0",
      "_view_name": "ProgressView",
      "bar_style": "success",
      "description": "",
      "description_tooltip": null,
      "layout": "IPY_MODEL_a5b40e19d4424a4eb8a12ae6c638d901",
      "max": 1,
      "min": 0,
      "orientation": "horizontal",
      "style": "IPY_MODEL_979c69278eea458a987ec0a531dae9bf",
      "value": 1
     }
    },
    "02a091b4955f4ab7a334e205abcbc866": {
     "model_module": "@jupyter-widgets/controls",
     "model_name": "DescriptionStyleModel",
     "state": {
      "_model_module": "@jupyter-widgets/controls",
      "_model_module_version": "1.5.0",
      "_model_name": "DescriptionStyleModel",
      "_view_count": null,
      "_view_module": "@jupyter-widgets/base",
      "_view_module_version": "1.2.0",
      "_view_name": "StyleView",
      "description_width": ""
     }
    },
    "09cfd604f9c74d0fbf35273298ad8900": {
     "model_module": "@jupyter-widgets/controls",
     "model_name": "HBoxModel",
     "state": {
      "_dom_classes": [],
      "_model_module": "@jupyter-widgets/controls",
      "_model_module_version": "1.5.0",
      "_model_name": "HBoxModel",
      "_view_count": null,
      "_view_module": "@jupyter-widgets/controls",
      "_view_module_version": "1.5.0",
      "_view_name": "HBoxView",
      "box_style": "",
      "children": [
       "IPY_MODEL_4ceb532ee9d4424ca297ad2a3d189b8e",
       "IPY_MODEL_5ce82af04ec246bdbc1e16bb44bae38a"
      ],
      "layout": "IPY_MODEL_4be61ee965ef47a0a060ed40b1b5e8d4"
     }
    },
    "0c2606f4ef5d4e958110680ac979acc5": {
     "model_module": "@jupyter-widgets/controls",
     "model_name": "HBoxModel",
     "state": {
      "_dom_classes": [],
      "_model_module": "@jupyter-widgets/controls",
      "_model_module_version": "1.5.0",
      "_model_name": "HBoxModel",
      "_view_count": null,
      "_view_module": "@jupyter-widgets/controls",
      "_view_module_version": "1.5.0",
      "_view_name": "HBoxView",
      "box_style": "",
      "children": [
       "IPY_MODEL_004cd83b7e8b4d3b86352db09efb344d",
       "IPY_MODEL_dbb12da6d450410abb59518302b3e28b"
      ],
      "layout": "IPY_MODEL_8750cbb2e65c44bea609c9e965174752"
     }
    },
    "133c3f8995ee4e7084b718e720d136c6": {
     "model_module": "@jupyter-widgets/base",
     "model_name": "LayoutModel",
     "state": {
      "_model_module": "@jupyter-widgets/base",
      "_model_module_version": "1.2.0",
      "_model_name": "LayoutModel",
      "_view_count": null,
      "_view_module": "@jupyter-widgets/base",
      "_view_module_version": "1.2.0",
      "_view_name": "LayoutView",
      "align_content": null,
      "align_items": null,
      "align_self": null,
      "border": null,
      "bottom": null,
      "display": null,
      "flex": null,
      "flex_flow": null,
      "grid_area": null,
      "grid_auto_columns": null,
      "grid_auto_flow": null,
      "grid_auto_rows": null,
      "grid_column": null,
      "grid_gap": null,
      "grid_row": null,
      "grid_template_areas": null,
      "grid_template_columns": null,
      "grid_template_rows": null,
      "height": null,
      "justify_content": null,
      "justify_items": null,
      "left": null,
      "margin": null,
      "max_height": null,
      "max_width": null,
      "min_height": null,
      "min_width": null,
      "object_fit": null,
      "object_position": null,
      "order": null,
      "overflow": null,
      "overflow_x": null,
      "overflow_y": null,
      "padding": null,
      "right": null,
      "top": null,
      "visibility": null,
      "width": null
     }
    },
    "1fe0cfb56e0f4283b178d21599ec395f": {
     "model_module": "@jupyter-widgets/controls",
     "model_name": "ProgressStyleModel",
     "state": {
      "_model_module": "@jupyter-widgets/controls",
      "_model_module_version": "1.5.0",
      "_model_name": "ProgressStyleModel",
      "_view_count": null,
      "_view_module": "@jupyter-widgets/base",
      "_view_module_version": "1.2.0",
      "_view_name": "StyleView",
      "bar_color": null,
      "description_width": "initial"
     }
    },
    "32cdbd7fc1b840feb59014c1ec298eba": {
     "model_module": "@jupyter-widgets/base",
     "model_name": "LayoutModel",
     "state": {
      "_model_module": "@jupyter-widgets/base",
      "_model_module_version": "1.2.0",
      "_model_name": "LayoutModel",
      "_view_count": null,
      "_view_module": "@jupyter-widgets/base",
      "_view_module_version": "1.2.0",
      "_view_name": "LayoutView",
      "align_content": null,
      "align_items": null,
      "align_self": null,
      "border": null,
      "bottom": null,
      "display": null,
      "flex": null,
      "flex_flow": null,
      "grid_area": null,
      "grid_auto_columns": null,
      "grid_auto_flow": null,
      "grid_auto_rows": null,
      "grid_column": null,
      "grid_gap": null,
      "grid_row": null,
      "grid_template_areas": null,
      "grid_template_columns": null,
      "grid_template_rows": null,
      "height": null,
      "justify_content": null,
      "justify_items": null,
      "left": null,
      "margin": null,
      "max_height": null,
      "max_width": null,
      "min_height": null,
      "min_width": null,
      "object_fit": null,
      "object_position": null,
      "order": null,
      "overflow": null,
      "overflow_x": null,
      "overflow_y": null,
      "padding": null,
      "right": null,
      "top": null,
      "visibility": null,
      "width": null
     }
    },
    "3e527a71a4504f3cbc0068f8cb8fa6aa": {
     "model_module": "@jupyter-widgets/controls",
     "model_name": "FloatProgressModel",
     "state": {
      "_dom_classes": [],
      "_model_module": "@jupyter-widgets/controls",
      "_model_module_version": "1.5.0",
      "_model_name": "FloatProgressModel",
      "_view_count": null,
      "_view_module": "@jupyter-widgets/controls",
      "_view_module_version": "1.5.0",
      "_view_name": "ProgressView",
      "bar_style": "success",
      "description": "",
      "description_tooltip": null,
      "layout": "IPY_MODEL_dbd749d766794c9385108c8c395705fe",
      "max": 1,
      "min": 0,
      "orientation": "horizontal",
      "style": "IPY_MODEL_ecda9b22ac784313890d83d896921243",
      "value": 1
     }
    },
    "4be61ee965ef47a0a060ed40b1b5e8d4": {
     "model_module": "@jupyter-widgets/base",
     "model_name": "LayoutModel",
     "state": {
      "_model_module": "@jupyter-widgets/base",
      "_model_module_version": "1.2.0",
      "_model_name": "LayoutModel",
      "_view_count": null,
      "_view_module": "@jupyter-widgets/base",
      "_view_module_version": "1.2.0",
      "_view_name": "LayoutView",
      "align_content": null,
      "align_items": null,
      "align_self": null,
      "border": null,
      "bottom": null,
      "display": null,
      "flex": null,
      "flex_flow": null,
      "grid_area": null,
      "grid_auto_columns": null,
      "grid_auto_flow": null,
      "grid_auto_rows": null,
      "grid_column": null,
      "grid_gap": null,
      "grid_row": null,
      "grid_template_areas": null,
      "grid_template_columns": null,
      "grid_template_rows": null,
      "height": null,
      "justify_content": null,
      "justify_items": null,
      "left": null,
      "margin": null,
      "max_height": null,
      "max_width": null,
      "min_height": null,
      "min_width": null,
      "object_fit": null,
      "object_position": null,
      "order": null,
      "overflow": null,
      "overflow_x": null,
      "overflow_y": null,
      "padding": null,
      "right": null,
      "top": null,
      "visibility": null,
      "width": null
     }
    },
    "4ceb532ee9d4424ca297ad2a3d189b8e": {
     "model_module": "@jupyter-widgets/controls",
     "model_name": "FloatProgressModel",
     "state": {
      "_dom_classes": [],
      "_model_module": "@jupyter-widgets/controls",
      "_model_module_version": "1.5.0",
      "_model_name": "FloatProgressModel",
      "_view_count": null,
      "_view_module": "@jupyter-widgets/controls",
      "_view_module_version": "1.5.0",
      "_view_name": "ProgressView",
      "bar_style": "success",
      "description": "",
      "description_tooltip": null,
      "layout": "IPY_MODEL_32cdbd7fc1b840feb59014c1ec298eba",
      "max": 1,
      "min": 0,
      "orientation": "horizontal",
      "style": "IPY_MODEL_1fe0cfb56e0f4283b178d21599ec395f",
      "value": 1
     }
    },
    "52bcd0c3af3e4421ad93db94c654e1bb": {
     "model_module": "@jupyter-widgets/controls",
     "model_name": "HTMLModel",
     "state": {
      "_dom_classes": [],
      "_model_module": "@jupyter-widgets/controls",
      "_model_module_version": "1.5.0",
      "_model_name": "HTMLModel",
      "_view_count": null,
      "_view_module": "@jupyter-widgets/controls",
      "_view_module_version": "1.5.0",
      "_view_name": "HTMLView",
      "description": "",
      "description_tooltip": null,
      "layout": "IPY_MODEL_5be0aa71b06343bda7900fa901065898",
      "placeholder": "​",
      "style": "IPY_MODEL_5aaa714d7d174bb8bb311d287f2fe7f3",
      "value": " 8192/? [00:06&lt;00:00, 1339.20it/s]"
     }
    },
    "5aaa714d7d174bb8bb311d287f2fe7f3": {
     "model_module": "@jupyter-widgets/controls",
     "model_name": "DescriptionStyleModel",
     "state": {
      "_model_module": "@jupyter-widgets/controls",
      "_model_module_version": "1.5.0",
      "_model_name": "DescriptionStyleModel",
      "_view_count": null,
      "_view_module": "@jupyter-widgets/base",
      "_view_module_version": "1.2.0",
      "_view_name": "StyleView",
      "description_width": ""
     }
    },
    "5aee6be5fdcf49909ffbea03105d370a": {
     "model_module": "@jupyter-widgets/controls",
     "model_name": "DescriptionStyleModel",
     "state": {
      "_model_module": "@jupyter-widgets/controls",
      "_model_module_version": "1.5.0",
      "_model_name": "DescriptionStyleModel",
      "_view_count": null,
      "_view_module": "@jupyter-widgets/base",
      "_view_module_version": "1.2.0",
      "_view_name": "StyleView",
      "description_width": ""
     }
    },
    "5be0aa71b06343bda7900fa901065898": {
     "model_module": "@jupyter-widgets/base",
     "model_name": "LayoutModel",
     "state": {
      "_model_module": "@jupyter-widgets/base",
      "_model_module_version": "1.2.0",
      "_model_name": "LayoutModel",
      "_view_count": null,
      "_view_module": "@jupyter-widgets/base",
      "_view_module_version": "1.2.0",
      "_view_name": "LayoutView",
      "align_content": null,
      "align_items": null,
      "align_self": null,
      "border": null,
      "bottom": null,
      "display": null,
      "flex": null,
      "flex_flow": null,
      "grid_area": null,
      "grid_auto_columns": null,
      "grid_auto_flow": null,
      "grid_auto_rows": null,
      "grid_column": null,
      "grid_gap": null,
      "grid_row": null,
      "grid_template_areas": null,
      "grid_template_columns": null,
      "grid_template_rows": null,
      "height": null,
      "justify_content": null,
      "justify_items": null,
      "left": null,
      "margin": null,
      "max_height": null,
      "max_width": null,
      "min_height": null,
      "min_width": null,
      "object_fit": null,
      "object_position": null,
      "order": null,
      "overflow": null,
      "overflow_x": null,
      "overflow_y": null,
      "padding": null,
      "right": null,
      "top": null,
      "visibility": null,
      "width": null
     }
    },
    "5c7f1a41bf454c29a3c33358d42009ce": {
     "model_module": "@jupyter-widgets/controls",
     "model_name": "HBoxModel",
     "state": {
      "_dom_classes": [],
      "_model_module": "@jupyter-widgets/controls",
      "_model_module_version": "1.5.0",
      "_model_name": "HBoxModel",
      "_view_count": null,
      "_view_module": "@jupyter-widgets/controls",
      "_view_module_version": "1.5.0",
      "_view_name": "HBoxView",
      "box_style": "",
      "children": [
       "IPY_MODEL_f086b2b0583d4f8984b98e48de2118bf",
       "IPY_MODEL_8c7fe12bbe67492b8de1569e1db852ec"
      ],
      "layout": "IPY_MODEL_80b94fdd99b5402db2e3d3a388514508"
     }
    },
    "5ce82af04ec246bdbc1e16bb44bae38a": {
     "model_module": "@jupyter-widgets/controls",
     "model_name": "HTMLModel",
     "state": {
      "_dom_classes": [],
      "_model_module": "@jupyter-widgets/controls",
      "_model_module_version": "1.5.0",
      "_model_name": "HTMLModel",
      "_view_count": null,
      "_view_module": "@jupyter-widgets/controls",
      "_view_module_version": "1.5.0",
      "_view_name": "HTMLView",
      "description": "",
      "description_tooltip": null,
      "layout": "IPY_MODEL_92d479d228924b92a84e3da835e5ce3f",
      "placeholder": "​",
      "style": "IPY_MODEL_02a091b4955f4ab7a334e205abcbc866",
      "value": " 1654784/? [00:06&lt;00:00, 255395.56it/s]"
     }
    },
    "80b94fdd99b5402db2e3d3a388514508": {
     "model_module": "@jupyter-widgets/base",
     "model_name": "LayoutModel",
     "state": {
      "_model_module": "@jupyter-widgets/base",
      "_model_module_version": "1.2.0",
      "_model_name": "LayoutModel",
      "_view_count": null,
      "_view_module": "@jupyter-widgets/base",
      "_view_module_version": "1.2.0",
      "_view_name": "LayoutView",
      "align_content": null,
      "align_items": null,
      "align_self": null,
      "border": null,
      "bottom": null,
      "display": null,
      "flex": null,
      "flex_flow": null,
      "grid_area": null,
      "grid_auto_columns": null,
      "grid_auto_flow": null,
      "grid_auto_rows": null,
      "grid_column": null,
      "grid_gap": null,
      "grid_row": null,
      "grid_template_areas": null,
      "grid_template_columns": null,
      "grid_template_rows": null,
      "height": null,
      "justify_content": null,
      "justify_items": null,
      "left": null,
      "margin": null,
      "max_height": null,
      "max_width": null,
      "min_height": null,
      "min_width": null,
      "object_fit": null,
      "object_position": null,
      "order": null,
      "overflow": null,
      "overflow_x": null,
      "overflow_y": null,
      "padding": null,
      "right": null,
      "top": null,
      "visibility": null,
      "width": null
     }
    },
    "8750cbb2e65c44bea609c9e965174752": {
     "model_module": "@jupyter-widgets/base",
     "model_name": "LayoutModel",
     "state": {
      "_model_module": "@jupyter-widgets/base",
      "_model_module_version": "1.2.0",
      "_model_name": "LayoutModel",
      "_view_count": null,
      "_view_module": "@jupyter-widgets/base",
      "_view_module_version": "1.2.0",
      "_view_name": "LayoutView",
      "align_content": null,
      "align_items": null,
      "align_self": null,
      "border": null,
      "bottom": null,
      "display": null,
      "flex": null,
      "flex_flow": null,
      "grid_area": null,
      "grid_auto_columns": null,
      "grid_auto_flow": null,
      "grid_auto_rows": null,
      "grid_column": null,
      "grid_gap": null,
      "grid_row": null,
      "grid_template_areas": null,
      "grid_template_columns": null,
      "grid_template_rows": null,
      "height": null,
      "justify_content": null,
      "justify_items": null,
      "left": null,
      "margin": null,
      "max_height": null,
      "max_width": null,
      "min_height": null,
      "min_width": null,
      "object_fit": null,
      "object_position": null,
      "order": null,
      "overflow": null,
      "overflow_x": null,
      "overflow_y": null,
      "padding": null,
      "right": null,
      "top": null,
      "visibility": null,
      "width": null
     }
    },
    "8c7fe12bbe67492b8de1569e1db852ec": {
     "model_module": "@jupyter-widgets/controls",
     "model_name": "HTMLModel",
     "state": {
      "_dom_classes": [],
      "_model_module": "@jupyter-widgets/controls",
      "_model_module_version": "1.5.0",
      "_model_name": "HTMLModel",
      "_view_count": null,
      "_view_module": "@jupyter-widgets/controls",
      "_view_module_version": "1.5.0",
      "_view_name": "HTMLView",
      "description": "",
      "description_tooltip": null,
      "layout": "IPY_MODEL_aad43136ea74473c845039a35c8b2249",
      "placeholder": "​",
      "style": "IPY_MODEL_bae5ed8fc70a4df598be89d14c3473d8",
      "value": " 9920512/? [00:07&lt;00:00, 1271918.60it/s]"
     }
    },
    "92d479d228924b92a84e3da835e5ce3f": {
     "model_module": "@jupyter-widgets/base",
     "model_name": "LayoutModel",
     "state": {
      "_model_module": "@jupyter-widgets/base",
      "_model_module_version": "1.2.0",
      "_model_name": "LayoutModel",
      "_view_count": null,
      "_view_module": "@jupyter-widgets/base",
      "_view_module_version": "1.2.0",
      "_view_name": "LayoutView",
      "align_content": null,
      "align_items": null,
      "align_self": null,
      "border": null,
      "bottom": null,
      "display": null,
      "flex": null,
      "flex_flow": null,
      "grid_area": null,
      "grid_auto_columns": null,
      "grid_auto_flow": null,
      "grid_auto_rows": null,
      "grid_column": null,
      "grid_gap": null,
      "grid_row": null,
      "grid_template_areas": null,
      "grid_template_columns": null,
      "grid_template_rows": null,
      "height": null,
      "justify_content": null,
      "justify_items": null,
      "left": null,
      "margin": null,
      "max_height": null,
      "max_width": null,
      "min_height": null,
      "min_width": null,
      "object_fit": null,
      "object_position": null,
      "order": null,
      "overflow": null,
      "overflow_x": null,
      "overflow_y": null,
      "padding": null,
      "right": null,
      "top": null,
      "visibility": null,
      "width": null
     }
    },
    "97561c9d627a4cdc9ea0b7052723df96": {
     "model_module": "@jupyter-widgets/base",
     "model_name": "LayoutModel",
     "state": {
      "_model_module": "@jupyter-widgets/base",
      "_model_module_version": "1.2.0",
      "_model_name": "LayoutModel",
      "_view_count": null,
      "_view_module": "@jupyter-widgets/base",
      "_view_module_version": "1.2.0",
      "_view_name": "LayoutView",
      "align_content": null,
      "align_items": null,
      "align_self": null,
      "border": null,
      "bottom": null,
      "display": null,
      "flex": null,
      "flex_flow": null,
      "grid_area": null,
      "grid_auto_columns": null,
      "grid_auto_flow": null,
      "grid_auto_rows": null,
      "grid_column": null,
      "grid_gap": null,
      "grid_row": null,
      "grid_template_areas": null,
      "grid_template_columns": null,
      "grid_template_rows": null,
      "height": null,
      "justify_content": null,
      "justify_items": null,
      "left": null,
      "margin": null,
      "max_height": null,
      "max_width": null,
      "min_height": null,
      "min_width": null,
      "object_fit": null,
      "object_position": null,
      "order": null,
      "overflow": null,
      "overflow_x": null,
      "overflow_y": null,
      "padding": null,
      "right": null,
      "top": null,
      "visibility": null,
      "width": null
     }
    },
    "979c69278eea458a987ec0a531dae9bf": {
     "model_module": "@jupyter-widgets/controls",
     "model_name": "ProgressStyleModel",
     "state": {
      "_model_module": "@jupyter-widgets/controls",
      "_model_module_version": "1.5.0",
      "_model_name": "ProgressStyleModel",
      "_view_count": null,
      "_view_module": "@jupyter-widgets/base",
      "_view_module_version": "1.2.0",
      "_view_name": "StyleView",
      "bar_color": null,
      "description_width": "initial"
     }
    },
    "a5b40e19d4424a4eb8a12ae6c638d901": {
     "model_module": "@jupyter-widgets/base",
     "model_name": "LayoutModel",
     "state": {
      "_model_module": "@jupyter-widgets/base",
      "_model_module_version": "1.2.0",
      "_model_name": "LayoutModel",
      "_view_count": null,
      "_view_module": "@jupyter-widgets/base",
      "_view_module_version": "1.2.0",
      "_view_name": "LayoutView",
      "align_content": null,
      "align_items": null,
      "align_self": null,
      "border": null,
      "bottom": null,
      "display": null,
      "flex": null,
      "flex_flow": null,
      "grid_area": null,
      "grid_auto_columns": null,
      "grid_auto_flow": null,
      "grid_auto_rows": null,
      "grid_column": null,
      "grid_gap": null,
      "grid_row": null,
      "grid_template_areas": null,
      "grid_template_columns": null,
      "grid_template_rows": null,
      "height": null,
      "justify_content": null,
      "justify_items": null,
      "left": null,
      "margin": null,
      "max_height": null,
      "max_width": null,
      "min_height": null,
      "min_width": null,
      "object_fit": null,
      "object_position": null,
      "order": null,
      "overflow": null,
      "overflow_x": null,
      "overflow_y": null,
      "padding": null,
      "right": null,
      "top": null,
      "visibility": null,
      "width": null
     }
    },
    "aad43136ea74473c845039a35c8b2249": {
     "model_module": "@jupyter-widgets/base",
     "model_name": "LayoutModel",
     "state": {
      "_model_module": "@jupyter-widgets/base",
      "_model_module_version": "1.2.0",
      "_model_name": "LayoutModel",
      "_view_count": null,
      "_view_module": "@jupyter-widgets/base",
      "_view_module_version": "1.2.0",
      "_view_name": "LayoutView",
      "align_content": null,
      "align_items": null,
      "align_self": null,
      "border": null,
      "bottom": null,
      "display": null,
      "flex": null,
      "flex_flow": null,
      "grid_area": null,
      "grid_auto_columns": null,
      "grid_auto_flow": null,
      "grid_auto_rows": null,
      "grid_column": null,
      "grid_gap": null,
      "grid_row": null,
      "grid_template_areas": null,
      "grid_template_columns": null,
      "grid_template_rows": null,
      "height": null,
      "justify_content": null,
      "justify_items": null,
      "left": null,
      "margin": null,
      "max_height": null,
      "max_width": null,
      "min_height": null,
      "min_width": null,
      "object_fit": null,
      "object_position": null,
      "order": null,
      "overflow": null,
      "overflow_x": null,
      "overflow_y": null,
      "padding": null,
      "right": null,
      "top": null,
      "visibility": null,
      "width": null
     }
    },
    "bae5ed8fc70a4df598be89d14c3473d8": {
     "model_module": "@jupyter-widgets/controls",
     "model_name": "DescriptionStyleModel",
     "state": {
      "_model_module": "@jupyter-widgets/controls",
      "_model_module_version": "1.5.0",
      "_model_name": "DescriptionStyleModel",
      "_view_count": null,
      "_view_module": "@jupyter-widgets/base",
      "_view_module_version": "1.2.0",
      "_view_name": "StyleView",
      "description_width": ""
     }
    },
    "bfd7bb72baf744949bb1ece00a9e69e8": {
     "model_module": "@jupyter-widgets/base",
     "model_name": "LayoutModel",
     "state": {
      "_model_module": "@jupyter-widgets/base",
      "_model_module_version": "1.2.0",
      "_model_name": "LayoutModel",
      "_view_count": null,
      "_view_module": "@jupyter-widgets/base",
      "_view_module_version": "1.2.0",
      "_view_name": "LayoutView",
      "align_content": null,
      "align_items": null,
      "align_self": null,
      "border": null,
      "bottom": null,
      "display": null,
      "flex": null,
      "flex_flow": null,
      "grid_area": null,
      "grid_auto_columns": null,
      "grid_auto_flow": null,
      "grid_auto_rows": null,
      "grid_column": null,
      "grid_gap": null,
      "grid_row": null,
      "grid_template_areas": null,
      "grid_template_columns": null,
      "grid_template_rows": null,
      "height": null,
      "justify_content": null,
      "justify_items": null,
      "left": null,
      "margin": null,
      "max_height": null,
      "max_width": null,
      "min_height": null,
      "min_width": null,
      "object_fit": null,
      "object_position": null,
      "order": null,
      "overflow": null,
      "overflow_x": null,
      "overflow_y": null,
      "padding": null,
      "right": null,
      "top": null,
      "visibility": null,
      "width": null
     }
    },
    "dbb12da6d450410abb59518302b3e28b": {
     "model_module": "@jupyter-widgets/controls",
     "model_name": "HTMLModel",
     "state": {
      "_dom_classes": [],
      "_model_module": "@jupyter-widgets/controls",
      "_model_module_version": "1.5.0",
      "_model_name": "HTMLModel",
      "_view_count": null,
      "_view_module": "@jupyter-widgets/controls",
      "_view_module_version": "1.5.0",
      "_view_name": "HTMLView",
      "description": "",
      "description_tooltip": null,
      "layout": "IPY_MODEL_97561c9d627a4cdc9ea0b7052723df96",
      "placeholder": "​",
      "style": "IPY_MODEL_5aee6be5fdcf49909ffbea03105d370a",
      "value": " 32768/? [00:06&lt;00:00, 4772.21it/s]"
     }
    },
    "dbd749d766794c9385108c8c395705fe": {
     "model_module": "@jupyter-widgets/base",
     "model_name": "LayoutModel",
     "state": {
      "_model_module": "@jupyter-widgets/base",
      "_model_module_version": "1.2.0",
      "_model_name": "LayoutModel",
      "_view_count": null,
      "_view_module": "@jupyter-widgets/base",
      "_view_module_version": "1.2.0",
      "_view_name": "LayoutView",
      "align_content": null,
      "align_items": null,
      "align_self": null,
      "border": null,
      "bottom": null,
      "display": null,
      "flex": null,
      "flex_flow": null,
      "grid_area": null,
      "grid_auto_columns": null,
      "grid_auto_flow": null,
      "grid_auto_rows": null,
      "grid_column": null,
      "grid_gap": null,
      "grid_row": null,
      "grid_template_areas": null,
      "grid_template_columns": null,
      "grid_template_rows": null,
      "height": null,
      "justify_content": null,
      "justify_items": null,
      "left": null,
      "margin": null,
      "max_height": null,
      "max_width": null,
      "min_height": null,
      "min_width": null,
      "object_fit": null,
      "object_position": null,
      "order": null,
      "overflow": null,
      "overflow_x": null,
      "overflow_y": null,
      "padding": null,
      "right": null,
      "top": null,
      "visibility": null,
      "width": null
     }
    },
    "dbee07d53a7643469574b49d7b51e1cc": {
     "model_module": "@jupyter-widgets/controls",
     "model_name": "HBoxModel",
     "state": {
      "_dom_classes": [],
      "_model_module": "@jupyter-widgets/controls",
      "_model_module_version": "1.5.0",
      "_model_name": "HBoxModel",
      "_view_count": null,
      "_view_module": "@jupyter-widgets/controls",
      "_view_module_version": "1.5.0",
      "_view_name": "HBoxView",
      "box_style": "",
      "children": [
       "IPY_MODEL_3e527a71a4504f3cbc0068f8cb8fa6aa",
       "IPY_MODEL_52bcd0c3af3e4421ad93db94c654e1bb"
      ],
      "layout": "IPY_MODEL_bfd7bb72baf744949bb1ece00a9e69e8"
     }
    },
    "ecda9b22ac784313890d83d896921243": {
     "model_module": "@jupyter-widgets/controls",
     "model_name": "ProgressStyleModel",
     "state": {
      "_model_module": "@jupyter-widgets/controls",
      "_model_module_version": "1.5.0",
      "_model_name": "ProgressStyleModel",
      "_view_count": null,
      "_view_module": "@jupyter-widgets/base",
      "_view_module_version": "1.2.0",
      "_view_name": "StyleView",
      "bar_color": null,
      "description_width": "initial"
     }
    },
    "f086b2b0583d4f8984b98e48de2118bf": {
     "model_module": "@jupyter-widgets/controls",
     "model_name": "FloatProgressModel",
     "state": {
      "_dom_classes": [],
      "_model_module": "@jupyter-widgets/controls",
      "_model_module_version": "1.5.0",
      "_model_name": "FloatProgressModel",
      "_view_count": null,
      "_view_module": "@jupyter-widgets/controls",
      "_view_module_version": "1.5.0",
      "_view_name": "ProgressView",
      "bar_style": "success",
      "description": "",
      "description_tooltip": null,
      "layout": "IPY_MODEL_133c3f8995ee4e7084b718e720d136c6",
      "max": 1,
      "min": 0,
      "orientation": "horizontal",
      "style": "IPY_MODEL_f56d661bdb34417490844c1a93e5cae1",
      "value": 1
     }
    },
    "f56d661bdb34417490844c1a93e5cae1": {
     "model_module": "@jupyter-widgets/controls",
     "model_name": "ProgressStyleModel",
     "state": {
      "_model_module": "@jupyter-widgets/controls",
      "_model_module_version": "1.5.0",
      "_model_name": "ProgressStyleModel",
      "_view_count": null,
      "_view_module": "@jupyter-widgets/base",
      "_view_module_version": "1.2.0",
      "_view_name": "StyleView",
      "bar_color": null,
      "description_width": "initial"
     }
    }
   }
  }
 },
 "nbformat": 4,
 "nbformat_minor": 1
}
